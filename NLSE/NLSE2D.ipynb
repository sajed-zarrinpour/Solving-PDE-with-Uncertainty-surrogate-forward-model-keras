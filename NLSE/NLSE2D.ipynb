{
 "cells": [
  {
   "cell_type": "markdown",
   "metadata": {},
   "source": [
    "#  NLSE in 2D\n",
    "The equation that we want to solve is :\n",
    "\n",
    "$-\\Delta u(x) + a(x)u(x) + \\sigma u(x)^3 = E_0 u(x)$.\n",
    "\n",
    "The equation had been solved in gnu-octave, the script is presented. also note that each sample is in one seperate Matlab 6 compatible `.mat` file, and the seperation had been done in the script itself. Due to larg amount of small files, I did compress the `data` folder for ease of use. If you want to run the code in here, you have to unzip `./octave/NLSE2D/data.zip'."
   ]
  },
  {
   "cell_type": "markdown",
   "metadata": {},
   "source": [
    "The data were generated in matlab 6 compatible format with GNU-Octave. Let's import it:"
   ]
  },
  {
   "cell_type": "code",
   "execution_count": 99,
   "metadata": {},
   "outputs": [],
   "source": [
    "from scipy.io import loadmat\n",
    "from os import listdir\n",
    "from os.path import isfile, join\n",
    "import numpy as np\n",
    "\n",
    "test_path = './octave/NLSE2D/data/test'\n",
    "onlyfiles = [f for f in listdir(test_path) if isfile(join(test_path, f))]\n",
    "E_test = []\n",
    "V_test = []\n",
    "a_test = []\n",
    "onlyfiles.sort(key=lambda f: int(filter(str.isdigit, f)))\n",
    "for file in onlyfiles:\n",
    "    f = loadmat(test_path+'/'+file)\n",
    "    E_test.append(f['E'][-1][-1])\n",
    "    V_test.append(f['V'].flatten())\n",
    "    a_test.append(f['a'])\n",
    "    \n",
    "train_path = './octave/NLSE2D/data/train'\n",
    "onlyfiles = [f for f in listdir(train_path) if isfile(join(train_path, f))]\n",
    "E_train = []\n",
    "V_train = []\n",
    "a_train = []\n",
    "onlyfiles.sort(key=lambda f: int(filter(str.isdigit, f)))\n",
    "for file in onlyfiles:\n",
    "    f = loadmat(train_path+'/'+file)\n",
    "    E_train.append(f['E'][-1][-1])\n",
    "    V_train.append(f['V'].flatten())\n",
    "    a_train.append(f['a'])\n",
    "\n",
    "data = np.array(a_train)\n",
    "d_test = np.array(a_test)\n",
    "labels = np.array(E_train)\n",
    "l_test = np.array(E_test)\n",
    "\n",
    "# Number of mesh points per axis, which later will be used to calculated the number of neurons per layer\n",
    "n = data.shape[1] # in our case 9"
   ]
  },
  {
   "cell_type": "markdown",
   "metadata": {},
   "source": [
    "Next we go for normilization, if any needed. Here we normalize our labels to have the mean of zero and variance of 1 (called zscore normalization):"
   ]
  },
  {
   "cell_type": "code",
   "execution_count": 100,
   "metadata": {},
   "outputs": [],
   "source": [
    "def zscore_normalize(E):\n",
    "    std = np.std(E)\n",
    "    mean = np.mean(E)\n",
    "    for i in range(len(E)):\n",
    "        E[i] = (E[i]-mean)/std\n",
    "    return E"
   ]
  },
  {
   "cell_type": "code",
   "execution_count": 101,
   "metadata": {},
   "outputs": [],
   "source": [
    "E_test = zscore_normalize(E_test)\n",
    "E_train = zscore_normalize(E_train)"
   ]
  },
  {
   "cell_type": "code",
   "execution_count": 102,
   "metadata": {},
   "outputs": [],
   "source": [
    "for i in range(len(a_train)):\n",
    "    a_train[i] = zscore_normalize(a_train[i])\n",
    "for i in range(len(a_test)):\n",
    "    a_test[i] = zscore_normalize(a_test[i])"
   ]
  },
  {
   "cell_type": "markdown",
   "metadata": {},
   "source": [
    "Next, we do padding. Data size after padding would be $2n-1$, the we do a padding of size $floor(n/2)$ around the original input. This is not the best way to do it, but it will do. to see what it would produce afterwards I included an example for more clarity:"
   ]
  },
  {
   "cell_type": "code",
   "execution_count": 103,
   "metadata": {},
   "outputs": [],
   "source": [
    "def wrap_pad(input, size):\n",
    "    M1 = tf.concat([input[:,:, -size:], input, input[:,:, 0:size]], 2)\n",
    "    M1 = tf.concat([M1[:,-size:, :], M1, M1[:,0:size, :]], 1)\n",
    "    return M1"
   ]
  },
  {
   "cell_type": "code",
   "execution_count": 104,
   "metadata": {},
   "outputs": [
    {
     "name": "stdout",
     "output_type": "stream",
     "text": [
      "original tensor\n",
      "\n",
      "[[[ 1  2]\n",
      "  [ 3  4]]\n",
      "\n",
      " [[ 5  6]\n",
      "  [ 7  8]]\n",
      "\n",
      " [[ 9 10]\n",
      "  [11 12]]]\n",
      "\n",
      " padded tensor\n",
      "\n",
      "[[[ 4  3  4  3]\n",
      "  [ 2  1  2  1]\n",
      "  [ 4  3  4  3]\n",
      "  [ 2  1  2  1]]\n",
      "\n",
      " [[ 8  7  8  7]\n",
      "  [ 6  5  6  5]\n",
      "  [ 8  7  8  7]\n",
      "  [ 6  5  6  5]]\n",
      "\n",
      " [[12 11 12 11]\n",
      "  [10  9 10  9]\n",
      "  [12 11 12 11]\n",
      "  [10  9 10  9]]]\n"
     ]
    }
   ],
   "source": [
    "a = tf.constant(np.arange(1, 13, dtype=np.int32), shape=[3, 2, 2])\n",
    "print \"original tensor\\n\"\n",
    "print a.eval()\n",
    "p = wrap_pad(a, 1)\n",
    "print \"\\n padded tensor\\n\"\n",
    "print p.eval()"
   ]
  },
  {
   "cell_type": "code",
   "execution_count": null,
   "metadata": {},
   "outputs": [],
   "source": [
    "import tensorflow as tf\n",
    "session = tf.InteractiveSession()"
   ]
  },
  {
   "cell_type": "code",
   "execution_count": 106,
   "metadata": {
    "code_folding": []
   },
   "outputs": [],
   "source": [
    "import tensorflow as tf\n",
    "from keras import layers\n",
    "from tensorflow.keras.layers import InputSpec \n",
    "from tensorflow.python.keras.utils import conv_utils\n",
    "\n",
    "class PeriodicPadding2D(layers.Layer):\n",
    "  \"\"\"Periodic-padding layer for 2D input.\n",
    "  \"\"\"\n",
    "\n",
    "  def __init__(self, padding=1, **kwargs):\n",
    "    super(PeriodicPadding2D, self).__init__(**kwargs)\n",
    "    self.padding = conv_utils.normalize_tuple(padding, 1, 'padding')\n",
    "    self.input_spec = InputSpec(ndim=3)\n",
    "  def wrap_pad(self, input, size):\n",
    "    M1 = tf.concat([input[:,:, -size:], input, input[:,:, 0:size]], 2)\n",
    "    M1 = tf.concat([M1[:,-size:, :], M1, M1[:,0:size, :]], 1)\n",
    "    return M1\n",
    "    \n",
    "  def compute_output_shape(self, input_shape):\n",
    "    shape = list(input_shape)\n",
    "    assert len(shape) == 3  # only valid for 2D tensors\n",
    "    if shape[1] is not None:\n",
    "      length = shape[1] + 2*self.padding[0]\n",
    "    else:\n",
    "      length = None\n",
    "    return tuple([shape[0], length, length])\n",
    "\n",
    "  def call(self, inputs): \n",
    "    return self.wrap_pad(inputs, self.padding[0])\n",
    "\n",
    "  def get_config(self):\n",
    "    config = {'padding': self.padding}\n",
    "    base_config = super(PeriodicPadding2D, self).get_config()\n",
    "    return dict(list(base_config.items()) + list(config.items()))\n"
   ]
  },
  {
   "cell_type": "markdown",
   "metadata": {},
   "source": [
    "Now that the pre processing on the data had been finished, we go for the actual network:"
   ]
  },
  {
   "cell_type": "code",
   "execution_count": 107,
   "metadata": {},
   "outputs": [],
   "source": [
    "import keras\n",
    "import tensorflow as tf\n",
    "from keras import optimizers \n",
    "from keras.models import Model\n",
    "from keras.callbacks import CSVLogger\n",
    "from keras.layers import Input, Dense, add, Activation ,Reshape, Conv1D,Conv2D, Flatten ,GlobalAveragePooling2D , Lambda"
   ]
  },
  {
   "cell_type": "markdown",
   "metadata": {},
   "source": [
    "It would be convinient to have some callbacks. Specially eraly stopping callback. which ends the learning process if loss function stop descending and start to raise, and restores the best epoch's weights:"
   ]
  },
  {
   "cell_type": "code",
   "execution_count": 108,
   "metadata": {},
   "outputs": [],
   "source": [
    "class EarlyStoppingAtMinLoss(tf.keras.callbacks.Callback):\n",
    "  \"\"\"Stop training when the loss is at its min, i.e. the loss stops decreasing.\n",
    "\n",
    "  Arguments:\n",
    "      patience: Number of epochs to wait after min has been hit. After this\n",
    "      number of no improvement, training stops.\n",
    "  \"\"\"\n",
    "\n",
    "  def __init__(self, patience=20):\n",
    "    super(EarlyStoppingAtMinLoss, self).__init__()\n",
    "\n",
    "    self.patience = patience\n",
    "\n",
    "    # best_weights to store the weights at which the minimum loss occurs.\n",
    "    self.best_weights = None\n",
    "\n",
    "  def on_train_begin(self, logs=None):\n",
    "    # The number of epoch it has waited when loss is no longer minimum.\n",
    "    self.wait = 0\n",
    "    # The epoch the training stops at.\n",
    "    self.stopped_epoch = 0\n",
    "    # Initialize the best as infinity.\n",
    "    self.best = np.Inf\n",
    "\n",
    "  def on_epoch_end(self, epoch, logs=None):\n",
    "    current = logs.get('loss')\n",
    "    if np.less(current, self.best):\n",
    "      self.best = current\n",
    "      self.wait = 0\n",
    "      # Record the best weights if current results is better (less).\n",
    "      self.best_weights = self.model.get_weights()\n",
    "    else:\n",
    "      self.wait += 1\n",
    "      if self.wait >= self.patience:\n",
    "        self.stopped_epoch = epoch\n",
    "        self.model.stop_training = True\n",
    "        print('Restoring model weights from the end of the best epoch.')\n",
    "        self.model.set_weights(self.best_weights)\n",
    "\n",
    "  def on_train_end(self, logs=None):\n",
    "    if self.stopped_epoch > 0:\n",
    "      print('Epoch %05d: early stopping' % (self.stopped_epoch + 1))\n",
    "    \n",
    "\n",
    "\n",
    "call = CSVLogger('report.csv', separator=',', append=True)"
   ]
  },
  {
   "cell_type": "markdown",
   "metadata": {},
   "source": [
    "Lets define the actual network"
   ]
  },
  {
   "cell_type": "markdown",
   "metadata": {},
   "source": [
    "Next we define the network parameters"
   ]
  },
  {
   "cell_type": "code",
   "execution_count": 109,
   "metadata": {},
   "outputs": [],
   "source": [
    "# The Number of channels\n",
    "alpha = 5\n",
    "kernel_size = (n,n)\n",
    "activation = 'relu'\n",
    "padding = 'same'\n",
    "\n",
    "# This one is a bit tricky. I used a global average layer and a lambda layer to do sumpooling, \n",
    "# first sums every elements in data and second I multiply them to the pool size\n",
    "size_of_input = n^2"
   ]
  },
  {
   "cell_type": "markdown",
   "metadata": {},
   "source": [
    "Note how the input vector goas through the network similar to ResNet Structure, also note that the input to the network is the padded data:"
   ]
  },
  {
   "cell_type": "code",
   "execution_count": 111,
   "metadata": {},
   "outputs": [
    {
     "name": "stdout",
     "output_type": "stream",
     "text": [
      "Tensor(\"input_18:0\", shape=(?, 9, 9), dtype=float32)\n",
      "Tensor(\"reshape_35/Reshape:0\", shape=(?, 9, 9, 1), dtype=float32)\n",
      "Tensor(\"periodic_padding2d_18/concat_1:0\", shape=(?, 17, 17), dtype=float32)\n",
      "Tensor(\"reshape_36/Reshape:0\", shape=(?, 17, 17, 1), dtype=float32)\n",
      "Tensor(\"conv2d_55/Relu:0\", shape=(?, 17, 17, 5), dtype=float32)\n",
      "Tensor(\"conv2d_56/Relu:0\", shape=(?, 17, 17, 1), dtype=float32)\n",
      "Tensor(\"global_average_pooling2d_13/Mean:0\", shape=(?, 1), dtype=float32)\n",
      "Tensor(\"lambda_12/mul:0\", shape=(?, 1), dtype=float32)\n",
      "Tensor(\"conv2d_57/Relu:0\", shape=(?, 9, 9, 5), dtype=float32)\n",
      "Tensor(\"conv2d_58/Relu:0\", shape=(?, 9, 9, 1), dtype=float32)\n",
      "Tensor(\"flatten_10/Reshape:0\", shape=(?, ?), dtype=float32)\n",
      "Tensor(\"dense_10/BiasAdd:0\", shape=(?, 1), dtype=float32)\n"
     ]
    }
   ],
   "source": [
    "from keras.backend import int_shape\n",
    "stack = []\n",
    "inputTensor = Input(shape=(n,n))\n",
    "\n",
    "stack.append(Reshape((n, n, 1))(inputTensor))#shortcut connection\n",
    "stack.append(PeriodicPadding2D(padding=int(np.floor(n/2)), input_shape=(n,n))(inputTensor))\n",
    "stack.append(Reshape((int_shape(stack[len(stack)-1])[1], int_shape(stack[len(stack)-1])[2], 1))(stack[len(stack)-1]))\n",
    "\n",
    "# Conv blocks\n",
    "stack.append(Conv2D(alpha, kernel_size, padding='same', activation='relu')(stack[len(stack)-1]))\n",
    "stack.append(Conv2D(1, kernel_size, padding='same', activation='relu')(stack[len(stack)-1]))\n",
    "\n",
    "# Sum pooling\n",
    "stack.append(GlobalAveragePooling2D(data_format='channels_last')(stack[len(stack)-1]))\n",
    "stack.append(Lambda(lambda x: x * kernel_size[0]**2)(stack[len(stack)-1]))\n",
    "\n",
    "# Conv blocks\n",
    "stack.append(Conv2D(alpha, kernel_size, padding='same', activation='relu')(add([stack[len(stack)-1],stack[0]])))\n",
    "stack.append(Conv2D(1, kernel_size, padding='same', activation='relu')(add([stack[len(stack)-1],stack[0]])))\n",
    "\n",
    "# out\n",
    "stack.append(Flatten()(stack[len(stack)-1])) \n",
    "finalOutput = Dense(1)(stack[len(stack)-1])\n",
    "\n",
    "\n",
    "\n",
    "print inputTensor\n",
    "for i in range(len(stack)):\n",
    "    print stack[i]\n",
    "print finalOutput\n",
    "\n",
    "\n",
    "model = Model(inputTensor,finalOutput)"
   ]
  },
  {
   "cell_type": "markdown",
   "metadata": {},
   "source": [
    "Setting up the optimizar"
   ]
  },
  {
   "cell_type": "code",
   "execution_count": 112,
   "metadata": {},
   "outputs": [],
   "source": [
    "opt = optimizers.Nadam(lr=0.00005, beta_1=0.9, beta_2=0.999)"
   ]
  },
  {
   "cell_type": "markdown",
   "metadata": {},
   "source": [
    "Compiling the model"
   ]
  },
  {
   "cell_type": "code",
   "execution_count": 113,
   "metadata": {},
   "outputs": [],
   "source": [
    "model.compile(loss='mse', optimizer=opt, metrics=['mae'])"
   ]
  },
  {
   "cell_type": "markdown",
   "metadata": {},
   "source": [
    "Fitting the data (training the model):"
   ]
  },
  {
   "cell_type": "code",
   "execution_count": 114,
   "metadata": {},
   "outputs": [
    {
     "name": "stdout",
     "output_type": "stream",
     "text": [
      "Train on 5163 samples, validate on 574 samples\n",
      "Epoch 1/200\n",
      "5163/5163 [==============================] - 13s 3ms/step - loss: 63.4690 - mean_absolute_error: 6.6696 - val_loss: 28.1899 - val_mean_absolute_error: 4.2170\n",
      "Epoch 2/200\n",
      "5163/5163 [==============================] - 5s 978us/step - loss: 25.6002 - mean_absolute_error: 4.0253 - val_loss: 21.6136 - val_mean_absolute_error: 3.6856\n",
      "Epoch 3/200\n",
      "5163/5163 [==============================] - 5s 989us/step - loss: 20.3095 - mean_absolute_error: 3.5950 - val_loss: 17.1140 - val_mean_absolute_error: 3.2882\n",
      "Epoch 4/200\n",
      "5163/5163 [==============================] - 5s 1ms/step - loss: 15.8987 - mean_absolute_error: 3.1802 - val_loss: 13.4507 - val_mean_absolute_error: 2.8944\n",
      "Epoch 5/200\n",
      "5163/5163 [==============================] - 5s 985us/step - loss: 12.2309 - mean_absolute_error: 2.7749 - val_loss: 10.5078 - val_mean_absolute_error: 2.5347\n",
      "Epoch 6/200\n",
      "5163/5163 [==============================] - 5s 1ms/step - loss: 9.6059 - mean_absolute_error: 2.4596 - val_loss: 8.5324 - val_mean_absolute_error: 2.2714\n",
      "Epoch 7/200\n",
      "5163/5163 [==============================] - 5s 1ms/step - loss: 7.8589 - mean_absolute_error: 2.2264 - val_loss: 7.1986 - val_mean_absolute_error: 2.0894\n",
      "Epoch 8/200\n",
      "5163/5163 [==============================] - 5s 1ms/step - loss: 6.6424 - mean_absolute_error: 2.0463 - val_loss: 6.2214 - val_mean_absolute_error: 1.9409\n",
      "Epoch 9/200\n",
      "5163/5163 [==============================] - 5s 1ms/step - loss: 5.7499 - mean_absolute_error: 1.9019 - val_loss: 5.4996 - val_mean_absolute_error: 1.8238\n",
      "Epoch 10/200\n",
      "5163/5163 [==============================] - 5s 1ms/step - loss: 5.0771 - mean_absolute_error: 1.7859 - val_loss: 4.9427 - val_mean_absolute_error: 1.7321\n",
      "Epoch 11/200\n",
      "5163/5163 [==============================] - 5s 1ms/step - loss: 4.5486 - mean_absolute_error: 1.6906 - val_loss: 4.4726 - val_mean_absolute_error: 1.6496\n",
      "Epoch 12/200\n",
      "5163/5163 [==============================] - 5s 1ms/step - loss: 4.0988 - mean_absolute_error: 1.6048 - val_loss: 4.0399 - val_mean_absolute_error: 1.5687\n",
      "Epoch 13/200\n",
      "5163/5163 [==============================] - 5s 1ms/step - loss: 3.6849 - mean_absolute_error: 1.5212 - val_loss: 3.6309 - val_mean_absolute_error: 1.4905\n",
      "Epoch 14/200\n",
      "5163/5163 [==============================] - 5s 1ms/step - loss: 3.0504 - mean_absolute_error: 1.3789 - val_loss: 2.0879 - val_mean_absolute_error: 1.1722\n",
      "Epoch 15/200\n",
      "5163/5163 [==============================] - 6s 1ms/step - loss: 1.8282 - mean_absolute_error: 1.0747 - val_loss: 1.7471 - val_mean_absolute_error: 1.0768\n",
      "Epoch 16/200\n",
      "5163/5163 [==============================] - 5s 1ms/step - loss: 1.7066 - mean_absolute_error: 1.0378 - val_loss: 1.6902 - val_mean_absolute_error: 1.0357\n",
      "Epoch 17/200\n",
      "5163/5163 [==============================] - 6s 1ms/step - loss: 1.6179 - mean_absolute_error: 1.0126 - val_loss: 1.5597 - val_mean_absolute_error: 1.0093\n",
      "Epoch 18/200\n",
      "5163/5163 [==============================] - 6s 1ms/step - loss: 1.5524 - mean_absolute_error: 0.9904 - val_loss: 1.4933 - val_mean_absolute_error: 0.9882\n",
      "Epoch 19/200\n",
      "5163/5163 [==============================] - 6s 1ms/step - loss: 1.4647 - mean_absolute_error: 0.9606 - val_loss: 1.4159 - val_mean_absolute_error: 0.9607\n",
      "Epoch 20/200\n",
      "5163/5163 [==============================] - 6s 1ms/step - loss: 1.3844 - mean_absolute_error: 0.9341 - val_loss: 1.3397 - val_mean_absolute_error: 0.9325\n",
      "Epoch 21/200\n",
      "5163/5163 [==============================] - 6s 1ms/step - loss: 1.3429 - mean_absolute_error: 0.9208 - val_loss: 1.2707 - val_mean_absolute_error: 0.8970\n",
      "Epoch 22/200\n",
      "5163/5163 [==============================] - 6s 1ms/step - loss: 1.2912 - mean_absolute_error: 0.9031 - val_loss: 1.2207 - val_mean_absolute_error: 0.8815\n",
      "Epoch 23/200\n",
      "5163/5163 [==============================] - 6s 1ms/step - loss: 1.2526 - mean_absolute_error: 0.8886 - val_loss: 1.1810 - val_mean_absolute_error: 0.8731\n",
      "Epoch 24/200\n",
      "5163/5163 [==============================] - 6s 1ms/step - loss: 1.2098 - mean_absolute_error: 0.8738 - val_loss: 1.1381 - val_mean_absolute_error: 0.8486\n",
      "Epoch 25/200\n",
      "5163/5163 [==============================] - 6s 1ms/step - loss: 1.1654 - mean_absolute_error: 0.8575 - val_loss: 1.1064 - val_mean_absolute_error: 0.8483\n",
      "Epoch 26/200\n",
      "5163/5163 [==============================] - 6s 1ms/step - loss: 1.1252 - mean_absolute_error: 0.8436 - val_loss: 1.0484 - val_mean_absolute_error: 0.8190\n",
      "Epoch 27/200\n",
      "5163/5163 [==============================] - 5s 1ms/step - loss: 1.0889 - mean_absolute_error: 0.8290 - val_loss: 1.0208 - val_mean_absolute_error: 0.8135\n",
      "Epoch 28/200\n",
      "5163/5163 [==============================] - 6s 1ms/step - loss: 1.0532 - mean_absolute_error: 0.8160 - val_loss: 0.9967 - val_mean_absolute_error: 0.7932\n",
      "Epoch 29/200\n",
      "5163/5163 [==============================] - 6s 1ms/step - loss: 1.0099 - mean_absolute_error: 0.7991 - val_loss: 0.9437 - val_mean_absolute_error: 0.7759\n",
      "Epoch 30/200\n",
      "5163/5163 [==============================] - 6s 1ms/step - loss: 0.9775 - mean_absolute_error: 0.7864 - val_loss: 0.9094 - val_mean_absolute_error: 0.7625\n",
      "Epoch 31/200\n",
      "5163/5163 [==============================] - 6s 1ms/step - loss: 0.9408 - mean_absolute_error: 0.7717 - val_loss: 0.8934 - val_mean_absolute_error: 0.7512\n",
      "Epoch 32/200\n",
      "5163/5163 [==============================] - 6s 1ms/step - loss: 0.9103 - mean_absolute_error: 0.7596 - val_loss: 0.8588 - val_mean_absolute_error: 0.7488\n",
      "Epoch 33/200\n",
      "5163/5163 [==============================] - 6s 1ms/step - loss: 0.8757 - mean_absolute_error: 0.7458 - val_loss: 0.8504 - val_mean_absolute_error: 0.7301\n",
      "Epoch 34/200\n",
      "5163/5163 [==============================] - 6s 1ms/step - loss: 0.8486 - mean_absolute_error: 0.7330 - val_loss: 0.8167 - val_mean_absolute_error: 0.7156\n",
      "Epoch 35/200\n",
      "5163/5163 [==============================] - 6s 1ms/step - loss: 0.8128 - mean_absolute_error: 0.7185 - val_loss: 0.7616 - val_mean_absolute_error: 0.7042\n",
      "Epoch 36/200\n",
      "5163/5163 [==============================] - 6s 1ms/step - loss: 0.7811 - mean_absolute_error: 0.7045 - val_loss: 0.7255 - val_mean_absolute_error: 0.6817\n",
      "Epoch 37/200\n",
      "5163/5163 [==============================] - 6s 1ms/step - loss: 0.7577 - mean_absolute_error: 0.6920 - val_loss: 0.7733 - val_mean_absolute_error: 0.7138\n",
      "Epoch 38/200\n",
      "5163/5163 [==============================] - 6s 1ms/step - loss: 0.7269 - mean_absolute_error: 0.6806 - val_loss: 0.6715 - val_mean_absolute_error: 0.6583\n",
      "Epoch 39/200\n",
      "5163/5163 [==============================] - 6s 1ms/step - loss: 0.7006 - mean_absolute_error: 0.6686 - val_loss: 0.6485 - val_mean_absolute_error: 0.6477\n",
      "Epoch 40/200\n",
      "5163/5163 [==============================] - 6s 1ms/step - loss: 0.6685 - mean_absolute_error: 0.6517 - val_loss: 0.6230 - val_mean_absolute_error: 0.6279\n",
      "Epoch 41/200\n",
      "5163/5163 [==============================] - 5s 1ms/step - loss: 0.6476 - mean_absolute_error: 0.6425 - val_loss: 0.5937 - val_mean_absolute_error: 0.6190\n",
      "Epoch 42/200\n",
      "5163/5163 [==============================] - 6s 1ms/step - loss: 0.6151 - mean_absolute_error: 0.6248 - val_loss: 0.5715 - val_mean_absolute_error: 0.6009\n",
      "Epoch 43/200\n",
      "5163/5163 [==============================] - 6s 1ms/step - loss: 0.5874 - mean_absolute_error: 0.6121 - val_loss: 0.5597 - val_mean_absolute_error: 0.5924\n",
      "Epoch 44/200\n",
      "5163/5163 [==============================] - 6s 1ms/step - loss: 0.5671 - mean_absolute_error: 0.6019 - val_loss: 0.5189 - val_mean_absolute_error: 0.5771\n",
      "Epoch 45/200\n",
      "5163/5163 [==============================] - 6s 1ms/step - loss: 0.5411 - mean_absolute_error: 0.5876 - val_loss: 0.5194 - val_mean_absolute_error: 0.5833\n",
      "Epoch 46/200\n",
      "5163/5163 [==============================] - 6s 1ms/step - loss: 0.5165 - mean_absolute_error: 0.5745 - val_loss: 0.4870 - val_mean_absolute_error: 0.5638\n",
      "Epoch 47/200\n",
      "5163/5163 [==============================] - 6s 1ms/step - loss: 0.4987 - mean_absolute_error: 0.5643 - val_loss: 0.4611 - val_mean_absolute_error: 0.5407\n",
      "Epoch 48/200\n",
      "5163/5163 [==============================] - 6s 1ms/step - loss: 0.4765 - mean_absolute_error: 0.5520 - val_loss: 0.4712 - val_mean_absolute_error: 0.5569\n",
      "Epoch 49/200\n",
      "5163/5163 [==============================] - ETA: 0s - loss: 0.4586 - mean_absolute_error: 0.541 - 5s 959us/step - loss: 0.4603 - mean_absolute_error: 0.5418 - val_loss: 0.4399 - val_mean_absolute_error: 0.5367\n",
      "Epoch 50/200\n",
      "5163/5163 [==============================] - 5s 969us/step - loss: 0.4431 - mean_absolute_error: 0.5317 - val_loss: 0.4080 - val_mean_absolute_error: 0.5086\n",
      "Epoch 51/200\n",
      "5163/5163 [==============================] - 5s 964us/step - loss: 0.4239 - mean_absolute_error: 0.5204 - val_loss: 0.3964 - val_mean_absolute_error: 0.5083\n",
      "Epoch 52/200\n",
      "5163/5163 [==============================] - 5s 952us/step - loss: 0.4084 - mean_absolute_error: 0.5118 - val_loss: 0.3760 - val_mean_absolute_error: 0.4936\n",
      "Epoch 53/200\n",
      "5163/5163 [==============================] - 5s 948us/step - loss: 0.3928 - mean_absolute_error: 0.5005 - val_loss: 0.3596 - val_mean_absolute_error: 0.4805\n",
      "Epoch 54/200\n",
      "5163/5163 [==============================] - 5s 943us/step - loss: 0.3766 - mean_absolute_error: 0.4900 - val_loss: 0.3883 - val_mean_absolute_error: 0.5065\n",
      "Epoch 55/200\n",
      "5163/5163 [==============================] - 5s 952us/step - loss: 0.3627 - mean_absolute_error: 0.4819 - val_loss: 0.3401 - val_mean_absolute_error: 0.4708\n",
      "Epoch 56/200\n",
      "5163/5163 [==============================] - 5s 958us/step - loss: 0.3493 - mean_absolute_error: 0.4732 - val_loss: 0.3232 - val_mean_absolute_error: 0.4583\n",
      "Epoch 57/200\n",
      "5163/5163 [==============================] - 6s 1ms/step - loss: 0.3345 - mean_absolute_error: 0.4633 - val_loss: 0.3153 - val_mean_absolute_error: 0.4429\n",
      "Epoch 58/200\n",
      "5163/5163 [==============================] - 6s 1ms/step - loss: 0.3247 - mean_absolute_error: 0.4553 - val_loss: 0.3298 - val_mean_absolute_error: 0.4665\n",
      "Epoch 59/200\n",
      "5163/5163 [==============================] - 6s 1ms/step - loss: 0.3093 - mean_absolute_error: 0.4446 - val_loss: 0.2830 - val_mean_absolute_error: 0.4263\n",
      "Epoch 60/200\n",
      "5163/5163 [==============================] - 6s 1ms/step - loss: 0.2975 - mean_absolute_error: 0.4361 - val_loss: 0.3051 - val_mean_absolute_error: 0.4488\n",
      "Epoch 61/200\n",
      "5163/5163 [==============================] - 6s 1ms/step - loss: 0.2878 - mean_absolute_error: 0.4296 - val_loss: 0.2662 - val_mean_absolute_error: 0.4157\n",
      "Epoch 62/200\n",
      "5163/5163 [==============================] - 6s 1ms/step - loss: 0.2786 - mean_absolute_error: 0.4236 - val_loss: 0.2722 - val_mean_absolute_error: 0.4232\n",
      "Epoch 63/200\n",
      "5163/5163 [==============================] - 6s 1ms/step - loss: 0.2666 - mean_absolute_error: 0.4126 - val_loss: 0.2423 - val_mean_absolute_error: 0.3947\n",
      "Epoch 64/200\n",
      "5163/5163 [==============================] - 6s 1ms/step - loss: 0.2550 - mean_absolute_error: 0.4036 - val_loss: 0.2349 - val_mean_absolute_error: 0.3842\n",
      "Epoch 65/200\n",
      "5163/5163 [==============================] - 6s 1ms/step - loss: 0.2481 - mean_absolute_error: 0.3979 - val_loss: 0.2237 - val_mean_absolute_error: 0.3792\n",
      "Epoch 66/200\n",
      "5163/5163 [==============================] - 6s 1ms/step - loss: 0.2372 - mean_absolute_error: 0.3905 - val_loss: 0.2159 - val_mean_absolute_error: 0.3691\n",
      "Epoch 67/200\n",
      "5163/5163 [==============================] - 6s 1ms/step - loss: 0.2295 - mean_absolute_error: 0.3848 - val_loss: 0.2069 - val_mean_absolute_error: 0.3615\n",
      "Epoch 68/200\n",
      "5163/5163 [==============================] - 6s 1ms/step - loss: 0.2179 - mean_absolute_error: 0.3729 - val_loss: 0.1970 - val_mean_absolute_error: 0.3541\n",
      "Epoch 69/200\n",
      "5163/5163 [==============================] - 6s 1ms/step - loss: 0.2118 - mean_absolute_error: 0.3677 - val_loss: 0.1898 - val_mean_absolute_error: 0.3479\n",
      "Epoch 70/200\n",
      "5163/5163 [==============================] - 6s 1ms/step - loss: 0.2008 - mean_absolute_error: 0.3591 - val_loss: 0.1895 - val_mean_absolute_error: 0.3451\n",
      "Epoch 71/200\n",
      "5163/5163 [==============================] - 6s 1ms/step - loss: 0.1947 - mean_absolute_error: 0.3524 - val_loss: 0.1806 - val_mean_absolute_error: 0.3412\n",
      "Epoch 72/200\n",
      "5163/5163 [==============================] - 6s 1ms/step - loss: 0.1864 - mean_absolute_error: 0.3453 - val_loss: 0.1704 - val_mean_absolute_error: 0.3284\n",
      "Epoch 73/200\n",
      "5163/5163 [==============================] - 6s 1ms/step - loss: 0.1802 - mean_absolute_error: 0.3399 - val_loss: 0.1626 - val_mean_absolute_error: 0.3212\n",
      "Epoch 74/200\n",
      "5163/5163 [==============================] - 6s 1ms/step - loss: 0.1728 - mean_absolute_error: 0.3325 - val_loss: 0.1791 - val_mean_absolute_error: 0.3423\n",
      "Epoch 75/200\n",
      "5163/5163 [==============================] - 7s 1ms/step - loss: 0.1656 - mean_absolute_error: 0.3248 - val_loss: 0.1575 - val_mean_absolute_error: 0.3185\n",
      "Epoch 76/200\n",
      "5163/5163 [==============================] - 6s 1ms/step - loss: 0.1624 - mean_absolute_error: 0.3219 - val_loss: 0.1485 - val_mean_absolute_error: 0.3061\n",
      "Epoch 77/200\n",
      "5163/5163 [==============================] - 7s 1ms/step - loss: 0.1546 - mean_absolute_error: 0.3150 - val_loss: 0.1391 - val_mean_absolute_error: 0.2969\n",
      "Epoch 78/200\n",
      "5163/5163 [==============================] - 7s 1ms/step - loss: 0.1520 - mean_absolute_error: 0.3118 - val_loss: 0.1340 - val_mean_absolute_error: 0.2913\n",
      "Epoch 79/200\n",
      "5163/5163 [==============================] - 6s 1ms/step - loss: 0.1427 - mean_absolute_error: 0.3024 - val_loss: 0.1367 - val_mean_absolute_error: 0.2936\n",
      "Epoch 80/200\n",
      "5163/5163 [==============================] - 6s 1ms/step - loss: 0.1382 - mean_absolute_error: 0.2980 - val_loss: 0.1355 - val_mean_absolute_error: 0.2920\n",
      "Epoch 81/200\n",
      "5163/5163 [==============================] - 6s 1ms/step - loss: 0.1361 - mean_absolute_error: 0.2953 - val_loss: 0.1210 - val_mean_absolute_error: 0.2770\n",
      "Epoch 82/200\n",
      "5163/5163 [==============================] - 7s 1ms/step - loss: 0.1305 - mean_absolute_error: 0.2893 - val_loss: 0.1165 - val_mean_absolute_error: 0.2715\n",
      "Epoch 83/200\n",
      "5163/5163 [==============================] - 6s 1ms/step - loss: 0.1252 - mean_absolute_error: 0.2831 - val_loss: 0.1125 - val_mean_absolute_error: 0.2667\n",
      "Epoch 84/200\n",
      "5163/5163 [==============================] - 6s 1ms/step - loss: 0.1217 - mean_absolute_error: 0.2803 - val_loss: 0.1165 - val_mean_absolute_error: 0.2728\n",
      "Epoch 85/200\n",
      "5163/5163 [==============================] - 7s 1ms/step - loss: 0.1175 - mean_absolute_error: 0.2736 - val_loss: 0.1171 - val_mean_absolute_error: 0.2719\n",
      "Epoch 86/200\n",
      "5163/5163 [==============================] - 6s 1ms/step - loss: 0.1126 - mean_absolute_error: 0.2694 - val_loss: 0.1042 - val_mean_absolute_error: 0.2558\n",
      "Epoch 87/200\n",
      "5163/5163 [==============================] - 6s 1ms/step - loss: 0.1088 - mean_absolute_error: 0.2648 - val_loss: 0.1050 - val_mean_absolute_error: 0.2582\n",
      "Epoch 88/200\n",
      "5163/5163 [==============================] - 6s 1ms/step - loss: 0.1041 - mean_absolute_error: 0.2580 - val_loss: 0.0968 - val_mean_absolute_error: 0.2471\n",
      "Epoch 89/200\n",
      "5163/5163 [==============================] - 6s 1ms/step - loss: 0.1006 - mean_absolute_error: 0.2548 - val_loss: 0.0974 - val_mean_absolute_error: 0.2481\n",
      "Epoch 90/200\n",
      "5163/5163 [==============================] - 6s 1ms/step - loss: 0.0970 - mean_absolute_error: 0.2495 - val_loss: 0.0959 - val_mean_absolute_error: 0.2462\n",
      "Epoch 91/200\n",
      "5163/5163 [==============================] - 6s 1ms/step - loss: 0.0961 - mean_absolute_error: 0.2482 - val_loss: 0.0873 - val_mean_absolute_error: 0.2336\n",
      "Epoch 92/200\n",
      "5163/5163 [==============================] - 6s 1ms/step - loss: 0.0935 - mean_absolute_error: 0.2451 - val_loss: 0.0833 - val_mean_absolute_error: 0.2285\n",
      "Epoch 93/200\n",
      "5163/5163 [==============================] - 6s 1ms/step - loss: 0.0894 - mean_absolute_error: 0.2396 - val_loss: 0.1115 - val_mean_absolute_error: 0.2671\n",
      "Epoch 94/200\n",
      "5163/5163 [==============================] - 6s 1ms/step - loss: 0.0871 - mean_absolute_error: 0.2369 - val_loss: 0.0784 - val_mean_absolute_error: 0.2215\n",
      "Epoch 95/200\n",
      "5163/5163 [==============================] - 6s 1ms/step - loss: 0.0839 - mean_absolute_error: 0.2315 - val_loss: 0.0795 - val_mean_absolute_error: 0.2237\n",
      "Epoch 96/200\n",
      "5163/5163 [==============================] - 6s 1ms/step - loss: 0.0803 - mean_absolute_error: 0.2272 - val_loss: 0.0740 - val_mean_absolute_error: 0.2149\n",
      "Epoch 97/200\n"
     ]
    },
    {
     "name": "stdout",
     "output_type": "stream",
     "text": [
      "5163/5163 [==============================] - 7s 1ms/step - loss: 0.0810 - mean_absolute_error: 0.2285 - val_loss: 0.0718 - val_mean_absolute_error: 0.2116\n",
      "Epoch 98/200\n",
      "5163/5163 [==============================] - 6s 1ms/step - loss: 0.0754 - mean_absolute_error: 0.2201 - val_loss: 0.0723 - val_mean_absolute_error: 0.2126\n",
      "Epoch 99/200\n",
      "5163/5163 [==============================] - 6s 1ms/step - loss: 0.0745 - mean_absolute_error: 0.2200 - val_loss: 0.0682 - val_mean_absolute_error: 0.2060\n",
      "Epoch 100/200\n",
      "5163/5163 [==============================] - 6s 1ms/step - loss: 0.0718 - mean_absolute_error: 0.2142 - val_loss: 0.0664 - val_mean_absolute_error: 0.2033\n",
      "Epoch 101/200\n",
      "5163/5163 [==============================] - 6s 1ms/step - loss: 0.0704 - mean_absolute_error: 0.2127 - val_loss: 0.0658 - val_mean_absolute_error: 0.2027\n",
      "Epoch 102/200\n",
      "5163/5163 [==============================] - 6s 1ms/step - loss: 0.0680 - mean_absolute_error: 0.2095 - val_loss: 0.0705 - val_mean_absolute_error: 0.2111\n",
      "Epoch 103/200\n",
      "5163/5163 [==============================] - 6s 1ms/step - loss: 0.0661 - mean_absolute_error: 0.2064 - val_loss: 0.0625 - val_mean_absolute_error: 0.1974\n",
      "Epoch 104/200\n",
      "5163/5163 [==============================] - 6s 1ms/step - loss: 0.0646 - mean_absolute_error: 0.2043 - val_loss: 0.0609 - val_mean_absolute_error: 0.1970\n",
      "Epoch 105/200\n",
      "5163/5163 [==============================] - 6s 1ms/step - loss: 0.0631 - mean_absolute_error: 0.2017 - val_loss: 0.0726 - val_mean_absolute_error: 0.2157\n",
      "Epoch 106/200\n",
      "5163/5163 [==============================] - 6s 1ms/step - loss: 0.0618 - mean_absolute_error: 0.1990 - val_loss: 0.0561 - val_mean_absolute_error: 0.1875\n",
      "Epoch 107/200\n",
      "5163/5163 [==============================] - 6s 1ms/step - loss: 0.0603 - mean_absolute_error: 0.1976 - val_loss: 0.0567 - val_mean_absolute_error: 0.1877\n",
      "Epoch 108/200\n",
      "5163/5163 [==============================] - 6s 1ms/step - loss: 0.0596 - mean_absolute_error: 0.1963 - val_loss: 0.0534 - val_mean_absolute_error: 0.1830\n",
      "Epoch 109/200\n",
      "5163/5163 [==============================] - 6s 1ms/step - loss: 0.0561 - mean_absolute_error: 0.1892 - val_loss: 0.0521 - val_mean_absolute_error: 0.1811\n",
      "Epoch 110/200\n",
      "5163/5163 [==============================] - 6s 1ms/step - loss: 0.0556 - mean_absolute_error: 0.1893 - val_loss: 0.0595 - val_mean_absolute_error: 0.1934\n",
      "Epoch 111/200\n",
      "5163/5163 [==============================] - 6s 1ms/step - loss: 0.0555 - mean_absolute_error: 0.1886 - val_loss: 0.0522 - val_mean_absolute_error: 0.1798\n",
      "Epoch 112/200\n",
      "5163/5163 [==============================] - 6s 1ms/step - loss: 0.0529 - mean_absolute_error: 0.1841 - val_loss: 0.0536 - val_mean_absolute_error: 0.1861\n",
      "Epoch 113/200\n",
      "5163/5163 [==============================] - 6s 1ms/step - loss: 0.0511 - mean_absolute_error: 0.1808 - val_loss: 0.0501 - val_mean_absolute_error: 0.1800\n",
      "Epoch 114/200\n",
      "5163/5163 [==============================] - 6s 1ms/step - loss: 0.0515 - mean_absolute_error: 0.1813 - val_loss: 0.0466 - val_mean_absolute_error: 0.1717\n",
      "Epoch 115/200\n",
      "5163/5163 [==============================] - 7s 1ms/step - loss: 0.0499 - mean_absolute_error: 0.1783 - val_loss: 0.0545 - val_mean_absolute_error: 0.1850\n",
      "Epoch 116/200\n",
      "5163/5163 [==============================] - 6s 1ms/step - loss: 0.0472 - mean_absolute_error: 0.1734 - val_loss: 0.0452 - val_mean_absolute_error: 0.1705\n",
      "Epoch 117/200\n",
      "5163/5163 [==============================] - 6s 1ms/step - loss: 0.0462 - mean_absolute_error: 0.1720 - val_loss: 0.0650 - val_mean_absolute_error: 0.2057\n",
      "Epoch 118/200\n",
      "5163/5163 [==============================] - 6s 1ms/step - loss: 0.0471 - mean_absolute_error: 0.1739 - val_loss: 0.0428 - val_mean_absolute_error: 0.1654\n",
      "Epoch 119/200\n",
      "5163/5163 [==============================] - 6s 1ms/step - loss: 0.0462 - mean_absolute_error: 0.1728 - val_loss: 0.0421 - val_mean_absolute_error: 0.1632\n",
      "Epoch 120/200\n",
      "5163/5163 [==============================] - 6s 1ms/step - loss: 0.0439 - mean_absolute_error: 0.1676 - val_loss: 0.0426 - val_mean_absolute_error: 0.1662\n",
      "Epoch 121/200\n",
      "5163/5163 [==============================] - 6s 1ms/step - loss: 0.0427 - mean_absolute_error: 0.1654 - val_loss: 0.0455 - val_mean_absolute_error: 0.1718\n",
      "Epoch 122/200\n",
      "5163/5163 [==============================] - 6s 1ms/step - loss: 0.0431 - mean_absolute_error: 0.1662 - val_loss: 0.0450 - val_mean_absolute_error: 0.1678\n",
      "Epoch 123/200\n",
      "5163/5163 [==============================] - 6s 1ms/step - loss: 0.0413 - mean_absolute_error: 0.1628 - val_loss: 0.0467 - val_mean_absolute_error: 0.1738\n",
      "Epoch 124/200\n",
      "5163/5163 [==============================] - 6s 1ms/step - loss: 0.0413 - mean_absolute_error: 0.1621 - val_loss: 0.0385 - val_mean_absolute_error: 0.1575\n",
      "Epoch 125/200\n",
      "5163/5163 [==============================] - 6s 1ms/step - loss: 0.0398 - mean_absolute_error: 0.1597 - val_loss: 0.0384 - val_mean_absolute_error: 0.1576\n",
      "Epoch 126/200\n",
      "5163/5163 [==============================] - 6s 1ms/step - loss: 0.0390 - mean_absolute_error: 0.1584 - val_loss: 0.0375 - val_mean_absolute_error: 0.1557\n",
      "Epoch 127/200\n",
      "5163/5163 [==============================] - 6s 1ms/step - loss: 0.0394 - mean_absolute_error: 0.1592 - val_loss: 0.0370 - val_mean_absolute_error: 0.1534\n",
      "Epoch 128/200\n",
      "5163/5163 [==============================] - 6s 1ms/step - loss: 0.0387 - mean_absolute_error: 0.1572 - val_loss: 0.0430 - val_mean_absolute_error: 0.1669\n",
      "Epoch 129/200\n",
      "5163/5163 [==============================] - 6s 1ms/step - loss: 0.0365 - mean_absolute_error: 0.1527 - val_loss: 0.0363 - val_mean_absolute_error: 0.1532\n",
      "Epoch 130/200\n",
      "5163/5163 [==============================] - 6s 1ms/step - loss: 0.0401 - mean_absolute_error: 0.1612 - val_loss: 0.0428 - val_mean_absolute_error: 0.1665\n",
      "Epoch 131/200\n",
      "5163/5163 [==============================] - 6s 1ms/step - loss: 0.0369 - mean_absolute_error: 0.1541 - val_loss: 0.0380 - val_mean_absolute_error: 0.1568\n",
      "Epoch 132/200\n",
      "5163/5163 [==============================] - 6s 1ms/step - loss: 0.0347 - mean_absolute_error: 0.1496 - val_loss: 0.0334 - val_mean_absolute_error: 0.1460\n",
      "Epoch 133/200\n",
      "5163/5163 [==============================] - 6s 1ms/step - loss: 0.0352 - mean_absolute_error: 0.1497 - val_loss: 0.0360 - val_mean_absolute_error: 0.1527\n",
      "Epoch 134/200\n",
      "5163/5163 [==============================] - 6s 1ms/step - loss: 0.0343 - mean_absolute_error: 0.1476 - val_loss: 0.0403 - val_mean_absolute_error: 0.1615\n",
      "Epoch 135/200\n",
      "5163/5163 [==============================] - 6s 1ms/step - loss: 0.0356 - mean_absolute_error: 0.1515 - val_loss: 0.0326 - val_mean_absolute_error: 0.1442\n",
      "Epoch 136/200\n",
      "5163/5163 [==============================] - 6s 1ms/step - loss: 0.0335 - mean_absolute_error: 0.1471 - val_loss: 0.0334 - val_mean_absolute_error: 0.1455\n",
      "Epoch 137/200\n",
      "5163/5163 [==============================] - 6s 1ms/step - loss: 0.0323 - mean_absolute_error: 0.1442 - val_loss: 0.0339 - val_mean_absolute_error: 0.1466\n",
      "Epoch 138/200\n",
      "5163/5163 [==============================] - 6s 1ms/step - loss: 0.0322 - mean_absolute_error: 0.1441 - val_loss: 0.0306 - val_mean_absolute_error: 0.1403\n",
      "Epoch 139/200\n",
      "5163/5163 [==============================] - 6s 1ms/step - loss: 0.0319 - mean_absolute_error: 0.1428 - val_loss: 0.0514 - val_mean_absolute_error: 0.1849\n",
      "Epoch 140/200\n",
      "5163/5163 [==============================] - 6s 1ms/step - loss: 0.0328 - mean_absolute_error: 0.1455 - val_loss: 0.0332 - val_mean_absolute_error: 0.1465\n",
      "Epoch 141/200\n",
      "5163/5163 [==============================] - 6s 1ms/step - loss: 0.0306 - mean_absolute_error: 0.1406 - val_loss: 0.0292 - val_mean_absolute_error: 0.1366\n",
      "Epoch 142/200\n",
      "5163/5163 [==============================] - 6s 1ms/step - loss: 0.0293 - mean_absolute_error: 0.1368 - val_loss: 0.0296 - val_mean_absolute_error: 0.1379\n",
      "Epoch 143/200\n",
      "5163/5163 [==============================] - 6s 1ms/step - loss: 0.0303 - mean_absolute_error: 0.1392 - val_loss: 0.0338 - val_mean_absolute_error: 0.1477\n",
      "Epoch 144/200\n",
      "5163/5163 [==============================] - 6s 1ms/step - loss: 0.0299 - mean_absolute_error: 0.1384 - val_loss: 0.0303 - val_mean_absolute_error: 0.1398\n",
      "Epoch 145/200\n",
      "5163/5163 [==============================] - 5s 953us/step - loss: 0.0321 - mean_absolute_error: 0.1440 - val_loss: 0.0420 - val_mean_absolute_error: 0.1647\n",
      "Epoch 146/200\n",
      "5163/5163 [==============================] - 5s 965us/step - loss: 0.0288 - mean_absolute_error: 0.1356 - val_loss: 0.0283 - val_mean_absolute_error: 0.1342\n",
      "Epoch 147/200\n",
      "5163/5163 [==============================] - 5s 941us/step - loss: 0.0278 - mean_absolute_error: 0.1335 - val_loss: 0.0282 - val_mean_absolute_error: 0.1337\n",
      "Epoch 148/200\n",
      "5163/5163 [==============================] - 5s 958us/step - loss: 0.0280 - mean_absolute_error: 0.1345 - val_loss: 0.0332 - val_mean_absolute_error: 0.1466\n",
      "Epoch 149/200\n",
      "5163/5163 [==============================] - 5s 999us/step - loss: 0.0277 - mean_absolute_error: 0.1329 - val_loss: 0.0268 - val_mean_absolute_error: 0.1310\n",
      "Epoch 150/200\n",
      "5163/5163 [==============================] - 5s 948us/step - loss: 0.0270 - mean_absolute_error: 0.1315 - val_loss: 0.0261 - val_mean_absolute_error: 0.1288\n",
      "Epoch 151/200\n",
      "5163/5163 [==============================] - 5s 970us/step - loss: 0.0269 - mean_absolute_error: 0.1311 - val_loss: 0.0291 - val_mean_absolute_error: 0.1360\n",
      "Epoch 152/200\n",
      "5163/5163 [==============================] - 5s 928us/step - loss: 0.0268 - mean_absolute_error: 0.1315 - val_loss: 0.0261 - val_mean_absolute_error: 0.1286\n",
      "Epoch 153/200\n",
      "5163/5163 [==============================] - 5s 980us/step - loss: 0.0268 - mean_absolute_error: 0.1310 - val_loss: 0.0262 - val_mean_absolute_error: 0.1296\n",
      "Epoch 154/200\n",
      "5163/5163 [==============================] - 6s 1ms/step - loss: 0.0253 - mean_absolute_error: 0.1275 - val_loss: 0.0271 - val_mean_absolute_error: 0.1317\n",
      "Epoch 155/200\n",
      "5163/5163 [==============================] - 6s 1ms/step - loss: 0.0259 - mean_absolute_error: 0.1293 - val_loss: 0.0252 - val_mean_absolute_error: 0.1265\n",
      "Epoch 156/200\n",
      "5163/5163 [==============================] - 6s 1ms/step - loss: 0.0270 - mean_absolute_error: 0.1315 - val_loss: 0.0242 - val_mean_absolute_error: 0.1240\n",
      "Epoch 157/200\n",
      "5163/5163 [==============================] - 6s 1ms/step - loss: 0.0241 - mean_absolute_error: 0.1243 - val_loss: 0.0254 - val_mean_absolute_error: 0.1269\n",
      "Epoch 158/200\n",
      "5163/5163 [==============================] - 6s 1ms/step - loss: 0.0271 - mean_absolute_error: 0.1315 - val_loss: 0.0236 - val_mean_absolute_error: 0.1225\n",
      "Epoch 159/200\n",
      "5163/5163 [==============================] - 6s 1ms/step - loss: 0.0248 - mean_absolute_error: 0.1261 - val_loss: 0.0348 - val_mean_absolute_error: 0.1507\n",
      "Epoch 160/200\n",
      "5163/5163 [==============================] - 6s 1ms/step - loss: 0.0254 - mean_absolute_error: 0.1277 - val_loss: 0.0255 - val_mean_absolute_error: 0.1276\n",
      "Epoch 161/200\n",
      "5163/5163 [==============================] - 6s 1ms/step - loss: 0.0241 - mean_absolute_error: 0.1244 - val_loss: 0.0257 - val_mean_absolute_error: 0.1279\n",
      "Epoch 162/200\n",
      "5163/5163 [==============================] - 6s 1ms/step - loss: 0.0240 - mean_absolute_error: 0.1239 - val_loss: 0.0248 - val_mean_absolute_error: 0.1258\n",
      "Epoch 163/200\n",
      "5163/5163 [==============================] - 6s 1ms/step - loss: 0.0245 - mean_absolute_error: 0.1256 - val_loss: 0.0248 - val_mean_absolute_error: 0.1259\n",
      "Epoch 164/200\n",
      "5163/5163 [==============================] - 6s 1ms/step - loss: 0.0230 - mean_absolute_error: 0.1209 - val_loss: 0.0244 - val_mean_absolute_error: 0.1249\n",
      "Epoch 165/200\n",
      "5163/5163 [==============================] - 6s 1ms/step - loss: 0.0220 - mean_absolute_error: 0.1191 - val_loss: 0.0307 - val_mean_absolute_error: 0.1408\n",
      "Epoch 166/200\n",
      "5163/5163 [==============================] - 6s 1ms/step - loss: 0.0231 - mean_absolute_error: 0.1216 - val_loss: 0.0319 - val_mean_absolute_error: 0.1439\n",
      "Epoch 167/200\n",
      "5163/5163 [==============================] - 6s 1ms/step - loss: 0.0233 - mean_absolute_error: 0.1222 - val_loss: 0.0222 - val_mean_absolute_error: 0.1189\n",
      "Epoch 168/200\n",
      "5163/5163 [==============================] - 6s 1ms/step - loss: 0.0229 - mean_absolute_error: 0.1208 - val_loss: 0.0211 - val_mean_absolute_error: 0.1160\n",
      "Epoch 169/200\n",
      "5163/5163 [==============================] - 6s 1ms/step - loss: 0.0222 - mean_absolute_error: 0.1190 - val_loss: 0.0266 - val_mean_absolute_error: 0.1307\n",
      "Epoch 170/200\n",
      "5163/5163 [==============================] - 6s 1ms/step - loss: 0.0207 - mean_absolute_error: 0.1153 - val_loss: 0.0239 - val_mean_absolute_error: 0.1238\n",
      "Epoch 171/200\n",
      "5163/5163 [==============================] - 6s 1ms/step - loss: 0.0219 - mean_absolute_error: 0.1180 - val_loss: 0.0226 - val_mean_absolute_error: 0.1200\n",
      "Epoch 172/200\n",
      "5163/5163 [==============================] - 6s 1ms/step - loss: 0.0210 - mean_absolute_error: 0.1163 - val_loss: 0.0204 - val_mean_absolute_error: 0.1140\n",
      "Epoch 173/200\n",
      "5163/5163 [==============================] - 6s 1ms/step - loss: 0.0214 - mean_absolute_error: 0.1172 - val_loss: 0.0201 - val_mean_absolute_error: 0.1132\n",
      "Epoch 174/200\n",
      "5163/5163 [==============================] - 6s 1ms/step - loss: 0.0209 - mean_absolute_error: 0.1148 - val_loss: 0.0199 - val_mean_absolute_error: 0.1125\n",
      "Epoch 175/200\n",
      "5163/5163 [==============================] - 6s 1ms/step - loss: 0.0213 - mean_absolute_error: 0.1175 - val_loss: 0.0532 - val_mean_absolute_error: 0.1955\n",
      "Epoch 176/200\n",
      "5163/5163 [==============================] - 7s 1ms/step - loss: 0.0215 - mean_absolute_error: 0.1171 - val_loss: 0.0198 - val_mean_absolute_error: 0.1124\n",
      "Epoch 177/200\n",
      "5163/5163 [==============================] - 7s 1ms/step - loss: 0.0214 - mean_absolute_error: 0.1169 - val_loss: 0.0193 - val_mean_absolute_error: 0.1110\n",
      "Epoch 178/200\n",
      "5163/5163 [==============================] - 7s 1ms/step - loss: 0.0204 - mean_absolute_error: 0.1142 - val_loss: 0.0229 - val_mean_absolute_error: 0.1214\n",
      "Epoch 179/200\n",
      "5163/5163 [==============================] - 6s 1ms/step - loss: 0.0206 - mean_absolute_error: 0.1153 - val_loss: 0.0190 - val_mean_absolute_error: 0.1100\n",
      "Epoch 180/200\n",
      "5163/5163 [==============================] - 7s 1ms/step - loss: 0.0193 - mean_absolute_error: 0.1120 - val_loss: 0.0233 - val_mean_absolute_error: 0.1227\n",
      "Epoch 181/200\n",
      "5163/5163 [==============================] - 7s 1ms/step - loss: 0.0194 - mean_absolute_error: 0.1110 - val_loss: 0.0186 - val_mean_absolute_error: 0.1090\n",
      "Epoch 182/200\n",
      "5163/5163 [==============================] - 8s 2ms/step - loss: 0.0190 - mean_absolute_error: 0.1106 - val_loss: 0.0209 - val_mean_absolute_error: 0.1152\n",
      "Epoch 183/200\n",
      "5163/5163 [==============================] - 7s 1ms/step - loss: 0.0207 - mean_absolute_error: 0.1155 - val_loss: 0.0183 - val_mean_absolute_error: 0.1080: 3s - loss: 0.0\n",
      "Epoch 184/200\n",
      "5163/5163 [==============================] - 7s 1ms/step - loss: 0.0182 - mean_absolute_error: 0.1083 - val_loss: 0.0212 - val_mean_absolute_error: 0.1158\n",
      "Epoch 185/200\n",
      "5163/5163 [==============================] - 7s 1ms/step - loss: 0.0191 - mean_absolute_error: 0.1107 - val_loss: 0.0179 - val_mean_absolute_error: 0.1071\n",
      "Epoch 186/200\n",
      "5163/5163 [==============================] - 7s 1ms/step - loss: 0.0174 - mean_absolute_error: 0.1059 - val_loss: 0.0194 - val_mean_absolute_error: 0.1107\n",
      "Epoch 187/200\n",
      "5163/5163 [==============================] - 7s 1ms/step - loss: 0.0188 - mean_absolute_error: 0.1100 - val_loss: 0.0179 - val_mean_absolute_error: 0.1067\n",
      "Epoch 188/200\n",
      "5163/5163 [==============================] - 7s 1ms/step - loss: 0.0172 - mean_absolute_error: 0.1049 - val_loss: 0.0280 - val_mean_absolute_error: 0.1356\n",
      "Epoch 189/200\n",
      "5163/5163 [==============================] - 7s 1ms/step - loss: 0.0192 - mean_absolute_error: 0.1110 - val_loss: 0.0181 - val_mean_absolute_error: 0.1076\n",
      "Epoch 190/200\n",
      "5163/5163 [==============================] - 6s 1ms/step - loss: 0.0191 - mean_absolute_error: 0.1100 - val_loss: 0.0172 - val_mean_absolute_error: 0.1048\n",
      "Epoch 191/200\n",
      "5163/5163 [==============================] - 6s 1ms/step - loss: 0.0181 - mean_absolute_error: 0.1078 - val_loss: 0.0192 - val_mean_absolute_error: 0.1102\n",
      "Epoch 192/200\n",
      "5163/5163 [==============================] - 6s 1ms/step - loss: 0.0171 - mean_absolute_error: 0.1046 - val_loss: 0.0242 - val_mean_absolute_error: 0.1260\n",
      "Epoch 193/200\n"
     ]
    },
    {
     "name": "stdout",
     "output_type": "stream",
     "text": [
      "5163/5163 [==============================] - 5s 927us/step - loss: 0.0175 - mean_absolute_error: 0.1062 - val_loss: 0.0235 - val_mean_absolute_error: 0.1240\n",
      "Epoch 194/200\n",
      "5163/5163 [==============================] - 5s 973us/step - loss: 0.0179 - mean_absolute_error: 0.1074 - val_loss: 0.0206 - val_mean_absolute_error: 0.1142\n",
      "Epoch 195/200\n",
      "5163/5163 [==============================] - 5s 1ms/step - loss: 0.0182 - mean_absolute_error: 0.1080 - val_loss: 0.0196 - val_mean_absolute_error: 0.1126\n",
      "Epoch 196/200\n",
      "5163/5163 [==============================] - 5s 1ms/step - loss: 0.0169 - mean_absolute_error: 0.1044 - val_loss: 0.0173 - val_mean_absolute_error: 0.1043\n",
      "Epoch 197/200\n",
      "5163/5163 [==============================] - 5s 1ms/step - loss: 0.0164 - mean_absolute_error: 0.1027 - val_loss: 0.0202 - val_mean_absolute_error: 0.1147\n",
      "Epoch 198/200\n",
      "5163/5163 [==============================] - 5s 999us/step - loss: 0.0176 - mean_absolute_error: 0.1063 - val_loss: 0.0174 - val_mean_absolute_error: 0.1061\n",
      "Epoch 199/200\n",
      "5163/5163 [==============================] - 5s 1ms/step - loss: 0.0181 - mean_absolute_error: 0.1082 - val_loss: 0.0222 - val_mean_absolute_error: 0.1195\n",
      "Epoch 200/200\n",
      "5163/5163 [==============================] - 5s 1ms/step - loss: 0.0169 - mean_absolute_error: 0.1043 - val_loss: 0.0159 - val_mean_absolute_error: 0.1011\n"
     ]
    }
   ],
   "source": [
    "history = model.fit(\n",
    "    data, \n",
    "    labels, \n",
    "    epochs=epochs, \n",
    "    batch_size=50, \n",
    "    validation_split=0.15, \n",
    "    callbacks=[EarlyStoppingAtMinLoss(10)])  "
   ]
  },
  {
   "cell_type": "markdown",
   "metadata": {},
   "source": [
    "Evaluation of the result:"
   ]
  },
  {
   "cell_type": "code",
   "execution_count": 115,
   "metadata": {},
   "outputs": [
    {
     "name": "stdout",
     "output_type": "stream",
     "text": [
      "1013/1013 [==============================] - 1s 502us/step\n",
      "Loss Funcion Minima: 0.01544884\n",
      "Mean Absolute Error: 0.09884415\n",
      "['loss', 'mean_absolute_error']\n"
     ]
    }
   ],
   "source": [
    "loss, MAE= model.evaluate(d_test, l_test)\n",
    "print('Loss Funcion Minima: %.8f' % (loss))\n",
    "print('Mean Absolute Error: %.8f' % (MAE))\n",
    "print(model.metrics_names)"
   ]
  },
  {
   "cell_type": "markdown",
   "metadata": {},
   "source": [
    "Making the predictions:"
   ]
  },
  {
   "cell_type": "code",
   "execution_count": 116,
   "metadata": {},
   "outputs": [
    {
     "name": "stdout",
     "output_type": "stream",
     "text": [
      "mean of predicted ground state : 10.14325047\n",
      "L2 error of the means 0.00052849\n"
     ]
    }
   ],
   "source": [
    "predictions = model.predict(d_test,batch_size=150)\n",
    "print('mean of predicted ground state : %.8f' % (np.mean(predictions)))\n",
    "mean_pred = np.mean(predictions)\n",
    "mean_test = np.mean(l_test)\n",
    "print('L2 error of the means %.8f' % (mean_pred - mean_test)**2)"
   ]
  },
  {
   "cell_type": "markdown",
   "metadata": {},
   "source": [
    "Lets do some error analysis:\n",
    "\n",
    "First lets plot commited L2 error per sample:"
   ]
  },
  {
   "cell_type": "code",
   "execution_count": 117,
   "metadata": {},
   "outputs": [
    {
     "data": {
      "image/png": "[encoded data removed]",
      "text/plain": [
       "<Figure size 432x288 with 1 Axes>"
      ]
     },
     "metadata": {
      "needs_background": "light"
     },
     "output_type": "display_data"
    }
   ],
   "source": [
    "E_L2_Errors = []\n",
    "for i in range(predictions.shape[0]):\n",
    "    E_L2_Errors.append((l_test[i] - predictions[i])**2)\n",
    "\n",
    "import matplotlib.pyplot as plt\n",
    "plt.plot(E_L2_Errors)\n",
    "plt.title('L2 error of the predicted eigenvalues')\n",
    "plt.ylabel('commited error on instance')\n",
    "plt.xlabel('index of instance')\n",
    "plt.show()"
   ]
  },
  {
   "cell_type": "markdown",
   "metadata": {},
   "source": [
    "Here is some statisctical metrics:"
   ]
  },
  {
   "cell_type": "code",
   "execution_count": 118,
   "metadata": {},
   "outputs": [
    {
     "name": "stdout",
     "output_type": "stream",
     "text": [
      "mean of the commited errors (over eigenvalues): 0.01544884\n",
      "variance of the commited errors (over eigenvalues): 0.00052955\n",
      "standard deviation of the commited errors (over eigenvalues): 0.02301205\n"
     ]
    }
   ],
   "source": [
    "print('mean of the commited errors (over eigenvalues): %.8f' % (np.mean(E_L2_Errors)))\n",
    "print('variance of the commited errors (over eigenvalues): %.8f'% (np.var(E_L2_Errors)))\n",
    "print('standard deviation of the commited errors (over eigenvalues): %.8f'% (np.std(E_L2_Errors)))"
   ]
  },
  {
   "cell_type": "markdown",
   "metadata": {},
   "source": [
    "Next, lets see the percentile of our commited error over data:"
   ]
  },
  {
   "cell_type": "code",
   "execution_count": 119,
   "metadata": {},
   "outputs": [
    {
     "name": "stdout",
     "output_type": "stream",
     "text": [
      "Percentage of the commited error between 0,5e-6 is: 0.98716683\n",
      "Percentage of the commited error between 5e-6,5e-5 is: 3.55380059\n",
      "Percentage of the commited error between 5e-5,5e-4 is: 9.27936821\n",
      "Percentage of the commited error between 5e-4,5e-3 is: 28.72655479\n",
      "Percentage of the commited error between 5e-3,5e-2 is: 50.83909181\n",
      "Percentage of the commited error between 5e-2,5e-1 is: 6.61401777\n"
     ]
    }
   ],
   "source": [
    "#calculating percentiles:\n",
    "#setting tresholds :\n",
    "T1 = 0\n",
    "T2 = 5e-6\n",
    "T3 = 5e-5\n",
    "T4 = 5e-4\n",
    "T5 = 5e-3\n",
    "T6 = 5e-2\n",
    "T7 = 5e-1\n",
    "S1=S2=S3=S4=S5=S6=0.0\n",
    "for item in E_L2_Errors:\n",
    "    if (item[0]>=T1 and item[0]< T2):\n",
    "        S1 = S1 + 1\n",
    "    elif (item[0]>=T2 and item[0]< T3):\n",
    "        S2 = S2 + 1\n",
    "    elif (item[0]>=T3 and item[0]< T4):\n",
    "        S3 = S3 + 1\n",
    "    elif (item[0]>=T4 and item[0]< T5):\n",
    "        S4 = S4 + 1\n",
    "    elif (item[0]>=T5 and item[0]< T6):\n",
    "        S5 = S5 + 1\n",
    "    elif (item[0]>=T6 and item[0]< T7):\n",
    "        S6 = S6 + 1\n",
    "print('Percentage of the commited error between 0,5e-6 is: %.8f' % ((S1/len(E_L2_Errors)) * 100))\n",
    "print('Percentage of the commited error between 5e-6,5e-5 is: %.8f' % ((S2/len(E_L2_Errors)) * 100))\n",
    "print('Percentage of the commited error between 5e-5,5e-4 is: %.8f' % ((S3/len(E_L2_Errors)) * 100))\n",
    "print('Percentage of the commited error between 5e-4,5e-3 is: %.8f' % ((S4/len(E_L2_Errors)) * 100))\n",
    "print('Percentage of the commited error between 5e-3,5e-2 is: %.8f' % ((S5/len(E_L2_Errors)) * 100))\n",
    "print('Percentage of the commited error between 5e-2,5e-1 is: %.8f' % ((S6/len(E_L2_Errors)) * 100))"
   ]
  },
  {
   "cell_type": "markdown",
   "metadata": {},
   "source": [
    "Plots are easier to read:"
   ]
  },
  {
   "cell_type": "code",
   "execution_count": 120,
   "metadata": {},
   "outputs": [
    {
     "data": {
      "image/png": "[encoded data removed]",
      "text/plain": [
       "<Figure size 864x432 with 1 Axes>"
      ]
     },
     "metadata": {},
     "output_type": "display_data"
    }
   ],
   "source": [
    "import numpy as np\n",
    "import matplotlib.pyplot as plt\n",
    "\n",
    "fig, ax = plt.subplots(figsize=(12, 6), subplot_kw=dict(aspect=\"equal\"))\n",
    "\n",
    "\n",
    "data_to_plot = [(S1/len(E_L2_Errors)),\n",
    "          (S2/len(E_L2_Errors)),\n",
    "          (S3/len(E_L2_Errors)),\n",
    "          (S4/len(E_L2_Errors)),\n",
    "          (S5/len(E_L2_Errors)),\n",
    "          (S6/len(E_L2_Errors))]\n",
    "ingredients = [\"0, 5e-6\", \n",
    "               \"5e-6, 5e-5\",\n",
    "               \"5e-5, 5e-4\",\n",
    "               \"5e-4, 5e-3\",\n",
    "               \"5e-3, 5e-2\",\n",
    "               \"5e-2, 5e-1\",]\n",
    "\n",
    "\n",
    "def func(pct, allvals):\n",
    "    return \"{:.1f}\".format(pct)\n",
    "\n",
    "\n",
    "wedges, texts, autotexts = ax.pie(data_to_plot, autopct=lambda pct: func(pct, data_to_plot),\n",
    "                                  textprops=dict(color=\"w\"))\n",
    "\n",
    "ax.legend(wedges, ingredients,\n",
    "          title=\"Error bounds\",\n",
    "          loc=\"center left\",\n",
    "          bbox_to_anchor=(1, 0, 0.5, 1))\n",
    "\n",
    "plt.setp(autotexts, size=8, weight=\"bold\")\n",
    "\n",
    "ax.set_title(\"error percentages\")\n",
    "\n",
    "plt.show()"
   ]
  },
  {
   "cell_type": "markdown",
   "metadata": {},
   "source": [
    "It would be convinient to take a look at learning history of the network, It'll gives us valuable informations about how the training process were went:"
   ]
  },
  {
   "cell_type": "code",
   "execution_count": 121,
   "metadata": {},
   "outputs": [
    {
     "name": "stdout",
     "output_type": "stream",
     "text": [
      "['val_mean_absolute_error', 'loss', 'mean_absolute_error', 'val_loss']\n"
     ]
    },
    {
     "data": {
      "image/png": "[encoded data removed]",
      "text/plain": [
       "<Figure size 432x288 with 1 Axes>"
      ]
     },
     "metadata": {
      "needs_background": "light"
     },
     "output_type": "display_data"
    },
    {
     "data": {
      "image/png": "[encoded data removed]",
      "text/plain": [
       "<Figure size 432x288 with 1 Axes>"
      ]
     },
     "metadata": {
      "needs_background": "light"
     },
     "output_type": "display_data"
    }
   ],
   "source": [
    "import matplotlib.pyplot as plt\n",
    "print(history.history.keys())\n",
    "# summarize history for accuracy\n",
    "plt.plot(history.history['mean_absolute_error'])\n",
    "plt.plot(history.history['val_mean_absolute_error'])\n",
    "plt.title('model accuracy')\n",
    "plt.ylabel('accuracy')\n",
    "plt.xlabel('epoch')\n",
    "plt.legend(['MAE_A_eff_train', 'MAE_A_eff_test'], loc='upper left')\n",
    "plt.show()\n",
    "\n",
    "# summarize history for loss\n",
    "plt.plot(history.history['loss'])\n",
    "plt.plot(history.history['val_loss'])\n",
    "plt.title('model loss')\n",
    "plt.ylabel('loss')\n",
    "plt.xlabel('epoch')\n",
    "plt.legend(['loss1 on train', 'loss1 on test'], loc='upper left')\n",
    "plt.show()"
   ]
  },
  {
   "cell_type": "markdown",
   "metadata": {},
   "source": [
    "Here is a summary of our model:"
   ]
  },
  {
   "cell_type": "code",
   "execution_count": 122,
   "metadata": {},
   "outputs": [
    {
     "name": "stdout",
     "output_type": "stream",
     "text": [
      "__________________________________________________________________________________________________\n",
      "Layer (type)                    Output Shape         Param #     Connected to                     \n",
      "==================================================================================================\n",
      "input_18 (InputLayer)           (None, 9, 9)         0                                            \n",
      "__________________________________________________________________________________________________\n",
      "periodic_padding2d_18 (Periodic (None, 17, 17)       0           input_18[0][0]                   \n",
      "__________________________________________________________________________________________________\n",
      "reshape_36 (Reshape)            (None, 17, 17, 1)    0           periodic_padding2d_18[0][0]      \n",
      "__________________________________________________________________________________________________\n",
      "conv2d_55 (Conv2D)              (None, 17, 17, 5)    410         reshape_36[0][0]                 \n",
      "__________________________________________________________________________________________________\n",
      "conv2d_56 (Conv2D)              (None, 17, 17, 1)    406         conv2d_55[0][0]                  \n",
      "__________________________________________________________________________________________________\n",
      "global_average_pooling2d_13 (Gl (None, 1)            0           conv2d_56[0][0]                  \n",
      "__________________________________________________________________________________________________\n",
      "lambda_12 (Lambda)              (None, 1)            0           global_average_pooling2d_13[0][0]\n",
      "__________________________________________________________________________________________________\n",
      "reshape_35 (Reshape)            (None, 9, 9, 1)      0           input_18[0][0]                   \n",
      "__________________________________________________________________________________________________\n",
      "add_26 (Add)                    (None, 9, 9, 1)      0           lambda_12[0][0]                  \n",
      "                                                                 reshape_35[0][0]                 \n",
      "__________________________________________________________________________________________________\n",
      "conv2d_57 (Conv2D)              (None, 9, 9, 5)      410         add_26[0][0]                     \n",
      "__________________________________________________________________________________________________\n",
      "add_27 (Add)                    (None, 9, 9, 5)      0           conv2d_57[0][0]                  \n",
      "                                                                 reshape_35[0][0]                 \n",
      "__________________________________________________________________________________________________\n",
      "conv2d_58 (Conv2D)              (None, 9, 9, 1)      406         add_27[0][0]                     \n",
      "__________________________________________________________________________________________________\n",
      "flatten_10 (Flatten)            (None, 81)           0           conv2d_58[0][0]                  \n",
      "__________________________________________________________________________________________________\n",
      "dense_10 (Dense)                (None, 1)            82          flatten_10[0][0]                 \n",
      "==================================================================================================\n",
      "Total params: 1,714\n",
      "Trainable params: 1,714\n",
      "Non-trainable params: 0\n",
      "__________________________________________________________________________________________________\n"
     ]
    }
   ],
   "source": [
    "model.summary()"
   ]
  },
  {
   "cell_type": "markdown",
   "metadata": {},
   "source": [
    "And Finally, lets save the model for later uses:"
   ]
  },
  {
   "cell_type": "code",
   "execution_count": 123,
   "metadata": {},
   "outputs": [
    {
     "name": "stdout",
     "output_type": "stream",
     "text": [
      "Saved model to disk\n"
     ]
    }
   ],
   "source": [
    "from keras.models import model_from_json\n",
    "import numpy\n",
    "import os\n",
    "\n",
    "# serialize model to JSON\n",
    "model_json = model.to_json()\n",
    "with open(\"model.json\", \"w\") as json_file:\n",
    "    json_file.write(model_json)\n",
    "# serialize weights to HDF5\n",
    "model.save_weights(\"model.h5\")\n",
    "print(\"Saved model to disk\")"
   ]
  },
  {
   "cell_type": "code",
   "execution_count": null,
   "metadata": {},
   "outputs": [],
   "source": []
  },
  {
   "cell_type": "code",
   "execution_count": null,
   "metadata": {},
   "outputs": [],
   "source": []
  },
  {
   "cell_type": "code",
   "execution_count": null,
   "metadata": {},
   "outputs": [],
   "source": []
  }
 ],
 "metadata": {
  "@webio": {
   "lastCommId": null,
   "lastKernelId": null
  },
  "kernelspec": {
   "display_name": "Python 2",
   "language": "python",
   "name": "python2"
  },
  "language_info": {
   "codemirror_mode": {
    "name": "ipython",
    "version": 2
   },
   "file_extension": ".py",
   "mimetype": "text/x-python",
   "name": "python",
   "nbconvert_exporter": "python",
   "pygments_lexer": "ipython2",
   "version": "2.7.16"
  }
 },
 "nbformat": 4,
 "nbformat_minor": 2
}
