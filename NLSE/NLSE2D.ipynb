{
 "cells": [
  {
   "cell_type": "markdown",
   "metadata": {},
   "source": [
    "#  NLSE in 2D\n",
    "The equation that we want to solve is :\n",
    "\n",
    "$-\\Delta u(x) + a(x)u(x) + \\sigma u(x)^3 = E_0 u(x)$.\n",
    "\n",
    "The equation had been solved in gnu-octave, the script is presented. also note that each sample is in one seperate Matlab 6 compatible `.mat` file, and the seperation had been done in the script itself. Due to larg amount of small files, I did compress the `data` folder for ease of use. If you want to run the code in here, you have to unzip `./octave/NLSE2D/data.zip'."
   ]
  },
  {
   "cell_type": "markdown",
   "metadata": {},
   "source": [
    "The data were generated in matlab 6 compatible format with GNU-Octave. Let's import it:"
   ]
  },
  {
   "cell_type": "code",
   "execution_count": 1,
   "metadata": {},
   "outputs": [],
   "source": [
    "from scipy.io import loadmat\n",
    "from os import listdir\n",
    "from os.path import isfile, join\n",
    "import numpy as np\n",
    "\n",
    "test_path = './octave/NLSE2D/data/test'\n",
    "onlyfiles = [f for f in listdir(test_path) if isfile(join(test_path, f))]\n",
    "E_test = []\n",
    "V_test = []\n",
    "a_test = []\n",
    "onlyfiles.sort(key=lambda f: int(filter(str.isdigit, f)))\n",
    "for file in onlyfiles:\n",
    "    f = loadmat(test_path+'/'+file)\n",
    "    E_test.append(f['E'][-1][-1])\n",
    "    V_test.append(f['V'].flatten())\n",
    "    a_test.append(f['a'])\n",
    "    \n",
    "train_path = './octave/NLSE2D/data/train'\n",
    "onlyfiles = [f for f in listdir(train_path) if isfile(join(train_path, f))]\n",
    "E_train = []\n",
    "V_train = []\n",
    "a_train = []\n",
    "onlyfiles.sort(key=lambda f: int(filter(str.isdigit, f)))\n",
    "for file in onlyfiles:\n",
    "    f = loadmat(train_path+'/'+file)\n",
    "    E_train.append(f['E'][-1][-1])\n",
    "    V_train.append(f['V'].flatten())\n",
    "    a_train.append(f['a'])\n",
    "\n",
    "data = np.array(a_train)\n",
    "d_test = np.array(a_test)\n",
    "labels = np.array(E_train)\n",
    "l_test = np.array(E_test)\n",
    "\n",
    "# Number of mesh points per axis, which later will be used to calculated the number of neurons per layer\n",
    "n = data.shape[1] # in our case 9"
   ]
  },
  {
   "cell_type": "markdown",
   "metadata": {},
   "source": [
    "Next we go for normilization, if any needed. Here we normalize our labels to have the mean of zero and variance of 1 (called zscore normalization):"
   ]
  },
  {
   "cell_type": "code",
   "execution_count": 2,
   "metadata": {},
   "outputs": [],
   "source": [
    "def zscore_normalize(E):\n",
    "    std = np.std(E)\n",
    "    mean = np.mean(E)\n",
    "    for i in range(len(E)):\n",
    "        E[i] = (E[i]-mean)/std\n",
    "    return E"
   ]
  },
  {
   "cell_type": "code",
   "execution_count": 3,
   "metadata": {},
   "outputs": [],
   "source": [
    "E_test = zscore_normalize(E_test)\n",
    "E_train = zscore_normalize(E_train)"
   ]
  },
  {
   "cell_type": "code",
   "execution_count": 4,
   "metadata": {},
   "outputs": [],
   "source": [
    "for i in range(len(a_train)):\n",
    "    a_train[i] = zscore_normalize(a_train[i])\n",
    "for i in range(len(a_test)):\n",
    "    a_test[i] = zscore_normalize(a_test[i])"
   ]
  },
  {
   "cell_type": "markdown",
   "metadata": {},
   "source": [
    "Next, we do padding. Data size after padding would be $2n-1$, the we do a padding of size $floor(n/2)$ around the original input. This is not the best way to do it, but it will do. to see what it would produce afterwards I included an example for more clarity:"
   ]
  },
  {
   "cell_type": "code",
   "execution_count": 5,
   "metadata": {},
   "outputs": [],
   "source": [
    "def wrap_pad(input, size):\n",
    "    M1 = tf.concat([input[:,:, -size:], input, input[:,:, 0:size]], 2)\n",
    "    M1 = tf.concat([M1[:,-size:, :], M1, M1[:,0:size, :]], 1)\n",
    "    return M1"
   ]
  },
  {
   "cell_type": "code",
   "execution_count": 7,
   "metadata": {},
   "outputs": [],
   "source": [
    "import tensorflow as tf\n",
    "session = tf.InteractiveSession()"
   ]
  },
  {
   "cell_type": "code",
   "execution_count": 8,
   "metadata": {},
   "outputs": [
    {
     "name": "stdout",
     "output_type": "stream",
     "text": [
      "original tensor\n",
      "\n",
      "[[[ 1  2]\n",
      "  [ 3  4]]\n",
      "\n",
      " [[ 5  6]\n",
      "  [ 7  8]]\n",
      "\n",
      " [[ 9 10]\n",
      "  [11 12]]]\n",
      "\n",
      " padded tensor\n",
      "\n",
      "[[[ 4  3  4  3]\n",
      "  [ 2  1  2  1]\n",
      "  [ 4  3  4  3]\n",
      "  [ 2  1  2  1]]\n",
      "\n",
      " [[ 8  7  8  7]\n",
      "  [ 6  5  6  5]\n",
      "  [ 8  7  8  7]\n",
      "  [ 6  5  6  5]]\n",
      "\n",
      " [[12 11 12 11]\n",
      "  [10  9 10  9]\n",
      "  [12 11 12 11]\n",
      "  [10  9 10  9]]]\n"
     ]
    }
   ],
   "source": [
    "a = tf.constant(np.arange(1, 13, dtype=np.int32), shape=[3, 2, 2])\n",
    "print \"original tensor\\n\"\n",
    "print a.eval()\n",
    "p = wrap_pad(a, 1)\n",
    "print \"\\n padded tensor\\n\"\n",
    "print p.eval()"
   ]
  },
  {
   "cell_type": "code",
   "execution_count": 9,
   "metadata": {
    "code_folding": []
   },
   "outputs": [
    {
     "name": "stderr",
     "output_type": "stream",
     "text": [
      "Using TensorFlow backend.\n"
     ]
    }
   ],
   "source": [
    "import tensorflow as tf\n",
    "from keras import layers\n",
    "from tensorflow.keras.layers import InputSpec \n",
    "from tensorflow.python.keras.utils import conv_utils\n",
    "\n",
    "class PeriodicPadding2D(layers.Layer):\n",
    "  \"\"\"Periodic-padding layer for 2D input.\n",
    "  \"\"\"\n",
    "\n",
    "  def __init__(self, padding=1, **kwargs):\n",
    "    super(PeriodicPadding2D, self).__init__(**kwargs)\n",
    "    self.padding = conv_utils.normalize_tuple(padding, 1, 'padding')\n",
    "    self.input_spec = InputSpec(ndim=3)\n",
    "  def wrap_pad(self, input, size):\n",
    "    M1 = tf.concat([input[:,:, -size:], input, input[:,:, 0:size]], 2)\n",
    "    M1 = tf.concat([M1[:,-size:, :], M1, M1[:,0:size, :]], 1)\n",
    "    return M1\n",
    "    \n",
    "  def compute_output_shape(self, input_shape):\n",
    "    shape = list(input_shape)\n",
    "    assert len(shape) == 3  # only valid for 2D tensors\n",
    "    if shape[1] is not None:\n",
    "      length = shape[1] + 2*self.padding[0]\n",
    "    else:\n",
    "      length = None\n",
    "    return tuple([shape[0], length, length])\n",
    "\n",
    "  def call(self, inputs): \n",
    "    return self.wrap_pad(inputs, self.padding[0])\n",
    "\n",
    "  def get_config(self):\n",
    "    config = {'padding': self.padding}\n",
    "    base_config = super(PeriodicPadding2D, self).get_config()\n",
    "    return dict(list(base_config.items()) + list(config.items()))\n"
   ]
  },
  {
   "cell_type": "markdown",
   "metadata": {},
   "source": [
    "Now that the pre processing on the data had been finished, we go for the actual network:"
   ]
  },
  {
   "cell_type": "code",
   "execution_count": 10,
   "metadata": {},
   "outputs": [],
   "source": [
    "import keras\n",
    "import tensorflow as tf\n",
    "from keras import optimizers \n",
    "from keras.models import Model\n",
    "from keras.callbacks import CSVLogger\n",
    "from keras.layers import Input, Dense, add, Activation ,Reshape, Conv1D,Conv2D, Flatten ,GlobalAveragePooling2D , Lambda"
   ]
  },
  {
   "cell_type": "markdown",
   "metadata": {},
   "source": [
    "It would be convinient to have some callbacks. Specially eraly stopping callback. which ends the learning process if loss function stop descending and start to raise, and restores the best epoch's weights:"
   ]
  },
  {
   "cell_type": "code",
   "execution_count": 11,
   "metadata": {},
   "outputs": [],
   "source": [
    "class EarlyStoppingAtMinLoss(tf.keras.callbacks.Callback):\n",
    "  \"\"\"Stop training when the loss is at its min, i.e. the loss stops decreasing.\n",
    "\n",
    "  Arguments:\n",
    "      patience: Number of epochs to wait after min has been hit. After this\n",
    "      number of no improvement, training stops.\n",
    "  \"\"\"\n",
    "\n",
    "  def __init__(self, patience=20):\n",
    "    super(EarlyStoppingAtMinLoss, self).__init__()\n",
    "\n",
    "    self.patience = patience\n",
    "\n",
    "    # best_weights to store the weights at which the minimum loss occurs.\n",
    "    self.best_weights = None\n",
    "\n",
    "  def on_train_begin(self, logs=None):\n",
    "    # The number of epoch it has waited when loss is no longer minimum.\n",
    "    self.wait = 0\n",
    "    # The epoch the training stops at.\n",
    "    self.stopped_epoch = 0\n",
    "    # Initialize the best as infinity.\n",
    "    self.best = np.Inf\n",
    "\n",
    "  def on_epoch_end(self, epoch, logs=None):\n",
    "    current = logs.get('loss')\n",
    "    if np.less(current, self.best):\n",
    "      self.best = current\n",
    "      self.wait = 0\n",
    "      # Record the best weights if current results is better (less).\n",
    "      self.best_weights = self.model.get_weights()\n",
    "    else:\n",
    "      self.wait += 1\n",
    "      if self.wait >= self.patience:\n",
    "        self.stopped_epoch = epoch\n",
    "        self.model.stop_training = True\n",
    "        print('Restoring model weights from the end of the best epoch.')\n",
    "        self.model.set_weights(self.best_weights)\n",
    "\n",
    "  def on_train_end(self, logs=None):\n",
    "    if self.stopped_epoch > 0:\n",
    "      print('Epoch %05d: early stopping' % (self.stopped_epoch + 1))\n",
    "    \n",
    "\n",
    "\n",
    "call = CSVLogger('report.csv', separator=',', append=True)"
   ]
  },
  {
   "cell_type": "markdown",
   "metadata": {},
   "source": [
    "Lets define the actual network"
   ]
  },
  {
   "cell_type": "markdown",
   "metadata": {},
   "source": [
    "Next we define the network parameters"
   ]
  },
  {
   "cell_type": "code",
   "execution_count": 12,
   "metadata": {},
   "outputs": [],
   "source": [
    "# The Number of channels\n",
    "alpha = 5\n",
    "kernel_size = (n,n)\n",
    "activation = 'relu'\n",
    "padding = 'same'\n",
    "\n",
    "# This one is a bit tricky. I used a global average layer and a lambda layer to do sumpooling, \n",
    "# first sums every elements in data and second I multiply them to the pool size\n",
    "size_of_input = n^2"
   ]
  },
  {
   "cell_type": "markdown",
   "metadata": {},
   "source": [
    "Note how the input vector goas through the network similar to ResNet Structure, also note that the input to the network is the padded data:"
   ]
  },
  {
   "cell_type": "code",
   "execution_count": 13,
   "metadata": {},
   "outputs": [
    {
     "name": "stdout",
     "output_type": "stream",
     "text": [
      "Tensor(\"input_1:0\", shape=(?, 9, 9), dtype=float32)\n",
      "Tensor(\"reshape_1/Reshape:0\", shape=(?, 9, 9, 1), dtype=float32)\n",
      "Tensor(\"periodic_padding2d_1/concat_1:0\", shape=(?, 17, 17), dtype=float32)\n",
      "Tensor(\"reshape_2/Reshape:0\", shape=(?, 17, 17, 1), dtype=float32)\n",
      "Tensor(\"conv2d_1/Relu:0\", shape=(?, 17, 17, 5), dtype=float32)\n",
      "Tensor(\"conv2d_2/Relu:0\", shape=(?, 17, 17, 1), dtype=float32)\n",
      "Tensor(\"global_average_pooling2d_1/Mean:0\", shape=(?, 1), dtype=float32)\n",
      "Tensor(\"lambda_1/mul:0\", shape=(?, 1), dtype=float32)\n",
      "Tensor(\"conv2d_3/Relu:0\", shape=(?, 9, 9, 5), dtype=float32)\n",
      "Tensor(\"conv2d_4/Relu:0\", shape=(?, 9, 9, 1), dtype=float32)\n",
      "Tensor(\"flatten_1/Reshape:0\", shape=(?, ?), dtype=float32)\n",
      "Tensor(\"dense_1/BiasAdd:0\", shape=(?, 1), dtype=float32)\n"
     ]
    }
   ],
   "source": [
    "from keras.backend import int_shape\n",
    "stack = []\n",
    "inputTensor = Input(shape=(n,n))\n",
    "\n",
    "stack.append(Reshape((n, n, 1))(inputTensor))#shortcut connection\n",
    "stack.append(PeriodicPadding2D(padding=int(np.floor(n/2)), input_shape=(n,n))(inputTensor))\n",
    "stack.append(Reshape((int_shape(stack[len(stack)-1])[1], int_shape(stack[len(stack)-1])[2], 1))(stack[len(stack)-1]))\n",
    "\n",
    "# Conv blocks\n",
    "stack.append(Conv2D(alpha, kernel_size, padding='same', activation='relu')(stack[len(stack)-1]))\n",
    "stack.append(Conv2D(1, kernel_size, padding='same', activation='relu')(stack[len(stack)-1]))\n",
    "\n",
    "# Sum pooling\n",
    "stack.append(GlobalAveragePooling2D(data_format='channels_last')(stack[len(stack)-1]))\n",
    "stack.append(Lambda(lambda x: x * kernel_size[0]**2)(stack[len(stack)-1]))\n",
    "\n",
    "# Conv blocks\n",
    "stack.append(Conv2D(alpha, kernel_size, padding='same', activation='relu')(add([stack[len(stack)-1],stack[0]])))\n",
    "stack.append(Conv2D(1, kernel_size, padding='same', activation='relu')(add([stack[len(stack)-1],stack[0]])))\n",
    "\n",
    "# out\n",
    "stack.append(Flatten()(stack[len(stack)-1])) \n",
    "finalOutput = Dense(1)(stack[len(stack)-1])\n",
    "\n",
    "\n",
    "\n",
    "print inputTensor\n",
    "for i in range(len(stack)):\n",
    "    print stack[i]\n",
    "print finalOutput\n",
    "\n",
    "\n",
    "model = Model(inputTensor,finalOutput)"
   ]
  },
  {
   "cell_type": "markdown",
   "metadata": {},
   "source": [
    "Setting up the optimizar"
   ]
  },
  {
   "cell_type": "code",
   "execution_count": 14,
   "metadata": {},
   "outputs": [],
   "source": [
    "opt = optimizers.Nadam(lr=0.00005, beta_1=0.9, beta_2=0.999)"
   ]
  },
  {
   "cell_type": "markdown",
   "metadata": {},
   "source": [
    "Compiling the model"
   ]
  },
  {
   "cell_type": "code",
   "execution_count": 15,
   "metadata": {},
   "outputs": [],
   "source": [
    "model.compile(loss='mse', optimizer=opt, metrics=['mae'])"
   ]
  },
  {
   "cell_type": "markdown",
   "metadata": {},
   "source": [
    "Fitting the data (training the model):"
   ]
  },
  {
   "cell_type": "code",
   "execution_count": 17,
   "metadata": {},
   "outputs": [
    {
     "name": "stdout",
     "output_type": "stream",
     "text": [
      "Train on 4876 samples, validate on 861 samples\n",
      "Epoch 1/200\n",
      "4876/4876 [==============================] - 9s 2ms/step - loss: 29.7846 - mean_absolute_error: 4.3083 - val_loss: 21.8644 - val_mean_absolute_error: 3.6808\n",
      "Epoch 2/200\n",
      "4876/4876 [==============================] - 7s 1ms/step - loss: 19.8787 - mean_absolute_error: 3.5376 - val_loss: 16.9690 - val_mean_absolute_error: 3.2869\n",
      "Epoch 3/200\n",
      "4876/4876 [==============================] - 7s 1ms/step - loss: 15.6448 - mean_absolute_error: 3.1415 - val_loss: 14.2699 - val_mean_absolute_error: 2.9881\n",
      "Epoch 4/200\n",
      "4876/4876 [==============================] - 7s 1ms/step - loss: 12.4816 - mean_absolute_error: 2.7937 - val_loss: 10.0137 - val_mean_absolute_error: 2.5235\n",
      "Epoch 5/200\n",
      "4876/4876 [==============================] - 7s 1ms/step - loss: 9.0878 - mean_absolute_error: 2.3939 - val_loss: 8.8743 - val_mean_absolute_error: 2.3913\n",
      "Epoch 6/200\n",
      "4876/4876 [==============================] - 7s 1ms/step - loss: 8.0311 - mean_absolute_error: 2.2533 - val_loss: 7.9174 - val_mean_absolute_error: 2.2612\n",
      "Epoch 7/200\n",
      "4876/4876 [==============================] - 7s 1ms/step - loss: 7.1127 - mean_absolute_error: 2.1166 - val_loss: 7.0591 - val_mean_absolute_error: 2.1327\n",
      "Epoch 8/200\n",
      "4876/4876 [==============================] - 7s 1ms/step - loss: 6.3168 - mean_absolute_error: 1.9965 - val_loss: 6.4184 - val_mean_absolute_error: 2.0252\n",
      "Epoch 9/200\n",
      "4876/4876 [==============================] - 7s 1ms/step - loss: 5.6681 - mean_absolute_error: 1.8918 - val_loss: 5.9238 - val_mean_absolute_error: 1.9435\n",
      "Epoch 10/200\n",
      "4876/4876 [==============================] - 7s 1ms/step - loss: 5.0649 - mean_absolute_error: 1.7917 - val_loss: 5.0821 - val_mean_absolute_error: 1.8077\n",
      "Epoch 11/200\n",
      "4876/4876 [==============================] - 7s 1ms/step - loss: 4.5488 - mean_absolute_error: 1.6960 - val_loss: 4.6412 - val_mean_absolute_error: 1.7188\n",
      "Epoch 12/200\n",
      "4876/4876 [==============================] - 7s 1ms/step - loss: 4.0922 - mean_absolute_error: 1.6066 - val_loss: 3.9679 - val_mean_absolute_error: 1.5883\n",
      "Epoch 13/200\n",
      "4876/4876 [==============================] - 7s 1ms/step - loss: 3.6785 - mean_absolute_error: 1.5223 - val_loss: 3.6376 - val_mean_absolute_error: 1.5226\n",
      "Epoch 14/200\n",
      "4876/4876 [==============================] - 5s 1ms/step - loss: 3.3123 - mean_absolute_error: 1.4462 - val_loss: 3.2062 - val_mean_absolute_error: 1.4275\n",
      "Epoch 15/200\n",
      "4876/4876 [==============================] - 5s 1ms/step - loss: 2.9739 - mean_absolute_error: 1.3650 - val_loss: 2.9297 - val_mean_absolute_error: 1.3643\n",
      "Epoch 16/200\n",
      "4876/4876 [==============================] - 5s 1ms/step - loss: 2.6617 - mean_absolute_error: 1.2930 - val_loss: 2.5906 - val_mean_absolute_error: 1.2811\n",
      "Epoch 17/200\n",
      "4876/4876 [==============================] - 5s 1ms/step - loss: 2.4097 - mean_absolute_error: 1.2345 - val_loss: 2.3926 - val_mean_absolute_error: 1.2305\n",
      "Epoch 18/200\n",
      "4876/4876 [==============================] - 6s 1ms/step - loss: 2.1600 - mean_absolute_error: 1.1654 - val_loss: 2.1428 - val_mean_absolute_error: 1.1672\n",
      "Epoch 19/200\n",
      "4876/4876 [==============================] - 6s 1ms/step - loss: 1.9390 - mean_absolute_error: 1.1075 - val_loss: 1.9635 - val_mean_absolute_error: 1.1178\n",
      "Epoch 20/200\n",
      "4876/4876 [==============================] - 8s 2ms/step - loss: 1.7541 - mean_absolute_error: 1.0556 - val_loss: 1.7477 - val_mean_absolute_error: 1.0446\n",
      "Epoch 21/200\n",
      "4876/4876 [==============================] - 7s 1ms/step - loss: 1.5716 - mean_absolute_error: 0.9979 - val_loss: 1.5896 - val_mean_absolute_error: 0.9932\n",
      "Epoch 22/200\n",
      "4876/4876 [==============================] - 7s 2ms/step - loss: 1.4243 - mean_absolute_error: 0.9502 - val_loss: 1.4753 - val_mean_absolute_error: 0.9528\n",
      "Epoch 23/200\n",
      "4876/4876 [==============================] - 7s 1ms/step - loss: 1.3037 - mean_absolute_error: 0.9074 - val_loss: 1.3479 - val_mean_absolute_error: 0.9215\n",
      "Epoch 24/200\n",
      "4876/4876 [==============================] - 6s 1ms/step - loss: 1.1731 - mean_absolute_error: 0.8622 - val_loss: 1.1881 - val_mean_absolute_error: 0.8567\n",
      "Epoch 25/200\n",
      "4876/4876 [==============================] - 7s 1ms/step - loss: 1.0751 - mean_absolute_error: 0.8232 - val_loss: 1.1097 - val_mean_absolute_error: 0.8314\n",
      "Epoch 26/200\n",
      "4876/4876 [==============================] - 6s 1ms/step - loss: 0.9814 - mean_absolute_error: 0.7903 - val_loss: 1.1058 - val_mean_absolute_error: 0.8367\n",
      "Epoch 27/200\n",
      "4876/4876 [==============================] - 6s 1ms/step - loss: 0.9011 - mean_absolute_error: 0.7567 - val_loss: 0.9233 - val_mean_absolute_error: 0.7540\n",
      "Epoch 28/200\n",
      "4876/4876 [==============================] - 6s 1ms/step - loss: 0.8233 - mean_absolute_error: 0.7249 - val_loss: 0.9706 - val_mean_absolute_error: 0.7750\n",
      "Epoch 29/200\n",
      "4876/4876 [==============================] - 6s 1ms/step - loss: 0.7691 - mean_absolute_error: 0.6994 - val_loss: 1.3260 - val_mean_absolute_error: 0.9422\n",
      "Epoch 30/200\n",
      "4876/4876 [==============================] - 6s 1ms/step - loss: 0.7205 - mean_absolute_error: 0.6771 - val_loss: 0.7553 - val_mean_absolute_error: 0.6795\n",
      "Epoch 31/200\n",
      "4876/4876 [==============================] - 6s 1ms/step - loss: 0.6527 - mean_absolute_error: 0.6417 - val_loss: 0.7181 - val_mean_absolute_error: 0.6638\n",
      "Epoch 32/200\n",
      "4876/4876 [==============================] - 6s 1ms/step - loss: 0.6035 - mean_absolute_error: 0.6177 - val_loss: 0.6110 - val_mean_absolute_error: 0.6124\n",
      "Epoch 33/200\n",
      "4876/4876 [==============================] - 6s 1ms/step - loss: 0.5672 - mean_absolute_error: 0.5974 - val_loss: 0.5640 - val_mean_absolute_error: 0.5884\n",
      "Epoch 34/200\n",
      "4876/4876 [==============================] - 6s 1ms/step - loss: 0.5387 - mean_absolute_error: 0.5844 - val_loss: 0.5321 - val_mean_absolute_error: 0.5743\n",
      "Epoch 35/200\n",
      "4876/4876 [==============================] - 6s 1ms/step - loss: 0.4849 - mean_absolute_error: 0.5547 - val_loss: 0.4856 - val_mean_absolute_error: 0.5469\n",
      "Epoch 36/200\n",
      "4876/4876 [==============================] - 5s 997us/step - loss: 0.4602 - mean_absolute_error: 0.5406 - val_loss: 0.5562 - val_mean_absolute_error: 0.5949\n",
      "Epoch 37/200\n",
      "4876/4876 [==============================] - 5s 1ms/step - loss: 0.4443 - mean_absolute_error: 0.5315 - val_loss: 0.4405 - val_mean_absolute_error: 0.5258\n",
      "Epoch 38/200\n",
      "4876/4876 [==============================] - 5s 1ms/step - loss: 0.4094 - mean_absolute_error: 0.5068 - val_loss: 0.5338 - val_mean_absolute_error: 0.5850\n",
      "Epoch 39/200\n",
      "4876/4876 [==============================] - 5s 1ms/step - loss: 0.3797 - mean_absolute_error: 0.4911 - val_loss: 0.4638 - val_mean_absolute_error: 0.5464\n",
      "Epoch 40/200\n",
      "4876/4876 [==============================] - 5s 1ms/step - loss: 0.3615 - mean_absolute_error: 0.4792 - val_loss: 0.3658 - val_mean_absolute_error: 0.4822\n",
      "Epoch 41/200\n",
      "4876/4876 [==============================] - 6s 1ms/step - loss: 0.3389 - mean_absolute_error: 0.4629 - val_loss: 0.6237 - val_mean_absolute_error: 0.6392\n",
      "Epoch 42/200\n",
      "4876/4876 [==============================] - 6s 1ms/step - loss: 0.3369 - mean_absolute_error: 0.4621 - val_loss: 0.3110 - val_mean_absolute_error: 0.4410\n",
      "Epoch 43/200\n",
      "4876/4876 [==============================] - 6s 1ms/step - loss: 0.3036 - mean_absolute_error: 0.4379 - val_loss: 0.3443 - val_mean_absolute_error: 0.4714\n",
      "Epoch 44/200\n",
      "4876/4876 [==============================] - 5s 1ms/step - loss: 0.2928 - mean_absolute_error: 0.4299 - val_loss: 0.2994 - val_mean_absolute_error: 0.4269\n",
      "Epoch 45/200\n",
      "4876/4876 [==============================] - 7s 1ms/step - loss: 0.2830 - mean_absolute_error: 0.4202 - val_loss: 0.2941 - val_mean_absolute_error: 0.4353\n",
      "Epoch 46/200\n",
      "4876/4876 [==============================] - 7s 1ms/step - loss: 0.2684 - mean_absolute_error: 0.4132 - val_loss: 0.2548 - val_mean_absolute_error: 0.4013\n",
      "Epoch 47/200\n",
      "4876/4876 [==============================] - 7s 1ms/step - loss: 0.2538 - mean_absolute_error: 0.4009 - val_loss: 0.2794 - val_mean_absolute_error: 0.4133\n",
      "Epoch 48/200\n",
      "4876/4876 [==============================] - 5s 1ms/step - loss: 0.2466 - mean_absolute_error: 0.3954 - val_loss: 0.2403 - val_mean_absolute_error: 0.3843\n",
      "Epoch 49/200\n"
     ]
    },
    {
     "name": "stdout",
     "output_type": "stream",
     "text": [
      "4876/4876 [==============================] - 7s 2ms/step - loss: 0.2248 - mean_absolute_error: 0.3779 - val_loss: 0.2199 - val_mean_absolute_error: 0.3700\n",
      "Epoch 50/200\n",
      "4876/4876 [==============================] - 7s 1ms/step - loss: 0.2195 - mean_absolute_error: 0.3725 - val_loss: 0.2551 - val_mean_absolute_error: 0.3960\n",
      "Epoch 51/200\n",
      "4876/4876 [==============================] - 7s 1ms/step - loss: 0.2109 - mean_absolute_error: 0.3640 - val_loss: 0.2046 - val_mean_absolute_error: 0.3566\n",
      "Epoch 52/200\n",
      "4876/4876 [==============================] - 6s 1ms/step - loss: 0.2061 - mean_absolute_error: 0.3624 - val_loss: 0.1945 - val_mean_absolute_error: 0.3514\n",
      "Epoch 53/200\n",
      "4876/4876 [==============================] - 6s 1ms/step - loss: 0.1896 - mean_absolute_error: 0.3465 - val_loss: 0.1877 - val_mean_absolute_error: 0.3423\n",
      "Epoch 54/200\n",
      "4876/4876 [==============================] - 6s 1ms/step - loss: 0.1993 - mean_absolute_error: 0.3556 - val_loss: 0.1762 - val_mean_absolute_error: 0.3345\n",
      "Epoch 55/200\n",
      "4876/4876 [==============================] - 6s 1ms/step - loss: 0.1832 - mean_absolute_error: 0.3431 - val_loss: 0.2524 - val_mean_absolute_error: 0.4124\n",
      "Epoch 56/200\n",
      "4876/4876 [==============================] - 5s 1ms/step - loss: 0.1748 - mean_absolute_error: 0.3333 - val_loss: 0.2446 - val_mean_absolute_error: 0.4058\n",
      "Epoch 57/200\n",
      "4876/4876 [==============================] - 5s 1ms/step - loss: 0.1638 - mean_absolute_error: 0.3224 - val_loss: 0.1598 - val_mean_absolute_error: 0.3198\n",
      "Epoch 58/200\n",
      "4876/4876 [==============================] - 5s 1ms/step - loss: 0.1670 - mean_absolute_error: 0.3261 - val_loss: 0.2290 - val_mean_absolute_error: 0.3816\n",
      "Epoch 59/200\n",
      "4876/4876 [==============================] - 5s 1ms/step - loss: 0.1531 - mean_absolute_error: 0.3108 - val_loss: 0.1913 - val_mean_absolute_error: 0.3576\n",
      "Epoch 60/200\n",
      "4876/4876 [==============================] - 5s 1ms/step - loss: 0.1499 - mean_absolute_error: 0.3089 - val_loss: 0.1455 - val_mean_absolute_error: 0.3073\n",
      "Epoch 61/200\n",
      "4876/4876 [==============================] - 5s 1ms/step - loss: 0.1382 - mean_absolute_error: 0.2969 - val_loss: 0.1309 - val_mean_absolute_error: 0.2900\n",
      "Epoch 62/200\n",
      "4876/4876 [==============================] - 6s 1ms/step - loss: 0.1405 - mean_absolute_error: 0.2988 - val_loss: 0.1398 - val_mean_absolute_error: 0.3029\n",
      "Epoch 63/200\n",
      "4876/4876 [==============================] - 6s 1ms/step - loss: 0.1343 - mean_absolute_error: 0.2933 - val_loss: 0.1357 - val_mean_absolute_error: 0.2910\n",
      "Epoch 64/200\n",
      "4876/4876 [==============================] - 7s 1ms/step - loss: 0.1362 - mean_absolute_error: 0.2948 - val_loss: 0.1174 - val_mean_absolute_error: 0.2723\n",
      "Epoch 65/200\n",
      "4876/4876 [==============================] - 7s 2ms/step - loss: 0.1290 - mean_absolute_error: 0.2856 - val_loss: 0.1528 - val_mean_absolute_error: 0.3108\n",
      "Epoch 66/200\n",
      "4876/4876 [==============================] - 6s 1ms/step - loss: 0.1185 - mean_absolute_error: 0.2753 - val_loss: 0.1577 - val_mean_absolute_error: 0.3168\n",
      "Epoch 67/200\n",
      "4876/4876 [==============================] - 6s 1ms/step - loss: 0.1300 - mean_absolute_error: 0.2862 - val_loss: 0.1046 - val_mean_absolute_error: 0.2594\n",
      "Epoch 68/200\n",
      "4876/4876 [==============================] - 6s 1ms/step - loss: 0.1210 - mean_absolute_error: 0.2788 - val_loss: 0.1079 - val_mean_absolute_error: 0.2653\n",
      "Epoch 69/200\n",
      "4876/4876 [==============================] - 5s 1ms/step - loss: 0.1077 - mean_absolute_error: 0.2625 - val_loss: 0.0966 - val_mean_absolute_error: 0.2489\n",
      "Epoch 70/200\n",
      "4876/4876 [==============================] - 5s 1ms/step - loss: 0.1056 - mean_absolute_error: 0.2607 - val_loss: 0.1017 - val_mean_absolute_error: 0.2534\n",
      "Epoch 71/200\n",
      "4876/4876 [==============================] - 5s 1ms/step - loss: 0.0982 - mean_absolute_error: 0.2502 - val_loss: 0.1172 - val_mean_absolute_error: 0.2786\n",
      "Epoch 72/200\n",
      "4876/4876 [==============================] - 5s 1ms/step - loss: 0.1037 - mean_absolute_error: 0.2566 - val_loss: 0.0877 - val_mean_absolute_error: 0.2374\n",
      "Epoch 73/200\n",
      "4876/4876 [==============================] - 6s 1ms/step - loss: 0.0980 - mean_absolute_error: 0.2499 - val_loss: 0.1358 - val_mean_absolute_error: 0.3029\n",
      "Epoch 74/200\n",
      "4876/4876 [==============================] - 6s 1ms/step - loss: 0.1004 - mean_absolute_error: 0.2520 - val_loss: 0.1038 - val_mean_absolute_error: 0.2565\n",
      "Epoch 75/200\n",
      "4876/4876 [==============================] - 6s 1ms/step - loss: 0.0950 - mean_absolute_error: 0.2450 - val_loss: 0.0899 - val_mean_absolute_error: 0.2391\n",
      "Epoch 76/200\n",
      "4876/4876 [==============================] - 6s 1ms/step - loss: 0.0856 - mean_absolute_error: 0.2341 - val_loss: 0.0767 - val_mean_absolute_error: 0.2216\n",
      "Epoch 77/200\n",
      "4876/4876 [==============================] - 6s 1ms/step - loss: 0.0898 - mean_absolute_error: 0.2384 - val_loss: 0.0746 - val_mean_absolute_error: 0.2197\n",
      "Epoch 78/200\n",
      "4876/4876 [==============================] - 6s 1ms/step - loss: 0.0850 - mean_absolute_error: 0.2339 - val_loss: 0.0721 - val_mean_absolute_error: 0.2161\n",
      "Epoch 79/200\n",
      "4876/4876 [==============================] - 5s 1ms/step - loss: 0.0859 - mean_absolute_error: 0.2348 - val_loss: 0.0696 - val_mean_absolute_error: 0.2120\n",
      "Epoch 80/200\n",
      "4876/4876 [==============================] - 6s 1ms/step - loss: 0.0811 - mean_absolute_error: 0.2270 - val_loss: 0.0814 - val_mean_absolute_error: 0.2285\n",
      "Epoch 81/200\n",
      "4876/4876 [==============================] - 6s 1ms/step - loss: 0.0702 - mean_absolute_error: 0.2113 - val_loss: 0.0784 - val_mean_absolute_error: 0.2245\n",
      "Epoch 82/200\n",
      "4876/4876 [==============================] - 5s 1ms/step - loss: 0.0690 - mean_absolute_error: 0.2101 - val_loss: 0.1619 - val_mean_absolute_error: 0.3418\n",
      "Epoch 83/200\n",
      "4876/4876 [==============================] - 5s 1ms/step - loss: 0.0822 - mean_absolute_error: 0.2294 - val_loss: 0.0625 - val_mean_absolute_error: 0.2012\n",
      "Epoch 84/200\n",
      "4876/4876 [==============================] - 5s 1ms/step - loss: 0.0761 - mean_absolute_error: 0.2205 - val_loss: 0.0621 - val_mean_absolute_error: 0.2000\n",
      "Epoch 85/200\n",
      "4876/4876 [==============================] - 5s 1ms/step - loss: 0.0674 - mean_absolute_error: 0.2063 - val_loss: 0.0703 - val_mean_absolute_error: 0.2122\n",
      "Epoch 86/200\n",
      "4876/4876 [==============================] - 5s 1ms/step - loss: 0.0677 - mean_absolute_error: 0.2078 - val_loss: 0.0570 - val_mean_absolute_error: 0.1923\n",
      "Epoch 87/200\n",
      "4876/4876 [==============================] - 5s 1ms/step - loss: 0.0607 - mean_absolute_error: 0.1960 - val_loss: 0.0600 - val_mean_absolute_error: 0.1959\n",
      "Epoch 88/200\n",
      "4876/4876 [==============================] - 5s 1ms/step - loss: 0.0612 - mean_absolute_error: 0.1967 - val_loss: 0.0531 - val_mean_absolute_error: 0.1851\n",
      "Epoch 89/200\n",
      "4876/4876 [==============================] - 5s 1ms/step - loss: 0.0659 - mean_absolute_error: 0.2050 - val_loss: 0.0524 - val_mean_absolute_error: 0.1834\n",
      "Epoch 90/200\n",
      "4876/4876 [==============================] - 6s 1ms/step - loss: 0.0659 - mean_absolute_error: 0.2059 - val_loss: 0.0544 - val_mean_absolute_error: 0.1865\n",
      "Epoch 91/200\n",
      "4876/4876 [==============================] - 6s 1ms/step - loss: 0.0591 - mean_absolute_error: 0.1940 - val_loss: 0.0493 - val_mean_absolute_error: 0.1783\n",
      "Epoch 92/200\n",
      "4876/4876 [==============================] - 6s 1ms/step - loss: 0.0544 - mean_absolute_error: 0.1874 - val_loss: 0.0492 - val_mean_absolute_error: 0.1771\n",
      "Epoch 93/200\n",
      "4876/4876 [==============================] - 5s 1ms/step - loss: 0.0633 - mean_absolute_error: 0.2002 - val_loss: 0.0458 - val_mean_absolute_error: 0.1711\n",
      "Epoch 94/200\n",
      "4876/4876 [==============================] - 5s 1ms/step - loss: 0.0598 - mean_absolute_error: 0.1956 - val_loss: 0.0511 - val_mean_absolute_error: 0.1805\n",
      "Epoch 95/200\n",
      "4876/4876 [==============================] - 6s 1ms/step - loss: 0.0534 - mean_absolute_error: 0.1850 - val_loss: 0.0866 - val_mean_absolute_error: 0.2408\n",
      "Epoch 96/200\n",
      "4876/4876 [==============================] - 7s 1ms/step - loss: 0.0554 - mean_absolute_error: 0.1884 - val_loss: 0.0522 - val_mean_absolute_error: 0.1846\n",
      "Epoch 97/200\n",
      "4876/4876 [==============================] - 6s 1ms/step - loss: 0.0485 - mean_absolute_error: 0.1752 - val_loss: 0.0902 - val_mean_absolute_error: 0.2529\n"
     ]
    },
    {
     "name": "stdout",
     "output_type": "stream",
     "text": [
      "Epoch 98/200\n",
      "4876/4876 [==============================] - 5s 1ms/step - loss: 0.0496 - mean_absolute_error: 0.1771 - val_loss: 0.0416 - val_mean_absolute_error: 0.1630\n",
      "Epoch 99/200\n",
      "4876/4876 [==============================] - 6s 1ms/step - loss: 0.0481 - mean_absolute_error: 0.1751 - val_loss: 0.0391 - val_mean_absolute_error: 0.1583\n",
      "Epoch 100/200\n",
      "4876/4876 [==============================] - 6s 1ms/step - loss: 0.0468 - mean_absolute_error: 0.1734 - val_loss: 0.0601 - val_mean_absolute_error: 0.1978\n",
      "Epoch 101/200\n",
      "4876/4876 [==============================] - 6s 1ms/step - loss: 0.0484 - mean_absolute_error: 0.1759 - val_loss: 0.0724 - val_mean_absolute_error: 0.2244\n",
      "Epoch 102/200\n",
      "4876/4876 [==============================] - 8s 2ms/step - loss: 0.0423 - mean_absolute_error: 0.1634 - val_loss: 0.0384 - val_mean_absolute_error: 0.1557\n",
      "Epoch 103/200\n",
      "4876/4876 [==============================] - 8s 2ms/step - loss: 0.0513 - mean_absolute_error: 0.1794 - val_loss: 0.0511 - val_mean_absolute_error: 0.1850\n",
      "Epoch 104/200\n",
      "4876/4876 [==============================] - 8s 2ms/step - loss: 0.0435 - mean_absolute_error: 0.1664 - val_loss: 0.0529 - val_mean_absolute_error: 0.1858\n",
      "Epoch 105/200\n",
      "4876/4876 [==============================] - 8s 2ms/step - loss: 0.0408 - mean_absolute_error: 0.1605 - val_loss: 0.0565 - val_mean_absolute_error: 0.1928\n",
      "Epoch 106/200\n",
      "4876/4876 [==============================] - 7s 1ms/step - loss: 0.0456 - mean_absolute_error: 0.1705 - val_loss: 0.0318 - val_mean_absolute_error: 0.1421\n",
      "Epoch 107/200\n",
      "4876/4876 [==============================] - 7s 1ms/step - loss: 0.0413 - mean_absolute_error: 0.1635 - val_loss: 0.0327 - val_mean_absolute_error: 0.1448\n",
      "Epoch 108/200\n",
      "4876/4876 [==============================] - 7s 1ms/step - loss: 0.0400 - mean_absolute_error: 0.1601 - val_loss: 0.0371 - val_mean_absolute_error: 0.1532\n",
      "Epoch 109/200\n",
      "4876/4876 [==============================] - 7s 1ms/step - loss: 0.0402 - mean_absolute_error: 0.1606 - val_loss: 0.0685 - val_mean_absolute_error: 0.2168\n",
      "Epoch 110/200\n",
      "4876/4876 [==============================] - 7s 1ms/step - loss: 0.0408 - mean_absolute_error: 0.1605 - val_loss: 0.0754 - val_mean_absolute_error: 0.2347\n",
      "Epoch 111/200\n",
      "4876/4876 [==============================] - 7s 1ms/step - loss: 0.0407 - mean_absolute_error: 0.1596 - val_loss: 0.0279 - val_mean_absolute_error: 0.1329\n",
      "Epoch 112/200\n",
      "4876/4876 [==============================] - 7s 1ms/step - loss: 0.0325 - mean_absolute_error: 0.1433 - val_loss: 0.0767 - val_mean_absolute_error: 0.2343\n",
      "Epoch 113/200\n",
      "4876/4876 [==============================] - 7s 1ms/step - loss: 0.0378 - mean_absolute_error: 0.1530 - val_loss: 0.0270 - val_mean_absolute_error: 0.1314\n",
      "Epoch 114/200\n",
      "4876/4876 [==============================] - 7s 1ms/step - loss: 0.0393 - mean_absolute_error: 0.1573 - val_loss: 0.0272 - val_mean_absolute_error: 0.1317\n",
      "Epoch 115/200\n",
      "4876/4876 [==============================] - 6s 1ms/step - loss: 0.0348 - mean_absolute_error: 0.1493 - val_loss: 0.0361 - val_mean_absolute_error: 0.1549\n",
      "Epoch 116/200\n",
      "4876/4876 [==============================] - 5s 1ms/step - loss: 0.0341 - mean_absolute_error: 0.1471 - val_loss: 0.0294 - val_mean_absolute_error: 0.1380\n",
      "Epoch 117/200\n",
      "4876/4876 [==============================] - 5s 1ms/step - loss: 0.0292 - mean_absolute_error: 0.1354 - val_loss: 0.0243 - val_mean_absolute_error: 0.1238\n",
      "Epoch 118/200\n",
      "4876/4876 [==============================] - 5s 1ms/step - loss: 0.0386 - mean_absolute_error: 0.1573 - val_loss: 0.0850 - val_mean_absolute_error: 0.2568\n",
      "Epoch 119/200\n",
      "4876/4876 [==============================] - 5s 1ms/step - loss: 0.0316 - mean_absolute_error: 0.1415 - val_loss: 0.0318 - val_mean_absolute_error: 0.1426\n",
      "Epoch 120/200\n",
      "4876/4876 [==============================] - 5s 1ms/step - loss: 0.0285 - mean_absolute_error: 0.1344 - val_loss: 0.0230 - val_mean_absolute_error: 0.1205\n",
      "Epoch 121/200\n",
      "4876/4876 [==============================] - 5s 1ms/step - loss: 0.0360 - mean_absolute_error: 0.1514 - val_loss: 0.0312 - val_mean_absolute_error: 0.1435\n",
      "Epoch 122/200\n",
      "4876/4876 [==============================] - 6s 1ms/step - loss: 0.0264 - mean_absolute_error: 0.1291 - val_loss: 0.0219 - val_mean_absolute_error: 0.1177\n",
      "Epoch 123/200\n",
      "4876/4876 [==============================] - 6s 1ms/step - loss: 0.0342 - mean_absolute_error: 0.1472 - val_loss: 0.0221 - val_mean_absolute_error: 0.1180\n",
      "Epoch 124/200\n",
      "4876/4876 [==============================] - 7s 1ms/step - loss: 0.0344 - mean_absolute_error: 0.1495 - val_loss: 0.0685 - val_mean_absolute_error: 0.2290\n",
      "Epoch 125/200\n",
      "4876/4876 [==============================] - 7s 1ms/step - loss: 0.0291 - mean_absolute_error: 0.1358 - val_loss: 0.0202 - val_mean_absolute_error: 0.1124\n",
      "Epoch 126/200\n",
      "4876/4876 [==============================] - 7s 1ms/step - loss: 0.0293 - mean_absolute_error: 0.1365 - val_loss: 0.0515 - val_mean_absolute_error: 0.1899\n",
      "Epoch 127/200\n",
      "4876/4876 [==============================] - 7s 1ms/step - loss: 0.0280 - mean_absolute_error: 0.1348 - val_loss: 0.0344 - val_mean_absolute_error: 0.1504\n",
      "Epoch 128/200\n",
      "4876/4876 [==============================] - 6s 1ms/step - loss: 0.0254 - mean_absolute_error: 0.1272 - val_loss: 0.0270 - val_mean_absolute_error: 0.1339\n",
      "Epoch 129/200\n",
      "4876/4876 [==============================] - 5s 1ms/step - loss: 0.0271 - mean_absolute_error: 0.1310 - val_loss: 0.0196 - val_mean_absolute_error: 0.1112\n",
      "Epoch 130/200\n",
      "4876/4876 [==============================] - 7s 1ms/step - loss: 0.0255 - mean_absolute_error: 0.1272 - val_loss: 0.0402 - val_mean_absolute_error: 0.1688\n",
      "Epoch 131/200\n",
      "4876/4876 [==============================] - 8s 2ms/step - loss: 0.0266 - mean_absolute_error: 0.1306 - val_loss: 0.0229 - val_mean_absolute_error: 0.1206\n",
      "Epoch 132/200\n",
      "4876/4876 [==============================] - 7s 1ms/step - loss: 0.0313 - mean_absolute_error: 0.1422 - val_loss: 0.0199 - val_mean_absolute_error: 0.1117\n",
      "Epoch 133/200\n",
      "4876/4876 [==============================] - 7s 1ms/step - loss: 0.0229 - mean_absolute_error: 0.1198 - val_loss: 0.0184 - val_mean_absolute_error: 0.1076\n",
      "Epoch 134/200\n",
      "4876/4876 [==============================] - 6s 1ms/step - loss: 0.0225 - mean_absolute_error: 0.1192 - val_loss: 0.0196 - val_mean_absolute_error: 0.1126\n",
      "Epoch 135/200\n",
      "4876/4876 [==============================] - 6s 1ms/step - loss: 0.0228 - mean_absolute_error: 0.1198 - val_loss: 0.0646 - val_mean_absolute_error: 0.2228\n",
      "Epoch 136/200\n",
      "4876/4876 [==============================] - 6s 1ms/step - loss: 0.0261 - mean_absolute_error: 0.1298 - val_loss: 0.0199 - val_mean_absolute_error: 0.1122\n",
      "Epoch 137/200\n",
      "4876/4876 [==============================] - 6s 1ms/step - loss: 0.0269 - mean_absolute_error: 0.1302 - val_loss: 0.0159 - val_mean_absolute_error: 0.0999\n",
      "Epoch 138/200\n",
      "4876/4876 [==============================] - 6s 1ms/step - loss: 0.0230 - mean_absolute_error: 0.1212 - val_loss: 0.0154 - val_mean_absolute_error: 0.0982\n",
      "Epoch 139/200\n",
      "4876/4876 [==============================] - 6s 1ms/step - loss: 0.0224 - mean_absolute_error: 0.1200 - val_loss: 0.0155 - val_mean_absolute_error: 0.0985\n",
      "Epoch 140/200\n",
      "4876/4876 [==============================] - 5s 1ms/step - loss: 0.0284 - mean_absolute_error: 0.1321 - val_loss: 0.0179 - val_mean_absolute_error: 0.1070\n",
      "Epoch 141/200\n",
      "4876/4876 [==============================] - 6s 1ms/step - loss: 0.0219 - mean_absolute_error: 0.1167 - val_loss: 0.0147 - val_mean_absolute_error: 0.0959\n",
      "Epoch 142/200\n",
      "4876/4876 [==============================] - 6s 1ms/step - loss: 0.0235 - mean_absolute_error: 0.1209 - val_loss: 0.0260 - val_mean_absolute_error: 0.1311\n",
      "Epoch 143/200\n",
      "4876/4876 [==============================] - 5s 1ms/step - loss: 0.0173 - mean_absolute_error: 0.1048 - val_loss: 0.0140 - val_mean_absolute_error: 0.0934\n",
      "Epoch 144/200\n",
      "4876/4876 [==============================] - 5s 1ms/step - loss: 0.0224 - mean_absolute_error: 0.1199 - val_loss: 0.0187 - val_mean_absolute_error: 0.1087\n",
      "Epoch 145/200\n",
      "4876/4876 [==============================] - 5s 1ms/step - loss: 0.0191 - mean_absolute_error: 0.1105 - val_loss: 0.0137 - val_mean_absolute_error: 0.0924\n",
      "Epoch 146/200\n"
     ]
    },
    {
     "name": "stdout",
     "output_type": "stream",
     "text": [
      "4876/4876 [==============================] - 5s 1ms/step - loss: 0.0256 - mean_absolute_error: 0.1286 - val_loss: 0.0135 - val_mean_absolute_error: 0.0922\n",
      "Epoch 147/200\n",
      "4876/4876 [==============================] - 5s 1ms/step - loss: 0.0189 - mean_absolute_error: 0.1089 - val_loss: 0.0133 - val_mean_absolute_error: 0.0915\n",
      "Epoch 148/200\n",
      "4876/4876 [==============================] - 5s 1ms/step - loss: 0.0177 - mean_absolute_error: 0.1059 - val_loss: 0.0197 - val_mean_absolute_error: 0.1127\n",
      "Epoch 149/200\n",
      "4876/4876 [==============================] - 5s 1ms/step - loss: 0.0223 - mean_absolute_error: 0.1209 - val_loss: 0.0140 - val_mean_absolute_error: 0.0936\n",
      "Epoch 150/200\n",
      "4876/4876 [==============================] - 6s 1ms/step - loss: 0.0234 - mean_absolute_error: 0.1224 - val_loss: 0.0189 - val_mean_absolute_error: 0.1115\n",
      "Epoch 151/200\n",
      "4876/4876 [==============================] - 5s 1ms/step - loss: 0.0181 - mean_absolute_error: 0.1055 - val_loss: 0.0127 - val_mean_absolute_error: 0.0889\n",
      "Epoch 152/200\n",
      "4876/4876 [==============================] - 5s 1ms/step - loss: 0.0206 - mean_absolute_error: 0.1150 - val_loss: 0.0538 - val_mean_absolute_error: 0.2051\n",
      "Epoch 153/200\n",
      "4876/4876 [==============================] - 5s 1ms/step - loss: 0.0182 - mean_absolute_error: 0.1054 - val_loss: 0.0125 - val_mean_absolute_error: 0.0880\n",
      "Restoring model weights from the end of the best epoch.\n",
      "Epoch 00153: early stopping\n"
     ]
    }
   ],
   "source": [
    "history = model.fit(\n",
    "    data, \n",
    "    labels, \n",
    "    epochs=200, \n",
    "    batch_size=50, \n",
    "    validation_split=0.15, \n",
    "    callbacks=[EarlyStoppingAtMinLoss(10)])  "
   ]
  },
  {
   "cell_type": "markdown",
   "metadata": {},
   "source": [
    "Evaluation of the result:"
   ]
  },
  {
   "cell_type": "code",
   "execution_count": 18,
   "metadata": {},
   "outputs": [
    {
     "name": "stdout",
     "output_type": "stream",
     "text": [
      "1013/1013 [==============================] - 1s 507us/step\n",
      "Loss Funcion Minima: 0.01425044\n",
      "Mean Absolute Error: 0.09431260\n",
      "['loss', 'mean_absolute_error']\n"
     ]
    }
   ],
   "source": [
    "loss, MAE= model.evaluate(d_test, l_test)\n",
    "print('Loss Funcion Minima: %.8f' % (loss))\n",
    "print('Mean Absolute Error: %.8f' % (MAE))\n",
    "print(model.metrics_names)"
   ]
  },
  {
   "cell_type": "markdown",
   "metadata": {},
   "source": [
    "Making the predictions:"
   ]
  },
  {
   "cell_type": "code",
   "execution_count": 19,
   "metadata": {},
   "outputs": [
    {
     "name": "stdout",
     "output_type": "stream",
     "text": [
      "mean of predicted ground state : 10.17474556\n",
      "L2 error of the means 0.00007235\n"
     ]
    }
   ],
   "source": [
    "predictions = model.predict(d_test,batch_size=150)\n",
    "print('mean of predicted ground state : %.8f' % (np.mean(predictions)))\n",
    "mean_pred = np.mean(predictions)\n",
    "mean_test = np.mean(l_test)\n",
    "print('L2 error of the means %.8f' % (mean_pred - mean_test)**2)"
   ]
  },
  {
   "cell_type": "markdown",
   "metadata": {},
   "source": [
    "Lets do some error analysis:\n",
    "\n",
    "First lets plot commited L2 error per sample:"
   ]
  },
  {
   "cell_type": "code",
   "execution_count": 21,
   "metadata": {},
   "outputs": [
    {
     "data": {
      "image/png": "[encoded data removed]",
      "text/plain": [
       "<Figure size 432x288 with 1 Axes>"
      ]
     },
     "metadata": {
      "needs_background": "light"
     },
     "output_type": "display_data"
    }
   ],
   "source": [
    "E_L2_Errors = []\n",
    "for i in range(predictions.shape[0]):\n",
    "    E_L2_Errors.append((l_test[i] - predictions[i])**2)\n",
    "\n",
    "import matplotlib.pyplot as plt\n",
    "plt.plot(E_L2_Errors)\n",
    "plt.title('L2 error of the predicted eigenvalues')\n",
    "plt.ylabel('commited error on instance')\n",
    "plt.xlabel('index of instance')\n",
    "plt.show()"
   ]
  },
  {
   "cell_type": "markdown",
   "metadata": {},
   "source": [
    "Here is some statisctical metrics:"
   ]
  },
  {
   "cell_type": "code",
   "execution_count": 22,
   "metadata": {},
   "outputs": [
    {
     "name": "stdout",
     "output_type": "stream",
     "text": [
      "mean of the commited errors (over eigenvalues): 0.01425043\n",
      "variance of the commited errors (over eigenvalues): 0.00045359\n",
      "standard deviation of the commited errors (over eigenvalues): 0.02129761\n"
     ]
    }
   ],
   "source": [
    "print('mean of the commited errors (over eigenvalues): %.8f' % (np.mean(E_L2_Errors)))\n",
    "print('variance of the commited errors (over eigenvalues): %.8f'% (np.var(E_L2_Errors)))\n",
    "print('standard deviation of the commited errors (over eigenvalues): %.8f'% (np.std(E_L2_Errors)))"
   ]
  },
  {
   "cell_type": "markdown",
   "metadata": {},
   "source": [
    "Next, lets see the percentile of our commited error over data:"
   ]
  },
  {
   "cell_type": "code",
   "execution_count": 23,
   "metadata": {},
   "outputs": [
    {
     "name": "stdout",
     "output_type": "stream",
     "text": [
      "Percentage of the commited error between 0,5e-6 is: 0.98716683\n",
      "Percentage of the commited error between 5e-6,5e-5 is: 3.75123396\n",
      "Percentage of the commited error between 5e-5,5e-4 is: 10.76011846\n",
      "Percentage of the commited error between 5e-4,5e-3 is: 29.31885489\n",
      "Percentage of the commited error between 5e-3,5e-2 is: 49.55577493\n",
      "Percentage of the commited error between 5e-2,5e-1 is: 5.62685094\n"
     ]
    }
   ],
   "source": [
    "#calculating percentiles:\n",
    "#setting tresholds :\n",
    "T1 = 0\n",
    "T2 = 5e-6\n",
    "T3 = 5e-5\n",
    "T4 = 5e-4\n",
    "T5 = 5e-3\n",
    "T6 = 5e-2\n",
    "T7 = 5e-1\n",
    "S1=S2=S3=S4=S5=S6=0.0\n",
    "for item in E_L2_Errors:\n",
    "    if (item[0]>=T1 and item[0]< T2):\n",
    "        S1 = S1 + 1\n",
    "    elif (item[0]>=T2 and item[0]< T3):\n",
    "        S2 = S2 + 1\n",
    "    elif (item[0]>=T3 and item[0]< T4):\n",
    "        S3 = S3 + 1\n",
    "    elif (item[0]>=T4 and item[0]< T5):\n",
    "        S4 = S4 + 1\n",
    "    elif (item[0]>=T5 and item[0]< T6):\n",
    "        S5 = S5 + 1\n",
    "    elif (item[0]>=T6 and item[0]< T7):\n",
    "        S6 = S6 + 1\n",
    "print('Percentage of the commited error between 0,5e-6 is: %.8f' % ((S1/len(E_L2_Errors)) * 100))\n",
    "print('Percentage of the commited error between 5e-6,5e-5 is: %.8f' % ((S2/len(E_L2_Errors)) * 100))\n",
    "print('Percentage of the commited error between 5e-5,5e-4 is: %.8f' % ((S3/len(E_L2_Errors)) * 100))\n",
    "print('Percentage of the commited error between 5e-4,5e-3 is: %.8f' % ((S4/len(E_L2_Errors)) * 100))\n",
    "print('Percentage of the commited error between 5e-3,5e-2 is: %.8f' % ((S5/len(E_L2_Errors)) * 100))\n",
    "print('Percentage of the commited error between 5e-2,5e-1 is: %.8f' % ((S6/len(E_L2_Errors)) * 100))"
   ]
  },
  {
   "cell_type": "markdown",
   "metadata": {},
   "source": [
    "Plots are easier to read:"
   ]
  },
  {
   "cell_type": "code",
   "execution_count": 24,
   "metadata": {},
   "outputs": [
    {
     "data": {
      "image/png": "[encoded data removed]",
      "text/plain": [
       "<Figure size 864x432 with 1 Axes>"
      ]
     },
     "metadata": {},
     "output_type": "display_data"
    }
   ],
   "source": [
    "import numpy as np\n",
    "import matplotlib.pyplot as plt\n",
    "\n",
    "fig, ax = plt.subplots(figsize=(12, 6), subplot_kw=dict(aspect=\"equal\"))\n",
    "\n",
    "\n",
    "data_to_plot = [(S1/len(E_L2_Errors)),\n",
    "          (S2/len(E_L2_Errors)),\n",
    "          (S3/len(E_L2_Errors)),\n",
    "          (S4/len(E_L2_Errors)),\n",
    "          (S5/len(E_L2_Errors)),\n",
    "          (S6/len(E_L2_Errors))]\n",
    "ingredients = [\"0, 5e-6\", \n",
    "               \"5e-6, 5e-5\",\n",
    "               \"5e-5, 5e-4\",\n",
    "               \"5e-4, 5e-3\",\n",
    "               \"5e-3, 5e-2\",\n",
    "               \"5e-2, 5e-1\",]\n",
    "\n",
    "\n",
    "def func(pct, allvals):\n",
    "    return \"{:.1f}\".format(pct)\n",
    "\n",
    "\n",
    "wedges, texts, autotexts = ax.pie(data_to_plot, autopct=lambda pct: func(pct, data_to_plot),\n",
    "                                  textprops=dict(color=\"w\"))\n",
    "\n",
    "ax.legend(wedges, ingredients,\n",
    "          title=\"Error bounds\",\n",
    "          loc=\"center left\",\n",
    "          bbox_to_anchor=(1, 0, 0.5, 1))\n",
    "\n",
    "plt.setp(autotexts, size=8, weight=\"bold\")\n",
    "\n",
    "ax.set_title(\"error percentages\")\n",
    "\n",
    "plt.show()"
   ]
  },
  {
   "cell_type": "markdown",
   "metadata": {},
   "source": [
    "It would be convinient to take a look at learning history of the network, It'll gives us valuable informations about how the training process were went:"
   ]
  },
  {
   "cell_type": "code",
   "execution_count": 25,
   "metadata": {},
   "outputs": [
    {
     "name": "stdout",
     "output_type": "stream",
     "text": [
      "['val_mean_absolute_error', 'loss', 'mean_absolute_error', 'val_loss']\n"
     ]
    },
    {
     "data": {
      "image/png": "[encoded data removed]",
      "text/plain": [
       "<Figure size 432x288 with 1 Axes>"
      ]
     },
     "metadata": {
      "needs_background": "light"
     },
     "output_type": "display_data"
    },
    {
     "data": {
      "image/png": "[encoded data removed]",
      "text/plain": [
       "<Figure size 432x288 with 1 Axes>"
      ]
     },
     "metadata": {
      "needs_background": "light"
     },
     "output_type": "display_data"
    }
   ],
   "source": [
    "import matplotlib.pyplot as plt\n",
    "print(history.history.keys())\n",
    "# summarize history for accuracy\n",
    "plt.plot(history.history['mean_absolute_error'])\n",
    "plt.plot(history.history['val_mean_absolute_error'])\n",
    "plt.title('model accuracy')\n",
    "plt.ylabel('accuracy')\n",
    "plt.xlabel('epoch')\n",
    "plt.legend(['MAE_A_eff_train', 'MAE_A_eff_test'], loc='upper left')\n",
    "plt.show()\n",
    "\n",
    "# summarize history for loss\n",
    "plt.plot(history.history['loss'])\n",
    "plt.plot(history.history['val_loss'])\n",
    "plt.title('model loss')\n",
    "plt.ylabel('loss')\n",
    "plt.xlabel('epoch')\n",
    "plt.legend(['loss1 on train', 'loss1 on test'], loc='upper left')\n",
    "plt.show()"
   ]
  },
  {
   "cell_type": "markdown",
   "metadata": {},
   "source": [
    "Here is a summary of our model:"
   ]
  },
  {
   "cell_type": "code",
   "execution_count": 26,
   "metadata": {},
   "outputs": [
    {
     "name": "stdout",
     "output_type": "stream",
     "text": [
      "__________________________________________________________________________________________________\n",
      "Layer (type)                    Output Shape         Param #     Connected to                     \n",
      "==================================================================================================\n",
      "input_1 (InputLayer)            (None, 9, 9)         0                                            \n",
      "__________________________________________________________________________________________________\n",
      "periodic_padding2d_1 (PeriodicP (None, 17, 17)       0           input_1[0][0]                    \n",
      "__________________________________________________________________________________________________\n",
      "reshape_2 (Reshape)             (None, 17, 17, 1)    0           periodic_padding2d_1[0][0]       \n",
      "__________________________________________________________________________________________________\n",
      "conv2d_1 (Conv2D)               (None, 17, 17, 5)    410         reshape_2[0][0]                  \n",
      "__________________________________________________________________________________________________\n",
      "conv2d_2 (Conv2D)               (None, 17, 17, 1)    406         conv2d_1[0][0]                   \n",
      "__________________________________________________________________________________________________\n",
      "global_average_pooling2d_1 (Glo (None, 1)            0           conv2d_2[0][0]                   \n",
      "__________________________________________________________________________________________________\n",
      "lambda_1 (Lambda)               (None, 1)            0           global_average_pooling2d_1[0][0] \n",
      "__________________________________________________________________________________________________\n",
      "reshape_1 (Reshape)             (None, 9, 9, 1)      0           input_1[0][0]                    \n",
      "__________________________________________________________________________________________________\n",
      "add_1 (Add)                     (None, 9, 9, 1)      0           lambda_1[0][0]                   \n",
      "                                                                 reshape_1[0][0]                  \n",
      "__________________________________________________________________________________________________\n",
      "conv2d_3 (Conv2D)               (None, 9, 9, 5)      410         add_1[0][0]                      \n",
      "__________________________________________________________________________________________________\n",
      "add_2 (Add)                     (None, 9, 9, 5)      0           conv2d_3[0][0]                   \n",
      "                                                                 reshape_1[0][0]                  \n",
      "__________________________________________________________________________________________________\n",
      "conv2d_4 (Conv2D)               (None, 9, 9, 1)      406         add_2[0][0]                      \n",
      "__________________________________________________________________________________________________\n",
      "flatten_1 (Flatten)             (None, 81)           0           conv2d_4[0][0]                   \n",
      "__________________________________________________________________________________________________\n",
      "dense_1 (Dense)                 (None, 1)            82          flatten_1[0][0]                  \n",
      "==================================================================================================\n",
      "Total params: 1,714\n",
      "Trainable params: 1,714\n",
      "Non-trainable params: 0\n",
      "__________________________________________________________________________________________________\n"
     ]
    }
   ],
   "source": [
    "model.summary()"
   ]
  },
  {
   "cell_type": "markdown",
   "metadata": {},
   "source": [
    "And Finally, lets save the model for later uses:"
   ]
  },
  {
   "cell_type": "code",
   "execution_count": 27,
   "metadata": {},
   "outputs": [
    {
     "name": "stdout",
     "output_type": "stream",
     "text": [
      "Saved model to disk\n"
     ]
    }
   ],
   "source": [
    "from keras.models import model_from_json\n",
    "import numpy\n",
    "import os\n",
    "\n",
    "# serialize model to JSON\n",
    "model_json = model.to_json()\n",
    "with open(\"model.json\", \"w\") as json_file:\n",
    "    json_file.write(model_json)\n",
    "# serialize weights to HDF5\n",
    "model.save_weights(\"model.h5\")\n",
    "print(\"Saved model to disk\")"
   ]
  },
  {
   "cell_type": "code",
   "execution_count": null,
   "metadata": {},
   "outputs": [],
   "source": []
  },
  {
   "cell_type": "code",
   "execution_count": null,
   "metadata": {},
   "outputs": [],
   "source": []
  },
  {
   "cell_type": "code",
   "execution_count": null,
   "metadata": {},
   "outputs": [],
   "source": []
  }
 ],
 "metadata": {
  "@webio": {
   "lastCommId": null,
   "lastKernelId": null
  },
  "kernelspec": {
   "display_name": "Python 2",
   "language": "python",
   "name": "python2"
  },
  "language_info": {
   "codemirror_mode": {
    "name": "ipython",
    "version": 2
   },
   "file_extension": ".py",
   "mimetype": "text/x-python",
   "name": "python",
   "nbconvert_exporter": "python",
   "pygments_lexer": "ipython2",
   "version": "2.7.16"
  }
 },
 "nbformat": 4,
 "nbformat_minor": 2
}
