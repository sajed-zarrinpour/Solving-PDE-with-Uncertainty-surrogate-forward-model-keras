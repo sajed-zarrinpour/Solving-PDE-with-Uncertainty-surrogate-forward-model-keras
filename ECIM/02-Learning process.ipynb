{
 "cells": [
  {
   "cell_type": "markdown",
   "metadata": {},
   "source": [
    "# Effective condunctanse in inhomogeneouse media\n",
    "we want to solve the following equation:\n",
    "\n",
    "$A_{eff}(a) = min_{u(x)} \\int_{[0,1]^d} a(x) ||-\\nabla u(x) + \\xi||_2^2$.\n",
    "\n",
    "the data set were generated previousely using Octave, then seperated to two distinct set."
   ]
  },
  {
   "cell_type": "code",
   "execution_count": 1,
   "metadata": {},
   "outputs": [
    {
     "name": "stderr",
     "output_type": "stream",
     "text": [
      "Using TensorFlow backend.\n"
     ]
    }
   ],
   "source": [
    "# Utilities : \n",
    "import numpy as np\n",
    "import os\n",
    "# Keras :\n",
    "# backend\n",
    "from keras import backend as K\n",
    "# layers :\n",
    "from keras.layers import Input, Dense, add, Activation , Conv1D, Flatten ,GlobalAveragePooling1D , Lambda\n",
    "# model :\n",
    "from keras.models import Model, model_from_json, model_from_yaml\n",
    "# optimizer :\n",
    "from keras import optimizers "
   ]
  },
  {
   "cell_type": "markdown",
   "metadata": {},
   "source": [
    "setting up network parameteres:"
   ]
  },
  {
   "cell_type": "code",
   "execution_count": 2,
   "metadata": {},
   "outputs": [],
   "source": [
    "# network input parameters \n",
    "\n",
    "n = 8            # number of the input layer neurons \n",
    "\n",
    "# convolutional layers parameters\n",
    "\n",
    "alpha = 16       # number of channels in convolutional layers\n",
    "ks = 1           # Kernel Size\n",
    "\n",
    "# optimizer (NAdam) parameters\n",
    "\n",
    "lr = 0.005       # learning rate\n",
    "beta_1=0.9       # beta 1\n",
    "beta_2=0.999     # beta 2\n",
    "\n",
    "# model fitting parameters\n",
    "\n",
    "epochs = 100     # epochs\n",
    "batch_size = 150 # batch size"
   ]
  },
  {
   "cell_type": "markdown",
   "metadata": {},
   "source": [
    "loading the Data to train and test data sets.\n",
    "\n",
    "* Step 1 : loading the data set\n",
    "* Step 2 : shuffling the data set\n",
    "* Step3  : seperating data and lable parts"
   ]
  },
  {
   "cell_type": "code",
   "execution_count": 3,
   "metadata": {},
   "outputs": [],
   "source": [
    "#test :\n",
    "test = np.loadtxt('data/test.csv', delimiter=',')\n",
    "np.random.shuffle(test)\n",
    "d_test = np.array(test[:,0:n])\n",
    "l_test = np.array(test[:,n])\n",
    "\n",
    "#train :\n",
    "train = np.loadtxt('data/train.csv', delimiter=',')\n",
    "np.random.shuffle(train)\n",
    "data = np.array(train[:,0:n])\n",
    "labels = np.array(train[:,n])"
   ]
  },
  {
   "cell_type": "markdown",
   "metadata": {},
   "source": [
    "Next we need to expand the dimensions of our input data, so it can feed directly to the convolutional layers. Please note that, as I did in NLSE, it could be done in the network with `Reshape` layer too."
   ]
  },
  {
   "cell_type": "code",
   "execution_count": 4,
   "metadata": {},
   "outputs": [],
   "source": [
    "# from (height, width) to (height, width, depth)\n",
    "data = np.expand_dims(data, axis=2) \n",
    "d_test = np.expand_dims(d_test, axis=2) "
   ]
  },
  {
   "cell_type": "markdown",
   "metadata": {},
   "source": [
    "Next, we would like to define our model. The model is consists of three part. First part is consists of some convolutional layers with kernel size 1, Second part is a sum-pooling block, and, finally, third part is consists of some convolutional layers with kernel size 1. Note that there is a symmetric relation between first and third parts."
   ]
  },
  {
   "cell_type": "code",
   "execution_count": 5,
   "metadata": {},
   "outputs": [
    {
     "name": "stdout",
     "output_type": "stream",
     "text": [
      "Tensor(\"input_1:0\", shape=(?, 8, 1), dtype=float32)\n",
      "Tensor(\"dense_1/BiasAdd:0\", shape=(?, 1), dtype=float32)\n"
     ]
    }
   ],
   "source": [
    "inputTensor = Input(shape=(n,1))\n",
    "print inputTensor\n",
    "\n",
    "stack = []\n",
    "\n",
    "# Part 1: Convolutional layers:\n",
    "# SubPart 1.1 : Expanding the input to alpha channels and performing convolutions with kernel size of ks\n",
    "stack.append(Conv1D(alpha, ks, strides=1, input_shape=(1,n,1),padding='same', activation='relu')(inputTensor))\n",
    "stack.append(Conv1D(alpha, ks, strides=1, padding='same', activation='relu')(add([stack[len(stack)-1],inputTensor])))\n",
    "stack.append(Conv1D(alpha, ks, strides=1, padding='same', activation='relu')(add([stack[len(stack)-1],inputTensor])))\n",
    "# SubPart 1.2 : Flattening the results into 1 chanel\n",
    "stack.append(Conv1D(1, ks, strides=1, padding='same', activation='linear')(add([stack[len(stack)-1],inputTensor])))\n",
    "\n",
    "# Part 2: Sum-Pooling:\n",
    "# there is no sumpooling direct layer, so we have to use an global average layer first :\n",
    "stack.append(GlobalAveragePooling1D(data_format='channels_last')(add([stack[len(stack)-1],inputTensor])))\n",
    "# and then multiply the result in the total number of elements throughh a lambda layer next:\n",
    "stack.append(Lambda(lambda x: x * data.shape[1])(stack[len(stack)-1]))\n",
    "\n",
    "# Part 3: Convolutions equivalent to Dense layers\n",
    "# SubPart 3.1 : Expanding the input to alpha channels and performing convolution with kernel size 'ks'\n",
    "stack.append(Conv1D(alpha, ks, strides=1, padding='same', activation='relu')(add([stack[len(stack)-1],inputTensor])))\n",
    "stack.append(Conv1D(alpha, ks, strides=1, padding='same', activation='relu')(add([stack[len(stack)-1],inputTensor])))\n",
    "stack.append(Conv1D(alpha, ks, strides=1, padding='same', activation='relu')(add([stack[len(stack)-1],inputTensor])))\n",
    "\n",
    "# SubPart 3.2 : Flattening alpha channels to 1 channel, so the whole part can be viewd as a dense layer\n",
    "#shall the kernel size remain 1? or we can use a more dynamic kernel size here\n",
    "stack.append(Conv1D(1, ks, strides=1, padding='same', activation='linear')(add([stack[len(stack)-1],inputTensor])))\n",
    "\n",
    "# SubPart 3.3 : Flattening the result so it can be fed into the output layer\n",
    "stack.append(Flatten()(stack[len(stack)-1])) \n",
    "\n",
    "# SubPart 3.4 : The output layer which is a n -> 1 dense layer and will give us one single output \n",
    "finalOutput = Dense(1)(stack[len(stack)-1])\n",
    "print finalOutput\n",
    "\n",
    "# Defining the Actual Model\n",
    "model = Model(inputTensor,finalOutput)"
   ]
  },
  {
   "cell_type": "markdown",
   "metadata": {},
   "source": [
    "Lets train the network. The loss function is choosen to be mean squared error."
   ]
  },
  {
   "cell_type": "code",
   "execution_count": 9,
   "metadata": {},
   "outputs": [
    {
     "name": "stdout",
     "output_type": "stream",
     "text": [
      "Epoch 1/100\n",
      "127500/127500 [==============================] - 37s 290us/step - loss: 0.0387 - mean_absolute_error: 0.1087\n",
      "Epoch 2/100\n",
      "127500/127500 [==============================] - 32s 251us/step - loss: 0.0046 - mean_absolute_error: 0.0535\n",
      "Epoch 3/100\n",
      "127500/127500 [==============================] - 32s 252us/step - loss: 0.0045 - mean_absolute_error: 0.0526\n",
      "Epoch 4/100\n",
      "127500/127500 [==============================] - 34s 264us/step - loss: 0.0045 - mean_absolute_error: 0.0527\n",
      "Epoch 5/100\n",
      "127500/127500 [==============================] - 33s 262us/step - loss: 0.0044 - mean_absolute_error: 0.0517\n",
      "Epoch 6/100\n",
      "127500/127500 [==============================] - 32s 253us/step - loss: 0.0044 - mean_absolute_error: 0.0521\n",
      "Epoch 7/100\n",
      "127500/127500 [==============================] - 33s 262us/step - loss: 0.0038 - mean_absolute_error: 0.0480\n",
      "Epoch 8/100\n",
      "127500/127500 [==============================] - 35s 275us/step - loss: 0.0033 - mean_absolute_error: 0.0451\n",
      "Epoch 9/100\n",
      "127500/127500 [==============================] - 33s 257us/step - loss: 0.0027 - mean_absolute_error: 0.0402\n",
      "Epoch 10/100\n",
      "127500/127500 [==============================] - 33s 257us/step - loss: 0.0020 - mean_absolute_error: 0.0339\n",
      "Epoch 11/100\n",
      "127500/127500 [==============================] - 34s 266us/step - loss: 9.7577e-04 - mean_absolute_error: 0.0240\n",
      "Epoch 12/100\n",
      "127500/127500 [==============================] - 37s 288us/step - loss: 6.2546e-04 - mean_absolute_error: 0.01900s - loss: 6.3990e-04 - mean_absolute_\n",
      "Epoch 13/100\n",
      "127500/127500 [==============================] - 34s 263us/step - loss: 5.4045e-04 - mean_absolute_error: 0.01690s - loss: 5.4185e-04 - mean_absolute_error: 0.0\n",
      "Epoch 14/100\n",
      "127500/127500 [==============================] - 34s 268us/step - loss: 4.2110e-04 - mean_absolute_error: 0.0152\n",
      "Epoch 15/100\n",
      "127500/127500 [==============================] - 34s 267us/step - loss: 3.5407e-04 - mean_absolute_error: 0.0140\n",
      "Epoch 16/100\n",
      "127500/127500 [==============================] - 34s 265us/step - loss: 2.8438e-04 - mean_absolute_error: 0.01243s - loss\n",
      "Epoch 17/100\n",
      "127500/127500 [==============================] - 34s 268us/step - loss: 2.4132e-04 - mean_absolute_error: 0.0112\n",
      "Epoch 18/100\n",
      "127500/127500 [==============================] - 35s 274us/step - loss: 2.0709e-04 - mean_absolute_error: 0.0102\n",
      "Epoch 19/100\n",
      "127500/127500 [==============================] - 35s 273us/step - loss: 1.8139e-04 - mean_absolute_error: 0.0099\n",
      "Epoch 20/100\n",
      "127500/127500 [==============================] - 35s 273us/step - loss: 1.6806e-04 - mean_absolute_error: 0.0090\n",
      "Epoch 21/100\n",
      "127500/127500 [==============================] - 35s 272us/step - loss: 1.2966e-04 - mean_absolute_error: 0.0084\n",
      "Epoch 22/100\n",
      "127500/127500 [==============================] - 35s 273us/step - loss: 1.2726e-04 - mean_absolute_error: 0.0078\n",
      "Epoch 23/100\n",
      "127500/127500 [==============================] - 34s 270us/step - loss: 1.0584e-04 - mean_absolute_error: 0.0073\n",
      "Epoch 24/100\n",
      "127500/127500 [==============================] - 35s 276us/step - loss: 1.1527e-04 - mean_absolute_error: 0.0076\n",
      "Epoch 25/100\n",
      "127500/127500 [==============================] - 35s 274us/step - loss: 9.9503e-05 - mean_absolute_error: 0.0069\n",
      "Epoch 26/100\n",
      "127500/127500 [==============================] - 35s 275us/step - loss: 9.5357e-05 - mean_absolute_error: 0.0070\n",
      "Epoch 27/100\n",
      "127500/127500 [==============================] - 34s 270us/step - loss: 9.2105e-05 - mean_absolute_error: 0.0068\n",
      "Epoch 28/100\n",
      "127500/127500 [==============================] - 38s 300us/step - loss: 8.3474e-05 - mean_absolute_error: 0.0063\n",
      "Epoch 29/100\n",
      "127500/127500 [==============================] - 39s 302us/step - loss: 7.7548e-05 - mean_absolute_error: 0.0061\n",
      "Epoch 30/100\n",
      "127500/127500 [==============================] - 39s 304us/step - loss: 7.6338e-05 - mean_absolute_error: 0.0058\n",
      "Epoch 31/100\n",
      "127500/127500 [==============================] - 37s 291us/step - loss: 6.5591e-05 - mean_absolute_error: 0.0057\n",
      "Epoch 32/100\n",
      "127500/127500 [==============================] - 32s 255us/step - loss: 7.3868e-05 - mean_absolute_error: 0.0057\n",
      "Epoch 33/100\n",
      "127500/127500 [==============================] - 34s 265us/step - loss: 6.3156e-05 - mean_absolute_error: 0.00551s - loss: 6.0142e-05 - mean_abs\n",
      "Epoch 34/100\n",
      "127500/127500 [==============================] - 32s 250us/step - loss: 6.5297e-05 - mean_absolute_error: 0.0053\n",
      "Epoch 35/100\n",
      "127500/127500 [==============================] - 32s 255us/step - loss: 5.3176e-05 - mean_absolute_error: 0.0054\n",
      "Epoch 36/100\n",
      "127500/127500 [==============================] - 33s 258us/step - loss: 5.8972e-05 - mean_absolute_error: 0.0052\n",
      "Epoch 37/100\n",
      "127500/127500 [==============================] - 31s 240us/step - loss: 5.3621e-05 - mean_absolute_error: 0.0050\n",
      "Epoch 38/100\n",
      "127500/127500 [==============================] - 30s 237us/step - loss: 5.3954e-05 - mean_absolute_error: 0.0051\n",
      "Epoch 39/100\n",
      "127500/127500 [==============================] - 32s 253us/step - loss: 4.4553e-05 - mean_absolute_error: 0.0046\n",
      "Epoch 40/100\n",
      "127500/127500 [==============================] - 38s 301us/step - loss: 5.2013e-05 - mean_absolute_error: 0.0050\n",
      "Epoch 41/100\n",
      "127500/127500 [==============================] - 31s 242us/step - loss: 5.2669e-05 - mean_absolute_error: 0.0050\n",
      "Epoch 42/100\n",
      "127500/127500 [==============================] - 34s 268us/step - loss: 4.6407e-05 - mean_absolute_error: 0.0048\n",
      "Epoch 43/100\n",
      "127500/127500 [==============================] - 31s 239us/step - loss: 4.6761e-05 - mean_absolute_error: 0.0047\n",
      "Epoch 44/100\n",
      "127500/127500 [==============================] - 34s 268us/step - loss: 4.4592e-05 - mean_absolute_error: 0.0046\n",
      "Epoch 45/100\n",
      "127500/127500 [==============================] - 37s 292us/step - loss: 4.0545e-05 - mean_absolute_error: 0.0046\n",
      "Epoch 46/100\n",
      "127500/127500 [==============================] - 38s 302us/step - loss: 5.2009e-05 - mean_absolute_error: 0.0052\n",
      "Epoch 47/100\n",
      "127500/127500 [==============================] - 43s 335us/step - loss: 4.0316e-05 - mean_absolute_error: 0.0045\n",
      "Epoch 48/100\n",
      "127500/127500 [==============================] - 33s 256us/step - loss: 4.6302e-05 - mean_absolute_error: 0.0047\n",
      "Epoch 49/100\n",
      "127500/127500 [==============================] - 36s 285us/step - loss: 4.2996e-05 - mean_absolute_error: 0.0045\n",
      "Epoch 50/100\n",
      "127500/127500 [==============================] - 31s 243us/step - loss: 4.3227e-05 - mean_absolute_error: 0.0048\n",
      "Epoch 51/100\n",
      "127500/127500 [==============================] - 33s 258us/step - loss: 4.3287e-05 - mean_absolute_error: 0.0045\n",
      "Epoch 52/100\n",
      "127500/127500 [==============================] - 33s 261us/step - loss: 3.8636e-05 - mean_absolute_error: 0.00442s - loss: 4.0244e-\n",
      "Epoch 53/100\n",
      "127500/127500 [==============================] - 30s 238us/step - loss: 4.1906e-05 - mean_absolute_error: 0.0045\n",
      "Epoch 54/100\n",
      "127500/127500 [==============================] - 31s 243us/step - loss: 3.8653e-05 - mean_absolute_error: 0.00441s - loss: 3.9725e-05 - mean_abso\n",
      "Epoch 55/100\n",
      "127500/127500 [==============================] - 31s 242us/step - loss: 3.8788e-05 - mean_absolute_error: 0.0045\n",
      "Epoch 56/100\n",
      "127500/127500 [==============================] - 31s 245us/step - loss: 3.8456e-05 - mean_absolute_error: 0.0045\n",
      "Epoch 57/100\n",
      "127500/127500 [==============================] - 31s 241us/step - loss: 3.9285e-05 - mean_absolute_error: 0.0044\n",
      "Epoch 58/100\n",
      "127500/127500 [==============================] - 31s 241us/step - loss: 3.7781e-05 - mean_absolute_error: 0.0041\n",
      "Epoch 59/100\n",
      "127500/127500 [==============================] - 32s 253us/step - loss: 3.2474e-05 - mean_absolute_error: 0.0039\n",
      "Epoch 60/100\n",
      "127500/127500 [==============================] - 36s 286us/step - loss: 3.4885e-05 - mean_absolute_error: 0.0041\n",
      "Epoch 61/100\n",
      "127500/127500 [==============================] - 40s 317us/step - loss: 3.4678e-05 - mean_absolute_error: 0.0041\n",
      "Epoch 62/100\n",
      "127500/127500 [==============================] - 34s 266us/step - loss: 3.6417e-05 - mean_absolute_error: 0.0040\n",
      "Epoch 63/100\n",
      "127500/127500 [==============================] - 31s 243us/step - loss: 3.7527e-05 - mean_absolute_error: 0.0042\n",
      "Epoch 64/100\n",
      "127500/127500 [==============================] - 31s 243us/step - loss: 2.8891e-05 - mean_absolute_error: 0.0037\n"
     ]
    },
    {
     "name": "stdout",
     "output_type": "stream",
     "text": [
      "Epoch 65/100\n",
      "127500/127500 [==============================] - 31s 241us/step - loss: 3.3236e-05 - mean_absolute_error: 0.00411s - loss: 3.2399e-05 - mean_\n",
      "Epoch 66/100\n",
      "127500/127500 [==============================] - 32s 251us/step - loss: 3.3167e-05 - mean_absolute_error: 0.0040\n",
      "Epoch 67/100\n",
      "127500/127500 [==============================] - 33s 260us/step - loss: 3.3584e-05 - mean_absolute_error: 0.0041\n",
      "Epoch 68/100\n",
      "127500/127500 [==============================] - 32s 248us/step - loss: 3.0653e-05 - mean_absolute_error: 0.0039\n",
      "Epoch 69/100\n",
      "127500/127500 [==============================] - 30s 232us/step - loss: 3.3338e-05 - mean_absolute_error: 0.0041\n",
      "Epoch 70/100\n",
      "127500/127500 [==============================] - 31s 243us/step - loss: 3.3066e-05 - mean_absolute_error: 0.0038\n",
      "Epoch 71/100\n",
      "127500/127500 [==============================] - 34s 264us/step - loss: 3.5430e-05 - mean_absolute_error: 0.00371s - loss: 3.2325e-05 - mean_\n",
      "Epoch 72/100\n",
      "127500/127500 [==============================] - 34s 267us/step - loss: 2.6791e-05 - mean_absolute_error: 0.0036\n",
      "Epoch 73/100\n",
      "127500/127500 [==============================] - 33s 258us/step - loss: 3.2591e-05 - mean_absolute_error: 0.0039\n",
      "Epoch 74/100\n",
      "127500/127500 [==============================] - 33s 262us/step - loss: 3.0819e-05 - mean_absolute_error: 0.0038\n",
      "Epoch 75/100\n",
      "127500/127500 [==============================] - 30s 237us/step - loss: 2.9879e-05 - mean_absolute_error: 0.0039\n",
      "Epoch 76/100\n",
      "127500/127500 [==============================] - 30s 236us/step - loss: 3.6633e-05 - mean_absolute_error: 0.0040\n",
      "Epoch 77/100\n",
      "127500/127500 [==============================] - 32s 252us/step - loss: 2.5793e-05 - mean_absolute_error: 0.0036\n",
      "Epoch 78/100\n",
      "127500/127500 [==============================] - 31s 247us/step - loss: 2.8959e-05 - mean_absolute_error: 0.0038\n",
      "Epoch 79/100\n",
      "127500/127500 [==============================] - 35s 276us/step - loss: 3.1119e-05 - mean_absolute_error: 0.0039ETA: 7s - loss: 2.9449e-05\n",
      "Epoch 80/100\n",
      "127500/127500 [==============================] - 31s 246us/step - loss: 3.7317e-05 - mean_absolute_error: 0.0042\n",
      "Epoch 81/100\n",
      "127500/127500 [==============================] - 34s 268us/step - loss: 2.6284e-05 - mean_absolute_error: 0.0037\n",
      "Epoch 82/100\n",
      "127500/127500 [==============================] - 31s 247us/step - loss: 3.3719e-05 - mean_absolute_error: 0.0040\n",
      "Epoch 83/100\n",
      "127500/127500 [==============================] - 31s 246us/step - loss: 2.6787e-05 - mean_absolute_error: 0.00362s - loss: 2.8367e-\n",
      "Epoch 84/100\n",
      "127500/127500 [==============================] - 32s 252us/step - loss: 3.0683e-05 - mean_absolute_error: 0.0038\n",
      "Epoch 85/100\n",
      "127500/127500 [==============================] - 33s 263us/step - loss: 2.7837e-05 - mean_absolute_error: 0.00380s - loss: 2.8350e-05 - mean_absolute_\n",
      "Epoch 86/100\n",
      "127500/127500 [==============================] - 29s 229us/step - loss: 2.9199e-05 - mean_absolute_error: 0.0039\n",
      "Epoch 87/100\n",
      "127500/127500 [==============================] - 34s 264us/step - loss: 3.1726e-05 - mean_absolute_error: 0.0039\n",
      "Epoch 88/100\n",
      "127500/127500 [==============================] - 35s 278us/step - loss: 2.7564e-05 - mean_absolute_error: 0.0038\n",
      "Epoch 89/100\n",
      "127500/127500 [==============================] - 32s 247us/step - loss: 3.0027e-05 - mean_absolute_error: 0.0037\n",
      "Epoch 90/100\n",
      "127500/127500 [==============================] - 35s 271us/step - loss: 3.1710e-05 - mean_absolute_error: 0.00391s - loss: 3.3130e-\n",
      "Epoch 91/100\n",
      "127500/127500 [==============================] - 34s 270us/step - loss: 2.6977e-05 - mean_absolute_error: 0.0036\n",
      "Epoch 92/100\n",
      "127500/127500 [==============================] - 32s 252us/step - loss: 2.9824e-05 - mean_absolute_error: 0.0039\n",
      "Restoring model weights from the end of the best epoch.\n",
      "Epoch 00092: early stopping\n",
      "22500/22500 [==============================] - 8s 352us/step\n",
      "Loss Funcion Minima On test dataset : 0.00000520\n",
      "Mean Absolute Error On test dataset : 0.00174210\n"
     ]
    }
   ],
   "source": [
    "import tensorflow as tf\n",
    "class EarlyStoppingAtMinLoss(tf.keras.callbacks.Callback):\n",
    "  \"\"\"Stop training when the loss is at its min, i.e. the loss stops decreasing.\n",
    "\n",
    "  Arguments:\n",
    "      patience: Number of epochs to wait after min has been hit. After this\n",
    "      number of no improvement, training stops.\n",
    "  \"\"\"\n",
    "\n",
    "  def __init__(self, patience=20):\n",
    "    super(EarlyStoppingAtMinLoss, self).__init__()\n",
    "\n",
    "    self.patience = patience\n",
    "\n",
    "    # best_weights to store the weights at which the minimum loss occurs.\n",
    "    self.best_weights = None\n",
    "\n",
    "  def on_train_begin(self, logs=None):\n",
    "    # The number of epoch it has waited when loss is no longer minimum.\n",
    "    self.wait = 0\n",
    "    # The epoch the training stops at.\n",
    "    self.stopped_epoch = 0\n",
    "    # Initialize the best as infinity.\n",
    "    self.best = np.Inf\n",
    "\n",
    "  def on_epoch_end(self, epoch, logs=None):\n",
    "    current = logs.get('loss')\n",
    "    if np.less(current, self.best):\n",
    "      self.best = current\n",
    "      self.wait = 0\n",
    "      # Record the best weights if current results is better (less).\n",
    "      self.best_weights = self.model.get_weights()\n",
    "    else:\n",
    "      self.wait += 1\n",
    "      if self.wait >= self.patience:\n",
    "        self.stopped_epoch = epoch\n",
    "        self.model.stop_training = True\n",
    "        print('Restoring model weights from the end of the best epoch.')\n",
    "        self.model.set_weights(self.best_weights)\n",
    "\n",
    "  def on_train_end(self, logs=None):\n",
    "    if self.stopped_epoch > 0:\n",
    "      print('Epoch %05d: early stopping' % (self.stopped_epoch + 1))\n",
    "    \n",
    "\n",
    "\n",
    "# Setting the optimizer parameters\n",
    "opt = optimizers.Nadam(lr=lr, beta_1=beta_1, beta_2=beta_2)\n",
    "# compiling the model\n",
    "model.compile(loss='mean_squared_error',\n",
    "              optimizer=opt,\n",
    "              metrics=['mae'])\n",
    "# fitting the data with model (learning process)\n",
    "model.fit(data, labels, epochs=epochs, batch_size=batch_size, callbacks=[EarlyStoppingAtMinLoss(15)])  \n",
    "# evaluating the results\n",
    "loss, MAE= model.evaluate(d_test, l_test)\n",
    "# printing the final results on test data set\n",
    "print('Loss Funcion Minima On test dataset : %.8f' % (loss))\n",
    "print('Mean Absolute Error On test dataset : %.8f' % (MAE))"
   ]
  },
  {
   "cell_type": "markdown",
   "metadata": {},
   "source": [
    "Next, we want to make some predictions, and we do some error analysis:"
   ]
  },
  {
   "cell_type": "code",
   "execution_count": 14,
   "metadata": {},
   "outputs": [
    {
     "name": "stdout",
     "output_type": "stream",
     "text": [
      "mean of predicted A_eff : 0.76800650\n",
      "norm of the mean of the commited error : 0.00102100\n"
     ]
    }
   ],
   "source": [
    "predicted_A_eff = model.predict(d_test,batch_size=150)\n",
    "print('mean of predicted A_eff : %.8f' % (np.mean(predicted_A_eff)))\n",
    "print('norm of the mean of the commited error : %.8f' % (np.linalg.norm(np.mean(predicted_A_eff) - np.mean(l_test))))"
   ]
  },
  {
   "cell_type": "markdown",
   "metadata": {},
   "source": [
    "Here is the norm of a vector created whose elements are the commited error over all samples:"
   ]
  },
  {
   "cell_type": "code",
   "execution_count": 15,
   "metadata": {},
   "outputs": [
    {
     "name": "stdout",
     "output_type": "stream",
     "text": [
      "mean of L2 commited error: 0.34214979\n"
     ]
    }
   ],
   "source": [
    "err =[]\n",
    "for i in range(len(predicted_A_eff)):\n",
    "    err.append(predicted_A_eff[i]-l_test[i])\n",
    "err = np.array(err)\n",
    "print('mean of L2 commited error: %.8f'%(np.linalg.norm(err)))"
   ]
  },
  {
   "cell_type": "code",
   "execution_count": 37,
   "metadata": {},
   "outputs": [
    {
     "data": {
      "image/png": "[encoded data removed]",
      "text/plain": [
       "<Figure size 432x288 with 1 Axes>"
      ]
     },
     "metadata": {
      "needs_background": "light"
     },
     "output_type": "display_data"
    }
   ],
   "source": [
    "L2_Errors = []\n",
    "for i in range(predicted_A_eff.shape[0]):\n",
    "    L2_Errors.append((l_test[i] - predicted_A_eff[i])**2)\n",
    "\n",
    "import matplotlib.pyplot as plt\n",
    "plt.plot(L2_Errors)\n",
    "plt.title('L2 error of the predicted eigenvalues')\n",
    "plt.ylabel('commited error on instance')\n",
    "plt.xlabel('index of instance')\n",
    "plt.show()"
   ]
  },
  {
   "cell_type": "code",
   "execution_count": 39,
   "metadata": {},
   "outputs": [
    {
     "name": "stdout",
     "output_type": "stream",
     "text": [
      "Percentage of the commited error between 0,5e-6 is: 71.09333333\n",
      "Percentage of the commited error between 5e-6,5e-5 is: 28.28888889\n",
      "Percentage of the commited error between 5e-5,5e-4 is: 0.61777778\n",
      "Percentage of the commited error between 5e-4,5e-3 is: 0.00000000\n",
      "Percentage of the commited error between 5e-3,5e-2 is: 0.00000000\n",
      "Percentage of the commited error between 5e-2,5e-1 is: 0.00000000\n"
     ]
    }
   ],
   "source": [
    "#calculating percentiles:\n",
    "#setting tresholds :\n",
    "T1 = 0\n",
    "T2 = 5e-6\n",
    "T3 = 5e-5\n",
    "T4 = 5e-4\n",
    "T5 = 5e-3\n",
    "T6 = 5e-2\n",
    "T7 = 5e-1\n",
    "S1=S2=S3=S4=S5=S6=0.0\n",
    "for item in L2_Errors:\n",
    "    if (item[0]>=T1 and item[0]< T2):\n",
    "        S1 = S1 + 1\n",
    "    elif (item[0]>=T2 and item[0]< T3):\n",
    "        S2 = S2 + 1\n",
    "    elif (item[0]>=T3 and item[0]< T4):\n",
    "        S3 = S3 + 1\n",
    "    elif (item[0]>=T4 and item[0]< T5):\n",
    "        S4 = S4 + 1\n",
    "    elif (item[0]>=T5 and item[0]< T6):\n",
    "        S5 = S5 + 1\n",
    "    elif (item[0]>=T6 and item[0]< T7):\n",
    "        S6 = S6 + 1\n",
    "print('Percentage of the commited error between 0,5e-6 is: %.8f' % ((S1/len(L2_Errors)) * 100))\n",
    "print('Percentage of the commited error between 5e-6,5e-5 is: %.8f' % ((S2/len(L2_Errors)) * 100))\n",
    "print('Percentage of the commited error between 5e-5,5e-4 is: %.8f' % ((S3/len(L2_Errors)) * 100))\n",
    "print('Percentage of the commited error between 5e-4,5e-3 is: %.8f' % ((S4/len(L2_Errors)) * 100))\n",
    "print('Percentage of the commited error between 5e-3,5e-2 is: %.8f' % ((S5/len(L2_Errors)) * 100))\n",
    "print('Percentage of the commited error between 5e-2,5e-1 is: %.8f' % ((S6/len(L2_Errors)) * 100))"
   ]
  },
  {
   "cell_type": "code",
   "execution_count": 41,
   "metadata": {},
   "outputs": [
    {
     "data": {
      "image/png": "[encoded data removed]",
      "text/plain": [
       "<Figure size 864x432 with 1 Axes>"
      ]
     },
     "metadata": {},
     "output_type": "display_data"
    }
   ],
   "source": [
    "import numpy as np\n",
    "import matplotlib.pyplot as plt\n",
    "\n",
    "fig, ax = plt.subplots(figsize=(12, 6), subplot_kw=dict(aspect=\"equal\"))\n",
    "\n",
    "\n",
    "data_to_plot = [(S1/len(L2_Errors)),\n",
    "          (S2/len(L2_Errors)),\n",
    "          (S3/len(L2_Errors)),\n",
    "          (S4/len(L2_Errors)),\n",
    "          (S5/len(L2_Errors)),\n",
    "          (S6/len(L2_Errors))]\n",
    "ingredients = [\"0, 5e-6\", \n",
    "               \"5e-6, 5e-5\",\n",
    "               \"5e-5, 5e-4\",\n",
    "               \"5e-4, 5e-3\",\n",
    "               \"5e-3, 5e-2\",\n",
    "               \"5e-2, 5e-1\",]\n",
    "\n",
    "\n",
    "def func(pct, allvals):\n",
    "    return \"{:.1f}\".format(pct)\n",
    "\n",
    "\n",
    "wedges, texts, autotexts = ax.pie(data_to_plot, autopct=lambda pct: func(pct, data_to_plot),\n",
    "                                  textprops=dict(color=\"w\"))\n",
    "\n",
    "ax.legend(wedges, ingredients,\n",
    "          title=\"Error bounds\",\n",
    "          loc=\"center left\",\n",
    "          bbox_to_anchor=(1, 0, 0.5, 1))\n",
    "\n",
    "plt.setp(autotexts, size=8, weight=\"bold\")\n",
    "\n",
    "ax.set_title(\"error percentages\")\n",
    "\n",
    "plt.show()"
   ]
  },
  {
   "cell_type": "markdown",
   "metadata": {},
   "source": [
    "Next, we want to see the out put of the first part. and verify if it looks like a reciprocal function or not. References to look at for this work:\n",
    "\n",
    "* https://stackoverflow.com/questions/41711190/keras-how-to-get-the-output-of-each-layer\n",
    "\n",
    "* https://itnspotlight.com/dissecting-keras-neural-networks-accessing-weights-and-hidden-layers/\n",
    "\n",
    "* https://keras.io/layers/about-keras-layers/\n",
    "\n",
    "* https://keras.io/models/about-keras-models/\n"
   ]
  },
  {
   "cell_type": "code",
   "execution_count": 16,
   "metadata": {},
   "outputs": [
    {
     "name": "stdout",
     "output_type": "stream",
     "text": [
      "__________________________________________________________________________________________________\n",
      "Layer (type)                    Output Shape         Param #     Connected to                     \n",
      "==================================================================================================\n",
      "input_1 (InputLayer)            (None, 8, 1)         0                                            \n",
      "__________________________________________________________________________________________________\n",
      "conv1d_1 (Conv1D)               (None, 8, 16)        32          input_1[0][0]                    \n",
      "__________________________________________________________________________________________________\n",
      "add_1 (Add)                     (None, 8, 16)        0           conv1d_1[0][0]                   \n",
      "                                                                 input_1[0][0]                    \n",
      "__________________________________________________________________________________________________\n",
      "conv1d_2 (Conv1D)               (None, 8, 16)        272         add_1[0][0]                      \n",
      "__________________________________________________________________________________________________\n",
      "add_2 (Add)                     (None, 8, 16)        0           conv1d_2[0][0]                   \n",
      "                                                                 input_1[0][0]                    \n",
      "__________________________________________________________________________________________________\n",
      "conv1d_3 (Conv1D)               (None, 8, 16)        272         add_2[0][0]                      \n",
      "__________________________________________________________________________________________________\n",
      "add_3 (Add)                     (None, 8, 16)        0           conv1d_3[0][0]                   \n",
      "                                                                 input_1[0][0]                    \n",
      "__________________________________________________________________________________________________\n",
      "conv1d_4 (Conv1D)               (None, 8, 1)         17          add_3[0][0]                      \n",
      "__________________________________________________________________________________________________\n",
      "add_4 (Add)                     (None, 8, 1)         0           conv1d_4[0][0]                   \n",
      "                                                                 input_1[0][0]                    \n",
      "__________________________________________________________________________________________________\n",
      "global_average_pooling1d_1 (Glo (None, 1)            0           add_4[0][0]                      \n",
      "__________________________________________________________________________________________________\n",
      "lambda_1 (Lambda)               (None, 1)            0           global_average_pooling1d_1[0][0] \n",
      "__________________________________________________________________________________________________\n",
      "add_5 (Add)                     (None, 8, 1)         0           lambda_1[0][0]                   \n",
      "                                                                 input_1[0][0]                    \n",
      "__________________________________________________________________________________________________\n",
      "conv1d_5 (Conv1D)               (None, 8, 16)        32          add_5[0][0]                      \n",
      "__________________________________________________________________________________________________\n",
      "add_6 (Add)                     (None, 8, 16)        0           conv1d_5[0][0]                   \n",
      "                                                                 input_1[0][0]                    \n",
      "__________________________________________________________________________________________________\n",
      "conv1d_6 (Conv1D)               (None, 8, 16)        272         add_6[0][0]                      \n",
      "__________________________________________________________________________________________________\n",
      "add_7 (Add)                     (None, 8, 16)        0           conv1d_6[0][0]                   \n",
      "                                                                 input_1[0][0]                    \n",
      "__________________________________________________________________________________________________\n",
      "conv1d_7 (Conv1D)               (None, 8, 16)        272         add_7[0][0]                      \n",
      "__________________________________________________________________________________________________\n",
      "add_8 (Add)                     (None, 8, 16)        0           conv1d_7[0][0]                   \n",
      "                                                                 input_1[0][0]                    \n",
      "__________________________________________________________________________________________________\n",
      "conv1d_8 (Conv1D)               (None, 8, 1)         17          add_8[0][0]                      \n",
      "__________________________________________________________________________________________________\n",
      "flatten_1 (Flatten)             (None, 8)            0           conv1d_8[0][0]                   \n",
      "__________________________________________________________________________________________________\n",
      "dense_1 (Dense)                 (None, 1)            9           flatten_1[0][0]                  \n",
      "==================================================================================================\n",
      "Total params: 1,195\n",
      "Trainable params: 1,195\n",
      "Non-trainable params: 0\n",
      "__________________________________________________________________________________________________\n",
      "None\n"
     ]
    }
   ],
   "source": [
    "print(model.summary())"
   ]
  },
  {
   "cell_type": "code",
   "execution_count": 50,
   "metadata": {},
   "outputs": [],
   "source": [
    "# to get this layer name, use a model.summary() and pick the ID\n",
    "layer_name = 'conv1d_4'\n",
    "\n",
    "intermediate_layer_model = Model(inputs=model.input,\n",
    "                                 outputs=model.get_layer(layer_name).output)\n",
    "intermediate_output = intermediate_layer_model.predict(d_test)"
   ]
  },
  {
   "cell_type": "markdown",
   "metadata": {},
   "source": [
    "Lets process data a bit before ploting it:"
   ]
  },
  {
   "cell_type": "code",
   "execution_count": 53,
   "metadata": {},
   "outputs": [],
   "source": [
    "xs = d_test.reshape((d_test.shape[0],d_test.shape[2],d_test.shape[1])).flatten()\n",
    "ys = intermediate_output.reshape((intermediate_output.shape[0],intermediate_output.shape[2],intermediate_output.shape[1])).flatten()"
   ]
  },
  {
   "cell_type": "markdown",
   "metadata": {},
   "source": [
    "If we do not sort our dictionary, the plot would look like a childs drawing!"
   ]
  },
  {
   "cell_type": "code",
   "execution_count": 54,
   "metadata": {},
   "outputs": [
    {
     "data": {
      "text/plain": [
       "array([[  0.30000123, -13.49671841],\n",
       "       [  0.30000996, -13.49651337],\n",
       "       [  0.30001437, -13.49640942],\n",
       "       ...,\n",
       "       [  1.49996473,   3.02851343],\n",
       "       [  1.49998212,   3.02856302],\n",
       "       [  1.49999522,   3.02859974]])"
      ]
     },
     "execution_count": 54,
     "metadata": {},
     "output_type": "execute_result"
    }
   ],
   "source": [
    "dict1 = np.hstack((xs.reshape((xs.shape[0],1)), ys.reshape((ys.shape[0],1))))\n",
    "dict1.sort(axis=0)\n",
    "np.unique(dict1, axis=0)"
   ]
  },
  {
   "cell_type": "markdown",
   "metadata": {},
   "source": [
    "Lets make the plot :"
   ]
  },
  {
   "cell_type": "code",
   "execution_count": 55,
   "metadata": {},
   "outputs": [
    {
     "name": "stderr",
     "output_type": "stream",
     "text": [
      "/home/samim/anaconda2/lib/python2.7/site-packages/ipykernel_launcher.py:6: RankWarning: Polyfit may be poorly conditioned\n",
      "  \n"
     ]
    },
    {
     "data": {
      "image/png": "[encoded data removed]",
      "text/plain": [
       "<Figure size 432x288 with 1 Axes>"
      ]
     },
     "metadata": {
      "needs_background": "light"
     },
     "output_type": "display_data"
    }
   ],
   "source": [
    "\n",
    "import matplotlib.pyplot as plt\n",
    "plt.plot(dict1[:,0], dict1[:,1], '-', color='grey', alpha=.3,  label='predicted')\n",
    "x = dict1[:,0]\n",
    "y = dict1[:,1]\n",
    "z = np.polyfit(x, y, 15)\n",
    "p = np.poly1d(z)\n",
    "\n",
    "tpp =[]\n",
    "for i in dict1[:,0]:\n",
    "    tpp.append(p(i))  \n",
    "\n",
    "plt.plot(x, tpp,'-', alpha=1,  label='fitted')\n",
    "\n",
    "# here is more nice options for plotting, But I prefered to keep it simple\n",
    "\n",
    "plt.grid(axis='x', color='0.95')\n",
    "plt.legend(title='method')\n",
    "plt.title('output of the first stage')\n",
    "\n",
    "font = {'family': 'serif',\n",
    "        'color':  'gray',\n",
    "        'weight': 'normal',\n",
    "        'size': 16,\n",
    "        }\n",
    "\n",
    "\n",
    "plt.xlabel('input of the network', fontdict=font)\n",
    "plt.ylabel('first stage output', fontdict=font)\n",
    "\n",
    "plt.savefig('output_of_the_second_stage.png')\n",
    "#to get it as svg directly, but I prefer using Inkscape convertor for no reason \n",
    "#plt.savefig('output_of_the_second_stage.pdf')\n",
    "\n",
    "plt.show()"
   ]
  },
  {
   "cell_type": "markdown",
   "metadata": {},
   "source": [
    "Lets save this oplots data for later uses"
   ]
  },
  {
   "cell_type": "code",
   "execution_count": 32,
   "metadata": {},
   "outputs": [],
   "source": [
    "np.savetxt('data/fitted.csv', [x, tpp],delimiter=',')\n",
    "np.savetxt('data/predicted.csv', [x, dict1[:,1]],delimiter=',')"
   ]
  },
  {
   "cell_type": "markdown",
   "metadata": {},
   "source": [
    "During the later plot processing, I find this to be interesting: accessing the weights and biases of a particular layer"
   ]
  },
  {
   "cell_type": "code",
   "execution_count": 33,
   "metadata": {},
   "outputs": [
    {
     "name": "stdout",
     "output_type": "stream",
     "text": [
      "('wights: ', array([[[ 0.63494915],\n",
      "        [-0.10541237],\n",
      "        [ 0.76677436],\n",
      "        [-0.00666247],\n",
      "        [-0.6396661 ],\n",
      "        [ 0.80505115],\n",
      "        [ 0.09988046],\n",
      "        [-0.4912386 ],\n",
      "        [ 0.21556318],\n",
      "        [ 0.15950036],\n",
      "        [ 0.74047154],\n",
      "        [ 0.5420216 ],\n",
      "        [-0.41928333],\n",
      "        [-0.5895055 ],\n",
      "        [ 0.24533549],\n",
      "        [ 0.8478522 ]]], dtype=float32))\n",
      "('bias: ', array([-1.179834], dtype=float32))\n",
      "('config: ', {'padding': 'same', 'kernel_initializer': {'class_name': 'VarianceScaling', 'config': {'distribution': 'uniform', 'scale': 1.0, 'seed': None, 'mode': 'fan_avg'}}, 'name': 'conv1d_4', 'bias_regularizer': None, 'filters': 1, 'bias_constraint': None, 'activation': 'linear', 'trainable': True, 'data_format': 'channels_last', 'kernel_constraint': None, 'strides': (1,), 'dilation_rate': (1,), 'kernel_regularizer': None, 'bias_initializer': {'class_name': 'Zeros', 'config': {}}, 'use_bias': True, 'activity_regularizer': None, 'kernel_size': (1,)})\n"
     ]
    }
   ],
   "source": [
    "print(\"wights: \" ,model.get_layer(\"conv1d_4\").get_weights()[0])\n",
    "print(\"bias: \",model.get_layer(\"conv1d_4\").get_weights()[1])\n",
    "print(\"config: \",model.get_layer(\"conv1d_4\").get_config())"
   ]
  },
  {
   "cell_type": "markdown",
   "metadata": {},
   "source": [
    "Finally, lets save the model to the disk:"
   ]
  },
  {
   "cell_type": "code",
   "execution_count": 34,
   "metadata": {},
   "outputs": [],
   "source": [
    "model.save('data/my_model.h5')"
   ]
  },
  {
   "cell_type": "code",
   "execution_count": null,
   "metadata": {},
   "outputs": [],
   "source": []
  }
 ],
 "metadata": {
  "@webio": {
   "lastCommId": null,
   "lastKernelId": null
  },
  "kernelspec": {
   "display_name": "Python 2",
   "language": "python",
   "name": "python2"
  },
  "language_info": {
   "codemirror_mode": {
    "name": "ipython",
    "version": 2
   },
   "file_extension": ".py",
   "mimetype": "text/x-python",
   "name": "python",
   "nbconvert_exporter": "python",
   "pygments_lexer": "ipython2",
   "version": "2.7.16"
  }
 },
 "nbformat": 4,
 "nbformat_minor": 2
}
