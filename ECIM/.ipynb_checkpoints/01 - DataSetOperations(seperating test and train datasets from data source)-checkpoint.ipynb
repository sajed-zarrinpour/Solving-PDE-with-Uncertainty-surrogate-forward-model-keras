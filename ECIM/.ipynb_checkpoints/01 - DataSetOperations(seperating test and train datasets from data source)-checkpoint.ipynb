{
 "cells": [
  {
   "cell_type": "markdown",
   "metadata": {},
   "source": [
    "# Data Set Seperation\n",
    "In this module we will devide our main dataset, which is the out put of the Octave script in GNUPlot format which I put in the octave folder, into two distict sets. To ensure that the final model will be generalized over the samples, I choosed uniformly random 25% of the data points distributed acros the domain.\n",
    "\n",
    "To randomly select `k` items from a `stream` of items I used this refrence:\n",
    "https://www.geeksforgeeks.org/reservoir-sampling/\n",
    "\n",
    "please, note that I accidentally deleted the main data set, there is however its fractions in `data` folder, but anyway if you want to try runing this file, you would have to generate the data set with the octave script your self."
   ]
  },
  {
   "cell_type": "code",
   "execution_count": 1,
   "metadata": {},
   "outputs": [],
   "source": [
    "import numpy as np\n",
    "\n",
    "\n",
    "# Load the dataset\n",
    "dataset = np.loadtxt('data/data.csv', delimiter=',')\n",
    "test_percentage = 0.25\n",
    "\n",
    "import random \n",
    "\n",
    "# This function randomly selects k items from stream[0..n-1]. \n",
    "def selectKItems(stream, n, k): \n",
    "    i=0; # index for elements in stream[] \n",
    "    \n",
    "    # Initialize the output array with first k elements from stream[] \n",
    "    reservoir = [0]*k; \n",
    "    for i in range(k): \n",
    "        reservoir[i] = stream[i]; \n",
    "\n",
    "    # Iterate from the (k+1)th element to nth element \n",
    "    while(i < n): \n",
    "        # Pick a random index from 0 to i. \n",
    "        j = random.randrange(i+1); \n",
    "\n",
    "        # If the randomly picked  index is smaller than k, \n",
    "        # then replace the element present at the index \n",
    "        # with new element from stream \n",
    "        if(j < k): \n",
    "            reservoir[j] = stream[i]; \n",
    "        i+=1; \n",
    "    return reservoir\n",
    "\n",
    "\n",
    "#creating an array of indices of the points\n",
    "stream = range(dataset.shape[0]); \n",
    "n = len(stream);\n",
    "# we took 75% of the data as the train set and 25% of the data set as the test set\n",
    "k = (int) (dataset.shape[0] * test_percentage);\n",
    "#here we actually generating indices of those 25% of the data set which is uniformly distributed across the domain\n",
    "reservoir = selectKItems(stream, n, k); \n",
    "\n",
    "#split the data into train and test sets :\n",
    "def partition_on_index(it, indices):\n",
    "    indices = set(indices)   # convert to set for fast lookups\n",
    "    l1, l2 = [], []\n",
    "    l_append = (l1.append, l2.append)\n",
    "    for idx, element in enumerate(it):\n",
    "        l_append[idx in indices](element)\n",
    "    return l1, l2\n",
    "\n",
    "train, test = partition_on_index(dataset,reservoir)\n",
    "\n",
    "np.savetxt('test.csv', test, delimiter=',')\n",
    "np.savetxt('train.csv', train, delimiter=',')\n",
    "\n",
    "# usage :\n",
    "# np.loadtxt('test.csv', delimiter=',')"
   ]
  },
  {
   "cell_type": "code",
   "execution_count": null,
   "metadata": {},
   "outputs": [],
   "source": []
  }
 ],
 "metadata": {
  "kernelspec": {
   "display_name": "Python 2",
   "language": "python",
   "name": "python2"
  },
  "language_info": {
   "codemirror_mode": {
    "name": "ipython",
    "version": 2
   },
   "file_extension": ".py",
   "mimetype": "text/x-python",
   "name": "python",
   "nbconvert_exporter": "python",
   "pygments_lexer": "ipython2",
   "version": "2.7.16"
  }
 },
 "nbformat": 4,
 "nbformat_minor": 2
}
