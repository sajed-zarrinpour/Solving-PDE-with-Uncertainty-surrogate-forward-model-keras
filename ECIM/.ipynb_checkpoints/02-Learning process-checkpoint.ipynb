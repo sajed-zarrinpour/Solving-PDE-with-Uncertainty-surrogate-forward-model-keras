{
 "cells": [
  {
   "cell_type": "markdown",
   "metadata": {},
   "source": [
    "# Effective condunctanse in inhomogeneouse media\n",
    "we want to solve the following equation:\n",
    "\n",
    "$A_{eff}(a) = min_{u(x)} \\int_{[0,1]^d} a(x) ||-\\nabla u(x) + \\xi||_2^2$.\n",
    "\n",
    "the data set were generated previousely using Octave, then seperated to two distinct set."
   ]
  },
  {
   "cell_type": "code",
   "execution_count": 1,
   "metadata": {},
   "outputs": [
    {
     "name": "stderr",
     "output_type": "stream",
     "text": [
      "Using TensorFlow backend.\n"
     ]
    }
   ],
   "source": [
    "# Utilities : \n",
    "import numpy as np\n",
    "import os\n",
    "# Keras :\n",
    "# backend\n",
    "from keras import backend as K\n",
    "# layers :\n",
    "from keras.layers import Input, Dense, add, Activation , Conv1D, Flatten ,GlobalAveragePooling1D , Lambda\n",
    "# model :\n",
    "from keras.models import Model, model_from_json, model_from_yaml\n",
    "# optimizer :\n",
    "from keras import optimizers "
   ]
  },
  {
   "cell_type": "markdown",
   "metadata": {},
   "source": [
    "setting up network parameteres:"
   ]
  },
  {
   "cell_type": "code",
   "execution_count": 17,
   "metadata": {},
   "outputs": [],
   "source": [
    "# network input parameters \n",
    "\n",
    "n = 8            # number of the input layer neurons \n",
    "\n",
    "# convolutional layers parameters\n",
    "\n",
    "alpha = 16       # number of channels in convolutional layers\n",
    "ks = 1           # Kernel Size\n",
    "\n",
    "# optimizer (NAdam) parameters\n",
    "\n",
    "lr = 0.005       # learning rate\n",
    "beta_1=0.9       # beta 1\n",
    "beta_2=0.999     # beta 2\n",
    "\n",
    "# model fitting parameters\n",
    "\n",
    "epochs = 100     # epochs\n",
    "batch_size = 150 # batch size"
   ]
  },
  {
   "cell_type": "markdown",
   "metadata": {},
   "source": [
    "loading the Data to train and test data sets.\n",
    "\n",
    "* Step 1 : loading the data set\n",
    "* Step 2 : shuffling the data set\n",
    "* Step3  : seperating data and lable parts"
   ]
  },
  {
   "cell_type": "code",
   "execution_count": 13,
   "metadata": {},
   "outputs": [],
   "source": [
    "#test :\n",
    "test = np.loadtxt('data/test.csv', delimiter=',')\n",
    "np.random.shuffle(test)\n",
    "d_test = np.array(test[:,0:n])\n",
    "l_test = np.array(test[:,n])\n",
    "\n",
    "#train :\n",
    "train = np.loadtxt('data/train.csv', delimiter=',')\n",
    "np.random.shuffle(train)\n",
    "data = np.array(train[:,0:n])\n",
    "labels = np.array(train[:,n])"
   ]
  },
  {
   "cell_type": "markdown",
   "metadata": {},
   "source": [
    "Next we need to expand the dimensions of our input data, so it can feed directly to the convolutional layers. Please note that, as I did in NLSE, it could be done in the network with `Reshape` layer too."
   ]
  },
  {
   "cell_type": "code",
   "execution_count": 14,
   "metadata": {},
   "outputs": [],
   "source": [
    "# from (height, width) to (height, width, depth)\n",
    "data = np.expand_dims(data, axis=2) \n",
    "d_test = np.expand_dims(d_test, axis=2) "
   ]
  },
  {
   "cell_type": "markdown",
   "metadata": {},
   "source": [
    "Next, we would like to define our model. The model is consists of three part. First part is consists of some convolutional layers with kernel size 1, Second part is a sum-pooling block, and, finally, third part is consists of some convolutional layers with kernel size 1. Note that there is a symmetric relation between first and third parts."
   ]
  },
  {
   "cell_type": "code",
   "execution_count": 15,
   "metadata": {},
   "outputs": [
    {
     "name": "stdout",
     "output_type": "stream",
     "text": [
      "Tensor(\"input_2:0\", shape=(?, 8, 1), dtype=float32)\n",
      "Tensor(\"dense_2/BiasAdd:0\", shape=(?, 1), dtype=float32)\n"
     ]
    }
   ],
   "source": [
    "inputTensor = Input(shape=(n,1))\n",
    "print inputTensor\n",
    "\n",
    "stack = []\n",
    "\n",
    "# Part 1: Convolutional layers:\n",
    "# SubPart 1.1 : Expanding the input to alpha channels and performing convolutions with kernel size of ks\n",
    "stack.append(Conv1D(alpha, ks, strides=1, input_shape=(1,n,1),padding='same', activation='relu')(inputTensor))\n",
    "stack.append(Conv1D(alpha, ks, strides=1, padding='same', activation='relu')(add([stack[len(stack)-1],inputTensor])))\n",
    "stack.append(Conv1D(alpha, ks, strides=1, padding='same', activation='relu')(add([stack[len(stack)-1],inputTensor])))\n",
    "# SubPart 1.2 : Flattening the results into 1 chanel\n",
    "stack.append(Conv1D(1, ks, strides=1, padding='same', activation='linear')(add([stack[len(stack)-1],inputTensor])))\n",
    "\n",
    "# Part 2: Sum-Pooling:\n",
    "# there is no sumpooling direct layer, so we have to use an global average layer first :\n",
    "stack.append(GlobalAveragePooling1D(data_format='channels_last')(add([stack[len(stack)-1],inputTensor])))\n",
    "# and then multiply the result in the total number of elements throughh a lambda layer next:\n",
    "stack.append(Lambda(lambda x: x * data.shape[1])(stack[len(stack)-1]))\n",
    "\n",
    "# Part 3: Convolutions equivalent to Dense layers\n",
    "# SubPart 3.1 : Expanding the input to alpha channels and performing convolution with kernel size 'ks'\n",
    "stack.append(Conv1D(alpha, ks, strides=1, padding='same', activation='relu')(add([stack[len(stack)-1],inputTensor])))\n",
    "stack.append(Conv1D(alpha, ks, strides=1, padding='same', activation='relu')(add([stack[len(stack)-1],inputTensor])))\n",
    "stack.append(Conv1D(alpha, ks, strides=1, padding='same', activation='relu')(add([stack[len(stack)-1],inputTensor])))\n",
    "\n",
    "# SubPart 3.2 : Flattening alpha channels to 1 channel, so the whole part can be viewd as a dense layer\n",
    "#shall the kernel size remain 1? or we can use a more dynamic kernel size here\n",
    "stack.append(Conv1D(1, ks, strides=1, padding='same', activation='linear')(add([stack[len(stack)-1],inputTensor])))\n",
    "\n",
    "# SubPart 3.3 : Flattening the result so it can be fed into the output layer\n",
    "stack.append(Flatten()(stack[len(stack)-1])) \n",
    "\n",
    "# SubPart 3.4 : The output layer which is a n -> 1 dense layer and will give us one single output \n",
    "finalOutput = Dense(1)(stack[len(stack)-1])\n",
    "print finalOutput\n",
    "\n",
    "# Defining the Actual Model\n",
    "model = Model(inputTensor,finalOutput)"
   ]
  },
  {
   "cell_type": "markdown",
   "metadata": {},
   "source": [
    "Lets train the network. The loss function is choosen to be mean squared error."
   ]
  },
  {
   "cell_type": "code",
   "execution_count": 18,
   "metadata": {},
   "outputs": [
    {
     "name": "stdout",
     "output_type": "stream",
     "text": [
      "Epoch 1/100\n",
      "127500/127500 [==============================] - 36s 279us/step - loss: 0.0316 - mean_absolute_error: 0.1150\n",
      "Epoch 2/100\n",
      "127500/127500 [==============================] - 34s 269us/step - loss: 0.0055 - mean_absolute_error: 0.0573\n",
      "Epoch 3/100\n",
      "127500/127500 [==============================] - 34s 271us/step - loss: 0.0048 - mean_absolute_error: 0.0542\n",
      "Epoch 4/100\n",
      "127500/127500 [==============================] - 36s 279us/step - loss: 0.0050 - mean_absolute_error: 0.0546\n",
      "Epoch 5/100\n",
      "127500/127500 [==============================] - 34s 270us/step - loss: 0.0043 - mean_absolute_error: 0.0515\n",
      "Epoch 6/100\n",
      "127500/127500 [==============================] - 34s 267us/step - loss: 0.0041 - mean_absolute_error: 0.0505\n",
      "Epoch 7/100\n",
      "127500/127500 [==============================] - 36s 283us/step - loss: 0.0037 - mean_absolute_error: 0.0475\n",
      "Epoch 8/100\n",
      "127500/127500 [==============================] - 35s 275us/step - loss: 0.0030 - mean_absolute_error: 0.0422\n",
      "Epoch 9/100\n",
      "127500/127500 [==============================] - 35s 277us/step - loss: 0.0014 - mean_absolute_error: 0.0291\n",
      "Epoch 10/100\n",
      "127500/127500 [==============================] - 35s 277us/step - loss: 8.2869e-04 - mean_absolute_error: 0.0223\n",
      "Epoch 11/100\n",
      "127500/127500 [==============================] - 38s 301us/step - loss: 6.2511e-04 - mean_absolute_error: 0.0189\n",
      "Epoch 12/100\n",
      "127500/127500 [==============================] - 39s 306us/step - loss: 5.2398e-04 - mean_absolute_error: 0.0174\n",
      "Epoch 13/100\n",
      "127500/127500 [==============================] - 42s 329us/step - loss: 4.4302e-04 - mean_absolute_error: 0.0156\n",
      "Epoch 14/100\n",
      "127500/127500 [==============================] - 38s 298us/step - loss: 3.2182e-04 - mean_absolute_error: 0.01351s - loss: 3.2960e-04 - mean_absolute_error:  - ETA: 1s - loss: 3.2708e-04 - mean_ab\n",
      "Epoch 15/100\n",
      "127500/127500 [==============================] - 43s 334us/step - loss: 2.9313e-04 - mean_absolute_error: 0.0127\n",
      "Epoch 16/100\n",
      "127500/127500 [==============================] - 43s 335us/step - loss: 2.1409e-04 - mean_absolute_error: 0.0107\n",
      "Epoch 17/100\n",
      "127500/127500 [==============================] - 44s 346us/step - loss: 1.6675e-04 - mean_absolute_error: 0.00940s - loss: 1.6706e-04 - mean_absolute_error: 0.0\n",
      "Epoch 18/100\n",
      "127500/127500 [==============================] - 37s 292us/step - loss: 1.5098e-04 - mean_absolute_error: 0.0087\n",
      "Epoch 19/100\n",
      "127500/127500 [==============================] - 37s 290us/step - loss: 1.1135e-04 - mean_absolute_error: 0.0076\n",
      "Epoch 20/100\n",
      "127500/127500 [==============================] - 37s 293us/step - loss: 9.8924e-05 - mean_absolute_error: 0.0066\n",
      "Epoch 21/100\n",
      "127500/127500 [==============================] - 38s 295us/step - loss: 8.6243e-05 - mean_absolute_error: 0.0063\n",
      "Epoch 22/100\n",
      "127500/127500 [==============================] - 38s 296us/step - loss: 7.7899e-05 - mean_absolute_error: 0.0061\n",
      "Epoch 23/100\n",
      "127500/127500 [==============================] - 37s 289us/step - loss: 7.9353e-05 - mean_absolute_error: 0.0062\n",
      "Epoch 24/100\n",
      "127500/127500 [==============================] - 37s 289us/step - loss: 7.5764e-05 - mean_absolute_error: 0.0063\n",
      "Epoch 25/100\n",
      "127500/127500 [==============================] - 37s 292us/step - loss: 7.3833e-05 - mean_absolute_error: 0.0057\n",
      "Epoch 26/100\n",
      "127500/127500 [==============================] - 37s 291us/step - loss: 6.4221e-05 - mean_absolute_error: 0.0056\n",
      "Epoch 27/100\n",
      "127500/127500 [==============================] - 38s 295us/step - loss: 6.4019e-05 - mean_absolute_error: 0.0057\n",
      "Epoch 28/100\n",
      "127500/127500 [==============================] - 38s 297us/step - loss: 6.0102e-05 - mean_absolute_error: 0.0056\n",
      "Epoch 29/100\n",
      "127500/127500 [==============================] - 37s 292us/step - loss: 5.9618e-05 - mean_absolute_error: 0.0056\n",
      "Epoch 30/100\n",
      "127500/127500 [==============================] - 38s 297us/step - loss: 5.8772e-05 - mean_absolute_error: 0.00533s -\n",
      "Epoch 31/100\n",
      "127500/127500 [==============================] - 36s 284us/step - loss: 5.3085e-05 - mean_absolute_error: 0.0052\n",
      "Epoch 32/100\n",
      "127500/127500 [==============================] - 35s 274us/step - loss: 5.1954e-05 - mean_absolute_error: 0.0050\n",
      "Epoch 33/100\n",
      "127500/127500 [==============================] - 35s 277us/step - loss: 4.9459e-05 - mean_absolute_error: 0.0048\n",
      "Epoch 34/100\n",
      "127500/127500 [==============================] - 37s 288us/step - loss: 5.2325e-05 - mean_absolute_error: 0.0052\n",
      "Epoch 35/100\n",
      "127500/127500 [==============================] - 37s 288us/step - loss: 4.5966e-05 - mean_absolute_error: 0.0047\n",
      "Epoch 36/100\n",
      "127500/127500 [==============================] - 37s 292us/step - loss: 4.4210e-05 - mean_absolute_error: 0.0046\n",
      "Epoch 37/100\n",
      "127500/127500 [==============================] - 38s 300us/step - loss: 4.6117e-05 - mean_absolute_error: 0.0048\n",
      "Epoch 38/100\n",
      "127500/127500 [==============================] - 38s 297us/step - loss: 4.0699e-05 - mean_absolute_error: 0.0042\n",
      "Epoch 39/100\n",
      "127500/127500 [==============================] - 38s 297us/step - loss: 4.3792e-05 - mean_absolute_error: 0.0045\n",
      "Epoch 40/100\n",
      "127500/127500 [==============================] - 38s 300us/step - loss: 3.9698e-05 - mean_absolute_error: 0.0043\n",
      "Epoch 41/100\n",
      "127500/127500 [==============================] - 40s 315us/step - loss: 4.3225e-05 - mean_absolute_error: 0.0047\n",
      "Epoch 42/100\n",
      "127500/127500 [==============================] - 40s 312us/step - loss: 3.9182e-05 - mean_absolute_error: 0.0045\n",
      "Epoch 43/100\n",
      "127500/127500 [==============================] - 40s 316us/step - loss: 4.1616e-05 - mean_absolute_error: 0.0042\n",
      "Epoch 44/100\n",
      "127500/127500 [==============================] - 39s 308us/step - loss: 3.8452e-05 - mean_absolute_error: 0.0040\n",
      "Epoch 45/100\n",
      "127500/127500 [==============================] - 39s 309us/step - loss: 4.0416e-05 - mean_absolute_error: 0.0044\n",
      "Epoch 46/100\n",
      "127500/127500 [==============================] - 43s 334us/step - loss: 4.1311e-05 - mean_absolute_error: 0.0044\n",
      "Epoch 47/100\n",
      "127500/127500 [==============================] - 40s 310us/step - loss: 3.7193e-05 - mean_absolute_error: 0.0041\n",
      "Epoch 48/100\n",
      "127500/127500 [==============================] - 39s 303us/step - loss: 4.4102e-05 - mean_absolute_error: 0.0041\n",
      "Epoch 49/100\n",
      "127500/127500 [==============================] - 35s 278us/step - loss: 3.2692e-05 - mean_absolute_error: 0.0038\n",
      "Epoch 50/100\n",
      "127500/127500 [==============================] - 37s 288us/step - loss: 3.2920e-05 - mean_absolute_error: 0.00401s - loss: 3.2102e-05 - mean_absol\n",
      "Epoch 51/100\n",
      "127500/127500 [==============================] - 39s 306us/step - loss: 3.3513e-05 - mean_absolute_error: 0.0040\n",
      "Epoch 52/100\n",
      "127500/127500 [==============================] - 39s 307us/step - loss: 3.4347e-05 - mean_absolute_error: 0.0040\n",
      "Epoch 53/100\n",
      "127500/127500 [==============================] - 40s 310us/step - loss: 3.5493e-05 - mean_absolute_error: 0.0039\n",
      "Epoch 54/100\n",
      "127500/127500 [==============================] - 40s 317us/step - loss: 3.0937e-05 - mean_absolute_error: 0.0037\n",
      "Epoch 55/100\n",
      "127500/127500 [==============================] - 41s 319us/step - loss: 3.5499e-05 - mean_absolute_error: 0.0039\n",
      "Epoch 56/100\n",
      "127500/127500 [==============================] - 44s 342us/step - loss: 3.2306e-05 - mean_absolute_error: 0.0040\n",
      "Epoch 57/100\n",
      "127500/127500 [==============================] - 44s 345us/step - loss: 3.1744e-05 - mean_absolute_error: 0.0038\n",
      "Epoch 58/100\n",
      "127500/127500 [==============================] - 42s 329us/step - loss: 3.4652e-05 - mean_absolute_error: 0.0042\n",
      "Epoch 59/100\n",
      "127500/127500 [==============================] - 41s 322us/step - loss: 3.0988e-05 - mean_absolute_error: 0.00362s - loss: 3.0729e-05 -\n",
      "Epoch 60/100\n",
      "127500/127500 [==============================] - 39s 305us/step - loss: 3.3176e-05 - mean_absolute_error: 0.0034\n",
      "Epoch 61/100\n",
      "127500/127500 [==============================] - 39s 304us/step - loss: 3.1350e-05 - mean_absolute_error: 0.0036\n",
      "Epoch 62/100\n",
      "127500/127500 [==============================] - 39s 304us/step - loss: 3.0372e-05 - mean_absolute_error: 0.0037\n",
      "Epoch 63/100\n",
      "127500/127500 [==============================] - 38s 301us/step - loss: 3.1000e-05 - mean_absolute_error: 0.0035\n",
      "Epoch 64/100\n",
      "127500/127500 [==============================] - 32s 251us/step - loss: 2.9748e-05 - mean_absolute_error: 0.0037\n",
      "Epoch 65/100\n",
      "127500/127500 [==============================] - 33s 257us/step - loss: 2.9465e-05 - mean_absolute_error: 0.0036\n",
      "Epoch 66/100\n",
      "127500/127500 [==============================] - 34s 270us/step - loss: 3.1988e-05 - mean_absolute_error: 0.0037\n",
      "Epoch 67/100\n",
      "127500/127500 [==============================] - 35s 271us/step - loss: 3.1734e-05 - mean_absolute_error: 0.00371s - loss: 3.0625e-05 - mean_abso\n",
      "Epoch 68/100\n",
      "127500/127500 [==============================] - 35s 272us/step - loss: 2.9825e-05 - mean_absolute_error: 0.0038\n",
      "Epoch 69/100\n",
      "127500/127500 [==============================] - 34s 267us/step - loss: 2.8343e-05 - mean_absolute_error: 0.0038\n",
      "Epoch 70/100\n",
      "127500/127500 [==============================] - 34s 269us/step - loss: 2.9737e-05 - mean_absolute_error: 0.0035\n",
      "Epoch 71/100\n",
      "127500/127500 [==============================] - 34s 268us/step - loss: 3.2556e-05 - mean_absolute_error: 0.0039\n",
      "Epoch 72/100\n",
      "127500/127500 [==============================] - 32s 252us/step - loss: 2.7086e-05 - mean_absolute_error: 0.0034\n",
      "Epoch 73/100\n",
      "127500/127500 [==============================] - 35s 278us/step - loss: 2.9852e-05 - mean_absolute_error: 0.0036\n",
      "Epoch 74/100\n",
      "127500/127500 [==============================] - 36s 282us/step - loss: 2.9585e-05 - mean_absolute_error: 0.0037\n",
      "Epoch 75/100\n",
      "127500/127500 [==============================] - 36s 281us/step - loss: 2.8768e-05 - mean_absolute_error: 0.0036\n",
      "Epoch 76/100\n",
      "127500/127500 [==============================] - 36s 282us/step - loss: 2.6176e-05 - mean_absolute_error: 0.0033\n",
      "Epoch 77/100\n",
      "127500/127500 [==============================] - 36s 283us/step - loss: 3.2806e-05 - mean_absolute_error: 0.00390s - loss: 3.2811e-05 - mean_absolute_error: 0.00\n",
      "Epoch 78/100\n",
      "127500/127500 [==============================] - 37s 290us/step - loss: 2.6885e-05 - mean_absolute_error: 0.0035\n",
      "Epoch 79/100\n",
      "127500/127500 [==============================] - 37s 288us/step - loss: 2.7426e-05 - mean_absolute_error: 0.0035\n",
      "Epoch 80/100\n",
      "127500/127500 [==============================] - 37s 293us/step - loss: 2.8473e-05 - mean_absolute_error: 0.0033\n",
      "Epoch 81/100\n",
      "127500/127500 [==============================] - 37s 287us/step - loss: 2.8125e-05 - mean_absolute_error: 0.0037\n",
      "Epoch 82/100\n",
      "127500/127500 [==============================] - 37s 293us/step - loss: 2.6627e-05 - mean_absolute_error: 0.0031\n",
      "Epoch 83/100\n",
      "127500/127500 [==============================] - 36s 285us/step - loss: 2.8036e-05 - mean_absolute_error: 0.0035\n",
      "Epoch 84/100\n",
      "127500/127500 [==============================] - 37s 292us/step - loss: 2.8691e-05 - mean_absolute_error: 0.0035\n",
      "Epoch 85/100\n",
      "127500/127500 [==============================] - 37s 294us/step - loss: 2.6131e-05 - mean_absolute_error: 0.0031\n",
      "Epoch 86/100\n",
      "127500/127500 [==============================] - 40s 313us/step - loss: 2.6245e-05 - mean_absolute_error: 0.0035\n",
      "Epoch 87/100\n",
      "127500/127500 [==============================] - 38s 299us/step - loss: 2.6968e-05 - mean_absolute_error: 0.0032\n",
      "Epoch 88/100\n",
      "127500/127500 [==============================] - 38s 301us/step - loss: 2.6976e-05 - mean_absolute_error: 0.0032\n",
      "Epoch 89/100\n",
      "127500/127500 [==============================] - 38s 302us/step - loss: 2.5755e-05 - mean_absolute_error: 0.0033\n",
      "Epoch 90/100\n",
      "127500/127500 [==============================] - 38s 301us/step - loss: 2.5079e-05 - mean_absolute_error: 0.0034\n",
      "Epoch 91/100\n",
      "127500/127500 [==============================] - 39s 310us/step - loss: 2.9864e-05 - mean_absolute_error: 0.0035\n",
      "Epoch 92/100\n",
      "127500/127500 [==============================] - 39s 310us/step - loss: 2.5588e-05 - mean_absolute_error: 0.0032\n",
      "Epoch 93/100\n",
      "127500/127500 [==============================] - 37s 287us/step - loss: 2.5455e-05 - mean_absolute_error: 0.0030\n",
      "Epoch 94/100\n",
      "127500/127500 [==============================] - 38s 296us/step - loss: 2.7191e-05 - mean_absolute_error: 0.0034\n",
      "Epoch 95/100\n",
      "127500/127500 [==============================] - 39s 307us/step - loss: 2.8701e-05 - mean_absolute_error: 0.0034\n",
      "Epoch 96/100\n",
      "127500/127500 [==============================] - 39s 303us/step - loss: 2.4530e-05 - mean_absolute_error: 0.0032\n",
      "Epoch 97/100\n",
      "127500/127500 [==============================] - 39s 306us/step - loss: 2.3720e-05 - mean_absolute_error: 0.0032\n",
      "Epoch 98/100\n",
      "127500/127500 [==============================] - 39s 309us/step - loss: 2.5156e-05 - mean_absolute_error: 0.0033\n",
      "Epoch 99/100\n",
      "127500/127500 [==============================] - 40s 315us/step - loss: 2.5931e-05 - mean_absolute_error: 0.0035\n",
      "Epoch 100/100\n",
      "127500/127500 [==============================] - 43s 340us/step - loss: 2.5826e-05 - mean_absolute_error: 0.0032\n",
      "22500/22500 [==============================] - 11s 507us/step\n",
      "Loss Funcion Minima On test dataset : 0.00000208\n",
      "Mean Absolute Error On test dataset : 0.00111805\n"
     ]
    }
   ],
   "source": [
    "# Running The Model\n",
    "\n",
    "# Setting the optimizer parameters\n",
    "opt = optimizers.Nadam(lr=lr, beta_1=beta_1, beta_2=beta_2)\n",
    "# compiling the model\n",
    "model.compile(loss='mean_squared_error',\n",
    "              optimizer=opt,\n",
    "              metrics=['mae'])\n",
    "# fitting the data with model (learning process)\n",
    "model.fit(data, labels, epochs=epochs, batch_size=batch_size)  \n",
    "# evaluating the results\n",
    "loss, MAE= model.evaluate(d_test, l_test)\n",
    "# printing the final results on test data set\n",
    "print('Loss Funcion Minima On test dataset : %.8f' % (loss))\n",
    "print('Mean Absolute Error On test dataset : %.8f' % (MAE))"
   ]
  },
  {
   "cell_type": "markdown",
   "metadata": {},
   "source": [
    "Next, we want to make some predictions, and we do some error analysis:"
   ]
  },
  {
   "cell_type": "code",
   "execution_count": 19,
   "metadata": {},
   "outputs": [
    {
     "name": "stdout",
     "output_type": "stream",
     "text": [
      "mean of predicted A_eff : 0.76631910\n",
      "norm of the mean of the commited error : 0.00066640\n"
     ]
    }
   ],
   "source": [
    "predicted_A_eff = model.predict(d_test,batch_size=150)\n",
    "print('mean of predicted A_eff : %.8f' % (np.mean(predicted_A_eff)))\n",
    "print('norm of the mean of the commited error : %.8f' % (np.linalg.norm(np.mean(predicted_A_eff) - np.mean(l_test))))"
   ]
  },
  {
   "cell_type": "markdown",
   "metadata": {},
   "source": [
    "Here is the norm of a vector created whose elements are the commited error over all samples:"
   ]
  },
  {
   "cell_type": "code",
   "execution_count": 20,
   "metadata": {},
   "outputs": [
    {
     "name": "stdout",
     "output_type": "stream",
     "text": [
      "mean of L2 commited error: 0.21650887\n"
     ]
    }
   ],
   "source": [
    "err =[]\n",
    "for i in range(len(predicted_A_eff)):\n",
    "    err.append(predicted_A_eff[i]-l_test[i])\n",
    "err = np.array(err)\n",
    "print('mean of L2 commited error: %.8f'%(np.linalg.norm(err)))"
   ]
  },
  {
   "cell_type": "markdown",
   "metadata": {},
   "source": [
    "Next, we want to see the out put of the first part. and verify if it looks like a reciprocal function or not. References to look at for this work:\n",
    "\n",
    "* https://stackoverflow.com/questions/41711190/keras-how-to-get-the-output-of-each-layer\n",
    "\n",
    "* https://itnspotlight.com/dissecting-keras-neural-networks-accessing-weights-and-hidden-layers/\n",
    "\n",
    "* https://keras.io/layers/about-keras-layers/\n",
    "\n",
    "* https://keras.io/models/about-keras-models/\n"
   ]
  },
  {
   "cell_type": "code",
   "execution_count": 25,
   "metadata": {},
   "outputs": [
    {
     "name": "stdout",
     "output_type": "stream",
     "text": [
      "__________________________________________________________________________________________________\n",
      "Layer (type)                    Output Shape         Param #     Connected to                     \n",
      "==================================================================================================\n",
      "input_2 (InputLayer)            (None, 8, 1)         0                                            \n",
      "__________________________________________________________________________________________________\n",
      "conv1d_9 (Conv1D)               (None, 8, 16)        32          input_2[0][0]                    \n",
      "__________________________________________________________________________________________________\n",
      "add_9 (Add)                     (None, 8, 16)        0           conv1d_9[0][0]                   \n",
      "                                                                 input_2[0][0]                    \n",
      "__________________________________________________________________________________________________\n",
      "conv1d_10 (Conv1D)              (None, 8, 16)        272         add_9[0][0]                      \n",
      "__________________________________________________________________________________________________\n",
      "add_10 (Add)                    (None, 8, 16)        0           conv1d_10[0][0]                  \n",
      "                                                                 input_2[0][0]                    \n",
      "__________________________________________________________________________________________________\n",
      "conv1d_11 (Conv1D)              (None, 8, 16)        272         add_10[0][0]                     \n",
      "__________________________________________________________________________________________________\n",
      "add_11 (Add)                    (None, 8, 16)        0           conv1d_11[0][0]                  \n",
      "                                                                 input_2[0][0]                    \n",
      "__________________________________________________________________________________________________\n",
      "conv1d_12 (Conv1D)              (None, 8, 1)         17          add_11[0][0]                     \n",
      "__________________________________________________________________________________________________\n",
      "add_12 (Add)                    (None, 8, 1)         0           conv1d_12[0][0]                  \n",
      "                                                                 input_2[0][0]                    \n",
      "__________________________________________________________________________________________________\n",
      "global_average_pooling1d_2 (Glo (None, 1)            0           add_12[0][0]                     \n",
      "__________________________________________________________________________________________________\n",
      "lambda_2 (Lambda)               (None, 1)            0           global_average_pooling1d_2[0][0] \n",
      "__________________________________________________________________________________________________\n",
      "add_13 (Add)                    (None, 8, 1)         0           lambda_2[0][0]                   \n",
      "                                                                 input_2[0][0]                    \n",
      "__________________________________________________________________________________________________\n",
      "conv1d_13 (Conv1D)              (None, 8, 16)        32          add_13[0][0]                     \n",
      "__________________________________________________________________________________________________\n",
      "add_14 (Add)                    (None, 8, 16)        0           conv1d_13[0][0]                  \n",
      "                                                                 input_2[0][0]                    \n",
      "__________________________________________________________________________________________________\n",
      "conv1d_14 (Conv1D)              (None, 8, 16)        272         add_14[0][0]                     \n",
      "__________________________________________________________________________________________________\n",
      "add_15 (Add)                    (None, 8, 16)        0           conv1d_14[0][0]                  \n",
      "                                                                 input_2[0][0]                    \n",
      "__________________________________________________________________________________________________\n",
      "conv1d_15 (Conv1D)              (None, 8, 16)        272         add_15[0][0]                     \n",
      "__________________________________________________________________________________________________\n",
      "add_16 (Add)                    (None, 8, 16)        0           conv1d_15[0][0]                  \n",
      "                                                                 input_2[0][0]                    \n",
      "__________________________________________________________________________________________________\n",
      "conv1d_16 (Conv1D)              (None, 8, 1)         17          add_16[0][0]                     \n",
      "__________________________________________________________________________________________________\n",
      "flatten_2 (Flatten)             (None, 8)            0           conv1d_16[0][0]                  \n",
      "__________________________________________________________________________________________________\n",
      "dense_2 (Dense)                 (None, 1)            9           flatten_2[0][0]                  \n",
      "==================================================================================================\n",
      "Total params: 1,195\n",
      "Trainable params: 1,195\n",
      "Non-trainable params: 0\n",
      "__________________________________________________________________________________________________\n",
      "None\n"
     ]
    }
   ],
   "source": [
    "print(model.summary())"
   ]
  },
  {
   "cell_type": "code",
   "execution_count": 27,
   "metadata": {},
   "outputs": [],
   "source": [
    "# to get this layer name, use a model.summary() and pick the ID\n",
    "layer_name = 'conv1d_12'\n",
    "\n",
    "intermediate_layer_model = Model(inputs=model.input,\n",
    "                                 outputs=model.get_layer(layer_name).output)\n",
    "intermediate_output = intermediate_layer_model.predict(d_test)"
   ]
  },
  {
   "cell_type": "markdown",
   "metadata": {},
   "source": [
    "Lets process data a bit before ploting it:"
   ]
  },
  {
   "cell_type": "code",
   "execution_count": 43,
   "metadata": {},
   "outputs": [],
   "source": [
    "xs = d_test.reshape((d_test.shape[0],d_test.shape[2],d_test.shape[1])).flatten()\n",
    "ys = intermediate_output.reshape((intermediate_output.shape[0],intermediate_output.shape[2],intermediate_output.shape[1])).flatten()"
   ]
  },
  {
   "cell_type": "markdown",
   "metadata": {},
   "source": [
    "If we do not sort our dictionary, the plot would look like a childs drawing!"
   ]
  },
  {
   "cell_type": "code",
   "execution_count": 65,
   "metadata": {},
   "outputs": [
    {
     "data": {
      "text/plain": [
       "array([[  0.30000123, -18.94641113],\n",
       "       [  0.30000996, -18.94593048],\n",
       "       [  0.30001437, -18.94569206],\n",
       "       ...,\n",
       "       [  1.49996473,   4.3779583 ],\n",
       "       [  1.49998212,   4.37802744],\n",
       "       [  1.49999522,   4.37808084]])"
      ]
     },
     "execution_count": 65,
     "metadata": {},
     "output_type": "execute_result"
    }
   ],
   "source": [
    "dict1 = np.hstack((xs.reshape((xs.shape[0],1)), ys.reshape((ys.shape[0],1))))\n",
    "dict1.sort(axis=0)\n",
    "np.unique(dict1, axis=0)"
   ]
  },
  {
   "cell_type": "markdown",
   "metadata": {},
   "source": [
    "Lets make the plot :"
   ]
  },
  {
   "cell_type": "code",
   "execution_count": 76,
   "metadata": {},
   "outputs": [
    {
     "name": "stderr",
     "output_type": "stream",
     "text": [
      "/home/samim/anaconda2/lib/python2.7/site-packages/ipykernel_launcher.py:6: RankWarning: Polyfit may be poorly conditioned\n",
      "  \n"
     ]
    },
    {
     "data": {
      "text/plain": [
       "[<matplotlib.lines.Line2D at 0x7f5ff7fe6d50>]"
      ]
     },
     "execution_count": 76,
     "metadata": {},
     "output_type": "execute_result"
    },
    {
     "data": {
      "image/png": "[encoded data removed]",
      "text/plain": [
       "<Figure size 432x288 with 1 Axes>"
      ]
     },
     "metadata": {
      "needs_background": "light"
     },
     "output_type": "display_data"
    }
   ],
   "source": [
    "\n",
    "import matplotlib.pyplot as plt\n",
    "plt.plot(dict1[:,0], dict1[:,1], '-', color='grey', alpha=.3,  label='predicted')\n",
    "x = dict1[:,0]\n",
    "y = dict1[:,1]\n",
    "z = np.polyfit(x, y, 15)\n",
    "p = np.poly1d(z)\n",
    "\n",
    "tpp =[]\n",
    "for i in dict1[:,0]:\n",
    "    tpp.append(p(i))  \n",
    "\n",
    "plt.plot(x, tpp,'-', alpha=1,  label='fitted')\n",
    "\n",
    "# here is more nice options for plotting, But I prefered to keep it simple\n",
    "\n",
    "#plt.grid(axis='x', color='0.95')\n",
    "#plt.legend(title='method')\n",
    "#plt.title('-1 * output of the second stage')\n",
    "\n",
    "#font = {'family': 'serif',\n",
    "#        'color':  'gray',\n",
    "#        'weight': 'normal',\n",
    "#        'size': 16,\n",
    "#        }\n",
    "\n",
    "\n",
    "#plt.xlabel('input of the network', fontdict=font)\n",
    "#plt.ylabel('first stage output', fontdict=font)\n",
    "\n",
    "#plt.show()"
   ]
  },
  {
   "cell_type": "markdown",
   "metadata": {},
   "source": [
    "Lets save this oplots data for later uses"
   ]
  },
  {
   "cell_type": "code",
   "execution_count": 250,
   "metadata": {},
   "outputs": [],
   "source": [
    "np.savetxt('data/fitted.csv', [a[0], tpp],delimiter=',')\n",
    "np.savetxt('data/predicted.csv', [a[0], toplot],delimiter=',')"
   ]
  },
  {
   "cell_type": "markdown",
   "metadata": {},
   "source": [
    "During the later plot processing, I find this to be interesting: accessing the weights and biases of a particular layer"
   ]
  },
  {
   "cell_type": "code",
   "execution_count": 84,
   "metadata": {},
   "outputs": [
    {
     "name": "stdout",
     "output_type": "stream",
     "text": [
      "('wights: ', array([[[ 0.3299515 ],\n",
      "        [ 0.61033154],\n",
      "        [-0.91858023],\n",
      "        [ 0.79258454],\n",
      "        [ 0.33547732],\n",
      "        [ 0.367044  ],\n",
      "        [ 0.51160383],\n",
      "        [ 0.2537765 ],\n",
      "        [-0.22552976],\n",
      "        [ 0.44135788],\n",
      "        [ 0.4447429 ],\n",
      "        [ 0.7309333 ],\n",
      "        [ 0.59254324],\n",
      "        [ 0.11585502],\n",
      "        [-0.42361298],\n",
      "        [-0.32061455]]], dtype=float32))\n",
      "('bias: ', array([-1.5213469], dtype=float32))\n",
      "('config: ', {'padding': 'same', 'kernel_initializer': {'class_name': 'VarianceScaling', 'config': {'distribution': 'uniform', 'scale': 1.0, 'seed': None, 'mode': 'fan_avg'}}, 'name': 'conv1d_4', 'bias_regularizer': None, 'filters': 1, 'bias_constraint': None, 'activation': 'linear', 'trainable': True, 'data_format': 'channels_last', 'kernel_constraint': None, 'strides': (1,), 'dilation_rate': (1,), 'kernel_regularizer': None, 'bias_initializer': {'class_name': 'Zeros', 'config': {}}, 'use_bias': True, 'activity_regularizer': None, 'kernel_size': (1,)})\n"
     ]
    }
   ],
   "source": [
    "print(\"wights: \" ,model.get_layer(\"conv1d_4\").get_weights()[0])\n",
    "print(\"bias: \",model.get_layer(\"conv1d_4\").get_weights()[1])\n",
    "print(\"config: \",model.get_layer(\"conv1d_4\").get_config())"
   ]
  },
  {
   "cell_type": "markdown",
   "metadata": {},
   "source": [
    "Finally, lets save the model to the disk:"
   ]
  },
  {
   "cell_type": "code",
   "execution_count": 23,
   "metadata": {},
   "outputs": [],
   "source": [
    "model.save('data/my_model.h5')"
   ]
  }
 ],
 "metadata": {
  "kernelspec": {
   "display_name": "Python 2",
   "language": "python",
   "name": "python2"
  },
  "language_info": {
   "codemirror_mode": {
    "name": "ipython",
    "version": 2
   },
   "file_extension": ".py",
   "mimetype": "text/x-python",
   "name": "python",
   "nbconvert_exporter": "python",
   "pygments_lexer": "ipython2",
   "version": "2.7.16"
  }
 },
 "nbformat": 4,
 "nbformat_minor": 2
}
